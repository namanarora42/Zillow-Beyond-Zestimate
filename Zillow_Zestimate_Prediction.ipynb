{
  "cells": [
    {
      "cell_type": "code",
      "execution_count": 1,
      "metadata": {
        "id": "qhPNyBixPk4v"
      },
      "outputs": [],
      "source": [
        "import numpy as np\n",
        "import pandas as pd\n",
        "import altair as alt\n",
        "import seaborn as sns\n",
        "import matplotlib.pyplot as plt"
      ]
    },
    {
      "cell_type": "code",
      "source": [
        "from google.colab import drive\n",
        "drive.mount('/content/drive')"
      ],
      "metadata": {
        "colab": {
          "base_uri": "https://localhost:8080/"
        },
        "id": "9uj8jfNxPxPA",
        "outputId": "a5b2ab5f-4e76-42c0-c51f-4ebbcbd27978"
      },
      "execution_count": 2,
      "outputs": [
        {
          "output_type": "stream",
          "name": "stdout",
          "text": [
            "Mounted at /content/drive\n"
          ]
        }
      ]
    },
    {
      "cell_type": "code",
      "execution_count": 3,
      "metadata": {
        "colab": {
          "base_uri": "https://localhost:8080/"
        },
        "id": "mHg54JhqPk4y",
        "outputId": "25bccd89-d629-4e2b-e2a1-bae4ffbb2b3e"
      },
      "outputs": [
        {
          "output_type": "stream",
          "name": "stderr",
          "text": [
            "/usr/local/lib/python3.7/dist-packages/statsmodels/tools/_testing.py:19: FutureWarning: pandas.util.testing is deprecated. Use the functions in the public API at pandas.testing instead.\n",
            "  import pandas.util.testing as tm\n"
          ]
        }
      ],
      "source": [
        "from statsmodels.stats.outliers_influence import variance_inflation_factor\n",
        "from scipy.stats import ks_2samp\n",
        "from pandas.api.types import is_numeric_dtype\n",
        "\n",
        "def nulls(df, only_nulls = True):\n",
        "    '''\n",
        "    Returns what % of rows for each feature is nulls \\n\n",
        "    if only_nulls is set to True, only the features with any nulls in \n",
        "    them are returned. Default : True \\n\n",
        "    '''\n",
        "    ans = (100*round(df.isnull().sum()/len(df),4).sort_values(\n",
        "        ascending=False))\n",
        "    if only_nulls:\n",
        "        return ans[ans>0]\n",
        "    else:\n",
        "        return ans\n",
        "    \n",
        "def get_vif(df):\n",
        "    '''\n",
        "    Returns the Variance Inflation Factor for all the features \n",
        "    in the dataframe df\n",
        "    '''\n",
        "    df1 = df\n",
        "    # Removing non-numeric features from vif calculations\n",
        "    for column in list(df.columns):\n",
        "        if not is_numeric_dtype(df[column]):\n",
        "            df1.drop(column, axis = 1, inplace = True)\n",
        "    vif=pd.DataFrame()\n",
        "    vif['Features'] = df1.columns\n",
        "    vif['VIF'] = [variance_inflation_factor(df1.values, i) \n",
        "                                for i in range(df1.shape[1])]\n",
        "    vif['VIF'] = round(vif.VIF,2)\n",
        "    vif = vif.sort_values(by = 'VIF', ascending = False)\n",
        "    return vif\n",
        "\n",
        "def get_kss(df1, df2):\n",
        "    ks_stat, p_value = ks_2samp(\n",
        "        df1['logerror'].values, df2['logerror'].values\n",
        "    )\n",
        "    print('KS Statistic: %0.3f, P-Value: %0.3f' % (ks_stat, p_value))  "
      ]
    },
    {
      "cell_type": "markdown",
      "metadata": {
        "id": "BT0qk3jrPk42"
      },
      "source": [
        "## 1. Load the dataset"
      ]
    },
    {
      "cell_type": "code",
      "execution_count": 4,
      "metadata": {
        "colab": {
          "base_uri": "https://localhost:8080/",
          "height": 270
        },
        "id": "XERDTLLkPk45",
        "outputId": "ea292fc1-a16b-46bb-dbb5-bf30c07420be"
      },
      "outputs": [
        {
          "output_type": "execute_result",
          "data": {
            "text/html": [
              "\n",
              "  <div id=\"df-b88cebb8-967b-46c5-b3fd-b8bc411f7f5d\">\n",
              "    <div class=\"colab-df-container\">\n",
              "      <div>\n",
              "<style scoped>\n",
              "    .dataframe tbody tr th:only-of-type {\n",
              "        vertical-align: middle;\n",
              "    }\n",
              "\n",
              "    .dataframe tbody tr th {\n",
              "        vertical-align: top;\n",
              "    }\n",
              "\n",
              "    .dataframe thead th {\n",
              "        text-align: right;\n",
              "    }\n",
              "</style>\n",
              "<table border=\"1\" class=\"dataframe\">\n",
              "  <thead>\n",
              "    <tr style=\"text-align: right;\">\n",
              "      <th></th>\n",
              "      <th>parcelid</th>\n",
              "      <th>logerror</th>\n",
              "      <th>transactiondate</th>\n",
              "      <th>airconditioningtypeid</th>\n",
              "      <th>architecturalstyletypeid</th>\n",
              "      <th>basementsqft</th>\n",
              "      <th>bathroomcnt</th>\n",
              "      <th>bedroomcnt</th>\n",
              "      <th>buildingclasstypeid</th>\n",
              "      <th>buildingqualitytypeid</th>\n",
              "      <th>calculatedbathnbr</th>\n",
              "      <th>decktypeid</th>\n",
              "      <th>finishedfloor1squarefeet</th>\n",
              "      <th>calculatedfinishedsquarefeet</th>\n",
              "      <th>finishedsquarefeet12</th>\n",
              "      <th>finishedsquarefeet13</th>\n",
              "      <th>finishedsquarefeet15</th>\n",
              "      <th>finishedsquarefeet50</th>\n",
              "      <th>finishedsquarefeet6</th>\n",
              "      <th>fips</th>\n",
              "      <th>fireplacecnt</th>\n",
              "      <th>fullbathcnt</th>\n",
              "      <th>garagecarcnt</th>\n",
              "      <th>garagetotalsqft</th>\n",
              "      <th>hashottuborspa</th>\n",
              "      <th>heatingorsystemtypeid</th>\n",
              "      <th>latitude</th>\n",
              "      <th>longitude</th>\n",
              "      <th>lotsizesquarefeet</th>\n",
              "      <th>poolcnt</th>\n",
              "      <th>poolsizesum</th>\n",
              "      <th>pooltypeid10</th>\n",
              "      <th>pooltypeid2</th>\n",
              "      <th>pooltypeid7</th>\n",
              "      <th>propertycountylandusecode</th>\n",
              "      <th>propertylandusetypeid</th>\n",
              "      <th>propertyzoningdesc</th>\n",
              "      <th>rawcensustractandblock</th>\n",
              "      <th>regionidcity</th>\n",
              "      <th>regionidcounty</th>\n",
              "      <th>regionidneighborhood</th>\n",
              "      <th>regionidzip</th>\n",
              "      <th>roomcnt</th>\n",
              "      <th>storytypeid</th>\n",
              "      <th>threequarterbathnbr</th>\n",
              "      <th>typeconstructiontypeid</th>\n",
              "      <th>unitcnt</th>\n",
              "      <th>yardbuildingsqft17</th>\n",
              "      <th>yardbuildingsqft26</th>\n",
              "      <th>yearbuilt</th>\n",
              "      <th>numberofstories</th>\n",
              "      <th>fireplaceflag</th>\n",
              "      <th>structuretaxvaluedollarcnt</th>\n",
              "      <th>taxvaluedollarcnt</th>\n",
              "      <th>assessmentyear</th>\n",
              "      <th>landtaxvaluedollarcnt</th>\n",
              "      <th>taxamount</th>\n",
              "      <th>taxdelinquencyflag</th>\n",
              "      <th>taxdelinquencyyear</th>\n",
              "      <th>censustractandblock</th>\n",
              "    </tr>\n",
              "  </thead>\n",
              "  <tbody>\n",
              "    <tr>\n",
              "      <th>0</th>\n",
              "      <td>11016594</td>\n",
              "      <td>0.0276</td>\n",
              "      <td>2016-01-01</td>\n",
              "      <td>1.0</td>\n",
              "      <td>NaN</td>\n",
              "      <td>NaN</td>\n",
              "      <td>2.0</td>\n",
              "      <td>3.0</td>\n",
              "      <td>NaN</td>\n",
              "      <td>4.0</td>\n",
              "      <td>2.0</td>\n",
              "      <td>NaN</td>\n",
              "      <td>NaN</td>\n",
              "      <td>1684.0</td>\n",
              "      <td>1684.0</td>\n",
              "      <td>NaN</td>\n",
              "      <td>NaN</td>\n",
              "      <td>NaN</td>\n",
              "      <td>NaN</td>\n",
              "      <td>6037.0</td>\n",
              "      <td>NaN</td>\n",
              "      <td>2.0</td>\n",
              "      <td>NaN</td>\n",
              "      <td>NaN</td>\n",
              "      <td>NaN</td>\n",
              "      <td>2.0</td>\n",
              "      <td>34280992.0</td>\n",
              "      <td>-118488536.0</td>\n",
              "      <td>7528.0</td>\n",
              "      <td>NaN</td>\n",
              "      <td>NaN</td>\n",
              "      <td>NaN</td>\n",
              "      <td>NaN</td>\n",
              "      <td>NaN</td>\n",
              "      <td>0100</td>\n",
              "      <td>261.0</td>\n",
              "      <td>LARS</td>\n",
              "      <td>60371068.0</td>\n",
              "      <td>12447.0</td>\n",
              "      <td>3101.0</td>\n",
              "      <td>31817.0</td>\n",
              "      <td>96370.0</td>\n",
              "      <td>0.0</td>\n",
              "      <td>NaN</td>\n",
              "      <td>NaN</td>\n",
              "      <td>NaN</td>\n",
              "      <td>1.0</td>\n",
              "      <td>NaN</td>\n",
              "      <td>NaN</td>\n",
              "      <td>1959.0</td>\n",
              "      <td>NaN</td>\n",
              "      <td>NaN</td>\n",
              "      <td>122754.0</td>\n",
              "      <td>360170.0</td>\n",
              "      <td>2015.0</td>\n",
              "      <td>237416.0</td>\n",
              "      <td>6735.879883</td>\n",
              "      <td>NaN</td>\n",
              "      <td>NaN</td>\n",
              "      <td>6.037107e+13</td>\n",
              "    </tr>\n",
              "    <tr>\n",
              "      <th>1</th>\n",
              "      <td>14366692</td>\n",
              "      <td>-0.1684</td>\n",
              "      <td>2016-01-01</td>\n",
              "      <td>NaN</td>\n",
              "      <td>NaN</td>\n",
              "      <td>NaN</td>\n",
              "      <td>3.5</td>\n",
              "      <td>4.0</td>\n",
              "      <td>NaN</td>\n",
              "      <td>NaN</td>\n",
              "      <td>3.5</td>\n",
              "      <td>NaN</td>\n",
              "      <td>NaN</td>\n",
              "      <td>2263.0</td>\n",
              "      <td>2263.0</td>\n",
              "      <td>NaN</td>\n",
              "      <td>NaN</td>\n",
              "      <td>NaN</td>\n",
              "      <td>NaN</td>\n",
              "      <td>6059.0</td>\n",
              "      <td>NaN</td>\n",
              "      <td>3.0</td>\n",
              "      <td>2.0</td>\n",
              "      <td>468.0</td>\n",
              "      <td>NaN</td>\n",
              "      <td>NaN</td>\n",
              "      <td>33668120.0</td>\n",
              "      <td>-117677552.0</td>\n",
              "      <td>3643.0</td>\n",
              "      <td>NaN</td>\n",
              "      <td>NaN</td>\n",
              "      <td>NaN</td>\n",
              "      <td>NaN</td>\n",
              "      <td>NaN</td>\n",
              "      <td>1</td>\n",
              "      <td>261.0</td>\n",
              "      <td>NaN</td>\n",
              "      <td>60590524.0</td>\n",
              "      <td>32380.0</td>\n",
              "      <td>1286.0</td>\n",
              "      <td>NaN</td>\n",
              "      <td>96962.0</td>\n",
              "      <td>0.0</td>\n",
              "      <td>NaN</td>\n",
              "      <td>1.0</td>\n",
              "      <td>NaN</td>\n",
              "      <td>NaN</td>\n",
              "      <td>NaN</td>\n",
              "      <td>NaN</td>\n",
              "      <td>2014.0</td>\n",
              "      <td>NaN</td>\n",
              "      <td>NaN</td>\n",
              "      <td>346458.0</td>\n",
              "      <td>585529.0</td>\n",
              "      <td>2015.0</td>\n",
              "      <td>239071.0</td>\n",
              "      <td>10153.019531</td>\n",
              "      <td>NaN</td>\n",
              "      <td>NaN</td>\n",
              "      <td>NaN</td>\n",
              "    </tr>\n",
              "    <tr>\n",
              "      <th>2</th>\n",
              "      <td>12098116</td>\n",
              "      <td>-0.0040</td>\n",
              "      <td>2016-01-01</td>\n",
              "      <td>1.0</td>\n",
              "      <td>NaN</td>\n",
              "      <td>NaN</td>\n",
              "      <td>3.0</td>\n",
              "      <td>2.0</td>\n",
              "      <td>NaN</td>\n",
              "      <td>4.0</td>\n",
              "      <td>3.0</td>\n",
              "      <td>NaN</td>\n",
              "      <td>NaN</td>\n",
              "      <td>2217.0</td>\n",
              "      <td>2217.0</td>\n",
              "      <td>NaN</td>\n",
              "      <td>NaN</td>\n",
              "      <td>NaN</td>\n",
              "      <td>NaN</td>\n",
              "      <td>6037.0</td>\n",
              "      <td>NaN</td>\n",
              "      <td>3.0</td>\n",
              "      <td>NaN</td>\n",
              "      <td>NaN</td>\n",
              "      <td>NaN</td>\n",
              "      <td>2.0</td>\n",
              "      <td>34136312.0</td>\n",
              "      <td>-118175032.0</td>\n",
              "      <td>11423.0</td>\n",
              "      <td>NaN</td>\n",
              "      <td>NaN</td>\n",
              "      <td>NaN</td>\n",
              "      <td>NaN</td>\n",
              "      <td>NaN</td>\n",
              "      <td>0100</td>\n",
              "      <td>261.0</td>\n",
              "      <td>PSR6</td>\n",
              "      <td>60374640.0</td>\n",
              "      <td>47019.0</td>\n",
              "      <td>3101.0</td>\n",
              "      <td>275411.0</td>\n",
              "      <td>96293.0</td>\n",
              "      <td>0.0</td>\n",
              "      <td>NaN</td>\n",
              "      <td>NaN</td>\n",
              "      <td>NaN</td>\n",
              "      <td>1.0</td>\n",
              "      <td>NaN</td>\n",
              "      <td>NaN</td>\n",
              "      <td>1940.0</td>\n",
              "      <td>NaN</td>\n",
              "      <td>NaN</td>\n",
              "      <td>61994.0</td>\n",
              "      <td>119906.0</td>\n",
              "      <td>2015.0</td>\n",
              "      <td>57912.0</td>\n",
              "      <td>11484.480469</td>\n",
              "      <td>NaN</td>\n",
              "      <td>NaN</td>\n",
              "      <td>6.037464e+13</td>\n",
              "    </tr>\n",
              "    <tr>\n",
              "      <th>3</th>\n",
              "      <td>12643413</td>\n",
              "      <td>0.0218</td>\n",
              "      <td>2016-01-02</td>\n",
              "      <td>1.0</td>\n",
              "      <td>NaN</td>\n",
              "      <td>NaN</td>\n",
              "      <td>2.0</td>\n",
              "      <td>2.0</td>\n",
              "      <td>NaN</td>\n",
              "      <td>4.0</td>\n",
              "      <td>2.0</td>\n",
              "      <td>NaN</td>\n",
              "      <td>NaN</td>\n",
              "      <td>839.0</td>\n",
              "      <td>839.0</td>\n",
              "      <td>NaN</td>\n",
              "      <td>NaN</td>\n",
              "      <td>NaN</td>\n",
              "      <td>NaN</td>\n",
              "      <td>6037.0</td>\n",
              "      <td>NaN</td>\n",
              "      <td>2.0</td>\n",
              "      <td>NaN</td>\n",
              "      <td>NaN</td>\n",
              "      <td>NaN</td>\n",
              "      <td>2.0</td>\n",
              "      <td>33755800.0</td>\n",
              "      <td>-118309000.0</td>\n",
              "      <td>70859.0</td>\n",
              "      <td>NaN</td>\n",
              "      <td>NaN</td>\n",
              "      <td>NaN</td>\n",
              "      <td>NaN</td>\n",
              "      <td>NaN</td>\n",
              "      <td>010C</td>\n",
              "      <td>266.0</td>\n",
              "      <td>LAR3</td>\n",
              "      <td>60372964.0</td>\n",
              "      <td>12447.0</td>\n",
              "      <td>3101.0</td>\n",
              "      <td>54300.0</td>\n",
              "      <td>96222.0</td>\n",
              "      <td>0.0</td>\n",
              "      <td>NaN</td>\n",
              "      <td>NaN</td>\n",
              "      <td>NaN</td>\n",
              "      <td>1.0</td>\n",
              "      <td>NaN</td>\n",
              "      <td>NaN</td>\n",
              "      <td>1987.0</td>\n",
              "      <td>NaN</td>\n",
              "      <td>NaN</td>\n",
              "      <td>171518.0</td>\n",
              "      <td>244880.0</td>\n",
              "      <td>2015.0</td>\n",
              "      <td>73362.0</td>\n",
              "      <td>3048.739990</td>\n",
              "      <td>NaN</td>\n",
              "      <td>NaN</td>\n",
              "      <td>6.037296e+13</td>\n",
              "    </tr>\n",
              "    <tr>\n",
              "      <th>4</th>\n",
              "      <td>14432541</td>\n",
              "      <td>-0.0050</td>\n",
              "      <td>2016-01-02</td>\n",
              "      <td>NaN</td>\n",
              "      <td>NaN</td>\n",
              "      <td>NaN</td>\n",
              "      <td>2.5</td>\n",
              "      <td>4.0</td>\n",
              "      <td>NaN</td>\n",
              "      <td>NaN</td>\n",
              "      <td>2.5</td>\n",
              "      <td>NaN</td>\n",
              "      <td>NaN</td>\n",
              "      <td>2283.0</td>\n",
              "      <td>2283.0</td>\n",
              "      <td>NaN</td>\n",
              "      <td>NaN</td>\n",
              "      <td>NaN</td>\n",
              "      <td>NaN</td>\n",
              "      <td>6059.0</td>\n",
              "      <td>NaN</td>\n",
              "      <td>2.0</td>\n",
              "      <td>2.0</td>\n",
              "      <td>598.0</td>\n",
              "      <td>NaN</td>\n",
              "      <td>NaN</td>\n",
              "      <td>33485644.0</td>\n",
              "      <td>-117700232.0</td>\n",
              "      <td>6000.0</td>\n",
              "      <td>1.0</td>\n",
              "      <td>NaN</td>\n",
              "      <td>NaN</td>\n",
              "      <td>NaN</td>\n",
              "      <td>1.0</td>\n",
              "      <td>122</td>\n",
              "      <td>261.0</td>\n",
              "      <td>NaN</td>\n",
              "      <td>60590424.0</td>\n",
              "      <td>17686.0</td>\n",
              "      <td>1286.0</td>\n",
              "      <td>NaN</td>\n",
              "      <td>96961.0</td>\n",
              "      <td>8.0</td>\n",
              "      <td>NaN</td>\n",
              "      <td>1.0</td>\n",
              "      <td>NaN</td>\n",
              "      <td>NaN</td>\n",
              "      <td>NaN</td>\n",
              "      <td>NaN</td>\n",
              "      <td>1981.0</td>\n",
              "      <td>2.0</td>\n",
              "      <td>NaN</td>\n",
              "      <td>169574.0</td>\n",
              "      <td>434551.0</td>\n",
              "      <td>2015.0</td>\n",
              "      <td>264977.0</td>\n",
              "      <td>5488.959961</td>\n",
              "      <td>NaN</td>\n",
              "      <td>NaN</td>\n",
              "      <td>6.059042e+13</td>\n",
              "    </tr>\n",
              "  </tbody>\n",
              "</table>\n",
              "</div>\n",
              "      <button class=\"colab-df-convert\" onclick=\"convertToInteractive('df-b88cebb8-967b-46c5-b3fd-b8bc411f7f5d')\"\n",
              "              title=\"Convert this dataframe to an interactive table.\"\n",
              "              style=\"display:none;\">\n",
              "        \n",
              "  <svg xmlns=\"http://www.w3.org/2000/svg\" height=\"24px\"viewBox=\"0 0 24 24\"\n",
              "       width=\"24px\">\n",
              "    <path d=\"M0 0h24v24H0V0z\" fill=\"none\"/>\n",
              "    <path d=\"M18.56 5.44l.94 2.06.94-2.06 2.06-.94-2.06-.94-.94-2.06-.94 2.06-2.06.94zm-11 1L8.5 8.5l.94-2.06 2.06-.94-2.06-.94L8.5 2.5l-.94 2.06-2.06.94zm10 10l.94 2.06.94-2.06 2.06-.94-2.06-.94-.94-2.06-.94 2.06-2.06.94z\"/><path d=\"M17.41 7.96l-1.37-1.37c-.4-.4-.92-.59-1.43-.59-.52 0-1.04.2-1.43.59L10.3 9.45l-7.72 7.72c-.78.78-.78 2.05 0 2.83L4 21.41c.39.39.9.59 1.41.59.51 0 1.02-.2 1.41-.59l7.78-7.78 2.81-2.81c.8-.78.8-2.07 0-2.86zM5.41 20L4 18.59l7.72-7.72 1.47 1.35L5.41 20z\"/>\n",
              "  </svg>\n",
              "      </button>\n",
              "      \n",
              "  <style>\n",
              "    .colab-df-container {\n",
              "      display:flex;\n",
              "      flex-wrap:wrap;\n",
              "      gap: 12px;\n",
              "    }\n",
              "\n",
              "    .colab-df-convert {\n",
              "      background-color: #E8F0FE;\n",
              "      border: none;\n",
              "      border-radius: 50%;\n",
              "      cursor: pointer;\n",
              "      display: none;\n",
              "      fill: #1967D2;\n",
              "      height: 32px;\n",
              "      padding: 0 0 0 0;\n",
              "      width: 32px;\n",
              "    }\n",
              "\n",
              "    .colab-df-convert:hover {\n",
              "      background-color: #E2EBFA;\n",
              "      box-shadow: 0px 1px 2px rgba(60, 64, 67, 0.3), 0px 1px 3px 1px rgba(60, 64, 67, 0.15);\n",
              "      fill: #174EA6;\n",
              "    }\n",
              "\n",
              "    [theme=dark] .colab-df-convert {\n",
              "      background-color: #3B4455;\n",
              "      fill: #D2E3FC;\n",
              "    }\n",
              "\n",
              "    [theme=dark] .colab-df-convert:hover {\n",
              "      background-color: #434B5C;\n",
              "      box-shadow: 0px 1px 3px 1px rgba(0, 0, 0, 0.15);\n",
              "      filter: drop-shadow(0px 1px 2px rgba(0, 0, 0, 0.3));\n",
              "      fill: #FFFFFF;\n",
              "    }\n",
              "  </style>\n",
              "\n",
              "      <script>\n",
              "        const buttonEl =\n",
              "          document.querySelector('#df-b88cebb8-967b-46c5-b3fd-b8bc411f7f5d button.colab-df-convert');\n",
              "        buttonEl.style.display =\n",
              "          google.colab.kernel.accessAllowed ? 'block' : 'none';\n",
              "\n",
              "        async function convertToInteractive(key) {\n",
              "          const element = document.querySelector('#df-b88cebb8-967b-46c5-b3fd-b8bc411f7f5d');\n",
              "          const dataTable =\n",
              "            await google.colab.kernel.invokeFunction('convertToInteractive',\n",
              "                                                     [key], {});\n",
              "          if (!dataTable) return;\n",
              "\n",
              "          const docLinkHtml = 'Like what you see? Visit the ' +\n",
              "            '<a target=\"_blank\" href=https://colab.research.google.com/notebooks/data_table.ipynb>data table notebook</a>'\n",
              "            + ' to learn more about interactive tables.';\n",
              "          element.innerHTML = '';\n",
              "          dataTable['output_type'] = 'display_data';\n",
              "          await google.colab.output.renderOutput(dataTable, element);\n",
              "          const docLink = document.createElement('div');\n",
              "          docLink.innerHTML = docLinkHtml;\n",
              "          element.appendChild(docLink);\n",
              "        }\n",
              "      </script>\n",
              "    </div>\n",
              "  </div>\n",
              "  "
            ],
            "text/plain": [
              "   parcelid  logerror  ... taxdelinquencyyear  censustractandblock\n",
              "0  11016594    0.0276  ...                NaN         6.037107e+13\n",
              "1  14366692   -0.1684  ...                NaN                  NaN\n",
              "2  12098116   -0.0040  ...                NaN         6.037464e+13\n",
              "3  12643413    0.0218  ...                NaN         6.037296e+13\n",
              "4  14432541   -0.0050  ...                NaN         6.059042e+13\n",
              "\n",
              "[5 rows x 60 columns]"
            ]
          },
          "metadata": {},
          "execution_count": 4
        }
      ],
      "source": [
        "z_train = pd.read_csv(r'/content/drive/MyDrive/CMU Classwork/17634-Applied-Machine-Learning/train_2016.csv', low_memory=False)\n",
        "z_prop = pd.read_csv(r'/content/drive/MyDrive/CMU Classwork/17634-Applied-Machine-Learning/properties_2016.csv', low_memory=False)\n",
        "\n",
        "# Here make a minor adjustment to float32, where needed\n",
        "for c, dtype in zip(z_prop.columns, z_prop.dtypes):\n",
        "\tif dtype == np.float64:\n",
        "\t\tz_prop[c] = z_prop[c].astype(np.float32)\n",
        "\n",
        "'''\n",
        "The dataset df is the complete combined dataset. The response field\n",
        "is 'logerror', and the remaining fields are possible predictors\n",
        "'''\n",
        "        \n",
        "df = z_train.merge(z_prop, how='left', on='parcelid')\n",
        "df_orig = df.copy()\n",
        "df.head()"
      ]
    },
    {
      "cell_type": "markdown",
      "metadata": {
        "id": "CcLhwct8Pk48"
      },
      "source": [
        "Changing transaction date to datetime"
      ]
    },
    {
      "cell_type": "code",
      "execution_count": 5,
      "metadata": {
        "id": "ck7mabVFPk4-"
      },
      "outputs": [],
      "source": [
        "df['transactiondate'] = pd.to_datetime(df.transactiondate)"
      ]
    },
    {
      "cell_type": "markdown",
      "metadata": {
        "id": "ShdcFlGyPk4_"
      },
      "source": [
        "## 2. Missing value treatment"
      ]
    },
    {
      "cell_type": "code",
      "execution_count": 6,
      "metadata": {
        "colab": {
          "base_uri": "https://localhost:8080/"
        },
        "id": "KbF__p7wPk5B",
        "outputId": "89025c3d-50da-41f1-95ea-1fcd12eedc43"
      },
      "outputs": [
        {
          "output_type": "execute_result",
          "data": {
            "text/plain": [
              "buildingclasstypeid             99.98\n",
              "finishedsquarefeet13            99.96\n",
              "storytypeid                     99.95\n",
              "basementsqft                    99.95\n",
              "yardbuildingsqft26              99.89\n",
              "fireplaceflag                   99.75\n",
              "architecturalstyletypeid        99.71\n",
              "typeconstructiontypeid          99.67\n",
              "finishedsquarefeet6             99.53\n",
              "decktypeid                      99.27\n",
              "poolsizesum                     98.93\n",
              "pooltypeid10                    98.71\n",
              "pooltypeid2                     98.67\n",
              "taxdelinquencyyear              98.02\n",
              "taxdelinquencyflag              98.02\n",
              "hashottuborspa                  97.38\n",
              "yardbuildingsqft17              97.07\n",
              "finishedsquarefeet15            96.05\n",
              "finishedfloor1squarefeet        92.41\n",
              "finishedsquarefeet50            92.41\n",
              "fireplacecnt                    89.36\n",
              "threequarterbathnbr             86.70\n",
              "pooltypeid7                     81.50\n",
              "poolcnt                         80.17\n",
              "numberofstories                 77.21\n",
              "airconditioningtypeid           68.12\n",
              "garagecarcnt                    66.84\n",
              "garagetotalsqft                 66.84\n",
              "regionidneighborhood            60.11\n",
              "heatingorsystemtypeid           37.88\n",
              "buildingqualitytypeid           36.46\n",
              "propertyzoningdesc              35.41\n",
              "unitcnt                         35.36\n",
              "lotsizesquarefeet               11.24\n",
              "finishedsquarefeet12             5.18\n",
              "regionidcity                     2.00\n",
              "fullbathcnt                      1.31\n",
              "calculatedbathnbr                1.31\n",
              "yearbuilt                        0.84\n",
              "calculatedfinishedsquarefeet     0.73\n",
              "censustractandblock              0.67\n",
              "structuretaxvaluedollarcnt       0.42\n",
              "regionidzip                      0.04\n",
              "taxamount                        0.01\n",
              "dtype: float64"
            ]
          },
          "metadata": {},
          "execution_count": 6
        }
      ],
      "source": [
        "# Checking what % of each feature is nulls\n",
        "nulls(df, True)"
      ]
    },
    {
      "cell_type": "markdown",
      "metadata": {
        "id": "enWp3FTIPk5D"
      },
      "source": [
        "Features that are > 80% null"
      ]
    },
    {
      "cell_type": "code",
      "execution_count": 7,
      "metadata": {
        "colab": {
          "base_uri": "https://localhost:8080/"
        },
        "id": "lIXn2DYMPk5E",
        "outputId": "0536f6c1-864d-4ae3-d8df-e492f0672e62"
      },
      "outputs": [
        {
          "output_type": "stream",
          "name": "stdout",
          "text": [
            "4.0    16\n",
            "Name: buildingclasstypeid, dtype: int64\n",
            "99.98% nulls\n",
            "--------------------\n",
            "1440.0    17\n",
            "1344.0     3\n",
            "1248.0     3\n",
            "1392.0     2\n",
            "1536.0     2\n",
            "1566.0     1\n",
            "1464.0     1\n",
            "1152.0     1\n",
            "1584.0     1\n",
            "1416.0     1\n",
            "1056.0     1\n",
            "Name: finishedsquarefeet13, dtype: int64\n",
            "99.96000000000001% nulls\n",
            "--------------------\n",
            "7.0    43\n",
            "Name: storytypeid, dtype: int64\n",
            "99.95% nulls\n",
            "--------------------\n",
            "1528.0    3\n",
            "1312.0    2\n",
            "700.0     2\n",
            "515.0     1\n",
            "162.0     1\n",
            "616.0     1\n",
            "1551.0    1\n",
            "485.0     1\n",
            "238.0     1\n",
            "493.0     1\n",
            "760.0     1\n",
            "814.0     1\n",
            "196.0     1\n",
            "1350.0    1\n",
            "585.0     1\n",
            "234.0     1\n",
            "510.0     1\n",
            "579.0     1\n",
            "100.0     1\n",
            "608.0     1\n",
            "802.0     1\n",
            "312.0     1\n",
            "913.0     1\n",
            "690.0     1\n",
            "168.0     1\n",
            "671.0     1\n",
            "1555.0    1\n",
            "771.0     1\n",
            "831.0     1\n",
            "1048.0    1\n",
            "564.0     1\n",
            "330.0     1\n",
            "198.0     1\n",
            "676.0     1\n",
            "184.0     1\n",
            "540.0     1\n",
            "260.0     1\n",
            "557.0     1\n",
            "1210.0    1\n",
            "Name: basementsqft, dtype: int64\n",
            "99.95% nulls\n",
            "--------------------\n",
            "120.0    6\n",
            "60.0     3\n",
            "180.0    3\n",
            "125.0    3\n",
            "144.0    3\n",
            "        ..\n",
            "159.0    1\n",
            "126.0    1\n",
            "78.0     1\n",
            "642.0    1\n",
            "550.0    1\n",
            "Name: yardbuildingsqft26, Length: 73, dtype: int64\n",
            "99.89% nulls\n",
            "--------------------\n",
            "True    222\n",
            "Name: fireplaceflag, dtype: int64\n",
            "99.75% nulls\n",
            "--------------------\n",
            "7.0     221\n",
            "8.0      16\n",
            "2.0      11\n",
            "21.0      8\n",
            "3.0       4\n",
            "10.0      1\n",
            "Name: architecturalstyletypeid, dtype: int64\n",
            "99.71% nulls\n",
            "--------------------\n",
            "6.0     296\n",
            "4.0       2\n",
            "13.0      1\n",
            "Name: typeconstructiontypeid, dtype: int64\n",
            "99.67% nulls\n",
            "--------------------\n",
            "720.0     5\n",
            "4442.0    4\n",
            "3470.0    3\n",
            "572.0     3\n",
            "480.0     3\n",
            "         ..\n",
            "700.0     1\n",
            "2048.0    1\n",
            "2743.0    1\n",
            "2052.0    1\n",
            "1508.0    1\n",
            "Name: finishedsquarefeet6, Length: 360, dtype: int64\n",
            "99.53% nulls\n",
            "--------------------\n",
            "66.0    658\n",
            "Name: decktypeid, dtype: int64\n",
            "99.27% nulls\n",
            "--------------------\n",
            "450.0     105\n",
            "400.0      41\n",
            "800.0      39\n",
            "500.0      36\n",
            "600.0      35\n",
            "         ... \n",
            "631.0       1\n",
            "1220.0      1\n",
            "468.0       1\n",
            "745.0       1\n",
            "357.0       1\n",
            "Name: poolsizesum, Length: 273, dtype: int64\n",
            "98.92999999999999% nulls\n",
            "--------------------\n",
            "1.0    1161\n",
            "Name: pooltypeid10, dtype: int64\n",
            "98.71% nulls\n",
            "--------------------\n",
            "1.0    1204\n",
            "Name: pooltypeid2, dtype: int64\n",
            "98.67% nulls\n",
            "--------------------\n",
            "14.0    628\n",
            "15.0    518\n",
            "13.0    210\n",
            "12.0    154\n",
            "10.0     89\n",
            "11.0     85\n",
            "9.0      63\n",
            "8.0      24\n",
            "7.0       8\n",
            "6.0       3\n",
            "99.0      1\n",
            "Name: taxdelinquencyyear, dtype: int64\n",
            "98.02% nulls\n",
            "--------------------\n",
            "Y    1783\n",
            "Name: taxdelinquencyflag, dtype: int64\n",
            "98.02% nulls\n",
            "--------------------\n",
            "True    2365\n",
            "Name: hashottuborspa, dtype: int64\n",
            "97.38% nulls\n",
            "--------------------\n",
            "240.0     111\n",
            "200.0      87\n",
            "300.0      66\n",
            "120.0      55\n",
            "180.0      52\n",
            "         ... \n",
            "438.0       1\n",
            "1374.0      1\n",
            "1120.0      1\n",
            "843.0       1\n",
            "924.0       1\n",
            "Name: yardbuildingsqft17, Length: 567, dtype: int64\n",
            "97.07000000000001% nulls\n",
            "--------------------\n",
            "1680.0    15\n",
            "1536.0    12\n",
            "1364.0    11\n",
            "1488.0    10\n",
            "1936.0    10\n",
            "          ..\n",
            "2385.0     1\n",
            "1443.0     1\n",
            "1411.0     1\n",
            "4470.0     1\n",
            "2617.0     1\n",
            "Name: finishedsquarefeet15, Length: 1915, dtype: int64\n",
            "96.05% nulls\n",
            "--------------------\n",
            "1431.0    24\n",
            "1260.0    24\n",
            "817.0     24\n",
            "1226.0    24\n",
            "1104.0    21\n",
            "          ..\n",
            "674.0      1\n",
            "1914.0     1\n",
            "3492.0     1\n",
            "2459.0     1\n",
            "1774.0     1\n",
            "Name: finishedfloor1squarefeet, Length: 1886, dtype: int64\n",
            "92.41% nulls\n",
            "--------------------\n",
            "1431.0    24\n",
            "1226.0    24\n",
            "817.0     24\n",
            "1260.0    24\n",
            "1612.0    21\n",
            "          ..\n",
            "674.0      1\n",
            "1914.0     1\n",
            "3492.0     1\n",
            "2459.0     1\n",
            "1774.0     1\n",
            "Name: finishedsquarefeet50, Length: 1898, dtype: int64\n",
            "92.41% nulls\n",
            "--------------------\n",
            "1.0    8165\n",
            "2.0    1106\n",
            "3.0     312\n",
            "4.0      21\n",
            "5.0       3\n",
            "Name: fireplacecnt, dtype: int64\n",
            "89.36% nulls\n",
            "--------------------\n",
            "1.0    11912\n",
            "2.0       90\n",
            "3.0        6\n",
            "4.0        1\n",
            "Name: threequarterbathnbr, dtype: int64\n",
            "86.7% nulls\n",
            "--------------------\n",
            "1.0    16697\n",
            "Name: pooltypeid7, dtype: int64\n",
            "81.5% nulls\n",
            "--------------------\n",
            "1.0    17901\n",
            "Name: poolcnt, dtype: int64\n",
            "80.17% nulls\n",
            "--------------------\n"
          ]
        }
      ],
      "source": [
        "for feature in list(nulls(df)[nulls(df) > 80].index):\n",
        "    print(df[feature].value_counts())\n",
        "    print(str(nulls(df)[feature]) + '% nulls', end = '\\n' + '-'*20 + '\\n')"
      ]
    },
    {
      "cell_type": "markdown",
      "metadata": {
        "id": "VO-pWP7dPk5G"
      },
      "source": [
        "If we try imputing any of the above columns, we will end up with heavily skewed features that may not be beneficial for our model. Let's drop them."
      ]
    },
    {
      "cell_type": "code",
      "execution_count": 8,
      "metadata": {
        "colab": {
          "base_uri": "https://localhost:8080/"
        },
        "id": "KIy4ig1aPk5G",
        "outputId": "2f43dd58-c41a-45db-ea90-f292e88b41fe"
      },
      "outputs": [
        {
          "output_type": "execute_result",
          "data": {
            "text/plain": [
              "numberofstories                 77.21\n",
              "airconditioningtypeid           68.12\n",
              "garagecarcnt                    66.84\n",
              "garagetotalsqft                 66.84\n",
              "regionidneighborhood            60.11\n",
              "heatingorsystemtypeid           37.88\n",
              "buildingqualitytypeid           36.46\n",
              "propertyzoningdesc              35.41\n",
              "unitcnt                         35.36\n",
              "lotsizesquarefeet               11.24\n",
              "finishedsquarefeet12             5.18\n",
              "regionidcity                     2.00\n",
              "calculatedbathnbr                1.31\n",
              "fullbathcnt                      1.31\n",
              "yearbuilt                        0.84\n",
              "calculatedfinishedsquarefeet     0.73\n",
              "censustractandblock              0.67\n",
              "structuretaxvaluedollarcnt       0.42\n",
              "regionidzip                      0.04\n",
              "taxamount                        0.01\n",
              "dtype: float64"
            ]
          },
          "metadata": {},
          "execution_count": 8
        }
      ],
      "source": [
        "# Dropping features that have more than 80% nulls\n",
        "df.drop(\n",
        "    list(nulls(df)[nulls(df) > 80].index), \n",
        "    axis = 1,\n",
        "    inplace = True\n",
        ")\n",
        "nulls(df)"
      ]
    },
    {
      "cell_type": "markdown",
      "metadata": {
        "id": "esY8jZjnPk5I"
      },
      "source": [
        "For features with less than 5% of rows null, we can consider dropping the rows. Let's explore this."
      ]
    },
    {
      "cell_type": "code",
      "execution_count": 9,
      "metadata": {
        "id": "INA_oGYfPk5I"
      },
      "outputs": [],
      "source": [
        "df2 = df.copy()\n",
        "for column in list(nulls(df)[nulls(df) < 5].index):\n",
        "    df2 = df2[df2[column].notna()]"
      ]
    },
    {
      "cell_type": "code",
      "execution_count": 10,
      "metadata": {
        "colab": {
          "base_uri": "https://localhost:8080/"
        },
        "id": "cRfwz7YFPk5J",
        "outputId": "4d006327-be93-4b31-a045-4955ee0ff7ee"
      },
      "outputs": [
        {
          "output_type": "stream",
          "name": "stdout",
          "text": [
            "KS Statistic: 0.002, P-Value: 1.000\n"
          ]
        }
      ],
      "source": [
        "get_kss(df, df2)"
      ]
    },
    {
      "cell_type": "markdown",
      "metadata": {
        "id": "mC_RWoVjPk5K"
      },
      "source": [
        "The KS Statistic is low, and the p value is very high. Hence, we can conclude that the distribution of logerror is retained after dropping these rows. Thus, we can proceed the MCAR values"
      ]
    },
    {
      "cell_type": "code",
      "execution_count": 11,
      "metadata": {
        "colab": {
          "base_uri": "https://localhost:8080/"
        },
        "id": "1nryFUFRPk5L",
        "outputId": "ef4af4e0-3fbc-4d79-dcc9-b046e03d8028"
      },
      "outputs": [
        {
          "output_type": "execute_result",
          "data": {
            "text/plain": [
              "numberofstories          76.97\n",
              "airconditioningtypeid    68.21\n",
              "garagecarcnt             66.48\n",
              "garagetotalsqft          66.48\n",
              "regionidneighborhood     59.19\n",
              "heatingorsystemtypeid    37.20\n",
              "buildingqualitytypeid    35.85\n",
              "propertyzoningdesc       35.18\n",
              "unitcnt                  35.13\n",
              "lotsizesquarefeet        10.95\n",
              "finishedsquarefeet12      4.08\n",
              "dtype: float64"
            ]
          },
          "metadata": {},
          "execution_count": 11
        }
      ],
      "source": [
        "df = df2.copy()\n",
        "nulls(df)"
      ]
    },
    {
      "cell_type": "code",
      "execution_count": 12,
      "metadata": {
        "colab": {
          "base_uri": "https://localhost:8080/"
        },
        "id": "uzv0UvORPk5L",
        "outputId": "2445dce9-64e0-40d5-8da7-b3f58cd22f38"
      },
      "outputs": [
        {
          "output_type": "execute_result",
          "data": {
            "text/plain": [
              "96.39988922736084"
            ]
          },
          "metadata": {},
          "execution_count": 12
        }
      ],
      "source": [
        "# We still have 96% of the data retained\n",
        "df.shape[0]/df_orig.shape[0] * 100"
      ]
    },
    {
      "cell_type": "code",
      "execution_count": 13,
      "metadata": {
        "colab": {
          "base_uri": "https://localhost:8080/"
        },
        "id": "-e3s4FkcPk5M",
        "outputId": "ca10b80c-8bcc-4c8c-ebce-6abaa38d565c"
      },
      "outputs": [
        {
          "output_type": "stream",
          "name": "stdout",
          "text": [
            "1.0    11807\n",
            "2.0     7737\n",
            "3.0      494\n",
            "4.0        2\n",
            "Name: numberofstories, dtype: int64\n",
            "76.97% nulls\n",
            "--------------------\n",
            "1.0     25598\n",
            "13.0     1798\n",
            "5.0       207\n",
            "11.0       63\n",
            "9.0         1\n",
            "3.0         1\n",
            "Name: airconditioningtypeid, dtype: int64\n",
            "68.21000000000001% nulls\n",
            "--------------------\n",
            "2.0     21510\n",
            "1.0      6571\n",
            "3.0       648\n",
            "4.0       254\n",
            "0.0        92\n",
            "5.0        53\n",
            "6.0        14\n",
            "7.0        11\n",
            "8.0         7\n",
            "9.0         5\n",
            "11.0        2\n",
            "10.0        2\n",
            "24.0        1\n",
            "13.0        1\n",
            "14.0        1\n",
            "Name: garagecarcnt, dtype: int64\n",
            "66.47999999999999% nulls\n",
            "--------------------\n",
            "0.0       8857\n",
            "400.0      945\n",
            "441.0      793\n",
            "462.0      720\n",
            "360.0      720\n",
            "          ... \n",
            "1142.0       1\n",
            "296.0        1\n",
            "983.0        1\n",
            "359.0        1\n",
            "1027.0       1\n",
            "Name: garagetotalsqft, Length: 862, dtype: int64\n",
            "66.47999999999999% nulls\n",
            "--------------------\n",
            "118208.0    766\n",
            "48570.0     752\n",
            "27080.0     748\n",
            "37739.0     696\n",
            "48200.0     652\n",
            "           ... \n",
            "761098.0      1\n",
            "764136.0      1\n",
            "763791.0      1\n",
            "762949.0      1\n",
            "762937.0      1\n",
            "Name: regionidneighborhood, Length: 491, dtype: int64\n",
            "59.19% nulls\n",
            "--------------------\n",
            "2.0     37137\n",
            "7.0     15313\n",
            "24.0     1065\n",
            "6.0       957\n",
            "13.0       75\n",
            "20.0       58\n",
            "18.0       25\n",
            "1.0        13\n",
            "14.0        2\n",
            "10.0        2\n",
            "11.0        1\n",
            "12.0        1\n",
            "Name: heatingorsystemtypeid, dtype: int64\n",
            "37.2% nulls\n",
            "--------------------\n",
            "7.0     28885\n",
            "4.0     22908\n",
            "1.0      2513\n",
            "10.0     1397\n",
            "12.0      116\n",
            "8.0         4\n",
            "6.0         1\n",
            "11.0        1\n",
            "Name: buildingqualitytypeid, dtype: int64\n",
            "35.85% nulls\n",
            "--------------------\n",
            "LAR1          7632\n",
            "LAR3          2779\n",
            "LARS          1500\n",
            "LBR1N         1447\n",
            "LARD1.5       1278\n",
            "              ... \n",
            "BGC4*            1\n",
            "CVRD2000-R       1\n",
            "SPR2B10000       1\n",
            "LARA-1*          1\n",
            "LNR2RPD-R3       1\n",
            "Name: propertyzoningdesc, Length: 1944, dtype: int64\n",
            "35.18% nulls\n",
            "--------------------\n",
            "1.0      53052\n",
            "2.0       2115\n",
            "4.0        725\n",
            "3.0        559\n",
            "6.0          1\n",
            "143.0        1\n",
            "11.0         1\n",
            "5.0          1\n",
            "70.0         1\n",
            "Name: unitcnt, dtype: int64\n",
            "35.13% nulls\n",
            "--------------------\n",
            "6000.0      1124\n",
            "5000.0       465\n",
            "7200.0       353\n",
            "7000.0       347\n",
            "6500.0       288\n",
            "            ... \n",
            "17551.0        1\n",
            "3151.0         1\n",
            "1851.0         1\n",
            "47122.0        1\n",
            "156910.0       1\n",
            "Name: lotsizesquarefeet, Length: 19573, dtype: int64\n",
            "10.95% nulls\n",
            "--------------------\n",
            "1200.0     183\n",
            "1080.0     175\n",
            "1120.0     151\n",
            "1280.0     144\n",
            "1300.0     144\n",
            "          ... \n",
            "8020.0       1\n",
            "5324.0       1\n",
            "5605.0       1\n",
            "8220.0       1\n",
            "10014.0      1\n",
            "Name: finishedsquarefeet12, Length: 4918, dtype: int64\n",
            "4.08% nulls\n",
            "--------------------\n"
          ]
        }
      ],
      "source": [
        "for feature in list(nulls(df).index):\n",
        "    print(df[feature].value_counts())\n",
        "    print(str(nulls(df)[feature]) + '% nulls', end = '\\n' + '-'*20 + '\\n')"
      ]
    },
    {
      "cell_type": "code",
      "execution_count": 14,
      "metadata": {
        "colab": {
          "base_uri": "https://localhost:8080/"
        },
        "id": "c5_KsMsXPk5M",
        "outputId": "740e50fd-b24a-4e87-a7a4-8f8ae1482be5"
      },
      "outputs": [
        {
          "output_type": "execute_result",
          "data": {
            "text/plain": [
              "numberofstories          76.97\n",
              "airconditioningtypeid    68.21\n",
              "garagecarcnt             66.48\n",
              "garagetotalsqft          66.48\n",
              "regionidneighborhood     59.19\n",
              "heatingorsystemtypeid    37.20\n",
              "buildingqualitytypeid    35.85\n",
              "propertyzoningdesc       35.18\n",
              "unitcnt                  35.13\n",
              "lotsizesquarefeet        10.95\n",
              "finishedsquarefeet12      4.08\n",
              "dtype: float64"
            ]
          },
          "metadata": {},
          "execution_count": 14
        }
      ],
      "source": [
        "nulls(df)"
      ]
    },
    {
      "cell_type": "code",
      "execution_count": 15,
      "metadata": {
        "colab": {
          "base_uri": "https://localhost:8080/"
        },
        "id": "ZyXs_PZwPk5O",
        "outputId": "4cefd209-4736-4ffb-9526-3ae8645aa13e"
      },
      "outputs": [
        {
          "output_type": "execute_result",
          "data": {
            "text/plain": [
              "1.0    11807\n",
              "2.0     7737\n",
              "3.0      494\n",
              "4.0        2\n",
              "Name: numberofstories, dtype: int64"
            ]
          },
          "metadata": {},
          "execution_count": 15
        }
      ],
      "source": [
        "# Let us explore number of stories\n",
        "df.numberofstories.value_counts()"
      ]
    },
    {
      "cell_type": "markdown",
      "metadata": {
        "id": "JRtW32ASPk5O"
      },
      "source": [
        "The nulls here cannot mean 0s. (it does not make sense to have a house with 0 levels)"
      ]
    },
    {
      "cell_type": "code",
      "execution_count": 16,
      "metadata": {
        "colab": {
          "base_uri": "https://localhost:8080/"
        },
        "id": "akbvNf4dPk5P",
        "outputId": "fd2d6b8b-357a-49d6-b43d-e68136021fd3"
      },
      "outputs": [
        {
          "output_type": "execute_result",
          "data": {
            "text/plain": [
              "airconditioningtypeid    68.21\n",
              "garagetotalsqft          66.48\n",
              "garagecarcnt             66.48\n",
              "regionidneighborhood     59.19\n",
              "heatingorsystemtypeid    37.20\n",
              "buildingqualitytypeid    35.85\n",
              "propertyzoningdesc       35.18\n",
              "unitcnt                  35.13\n",
              "lotsizesquarefeet        10.95\n",
              "finishedsquarefeet12      4.08\n",
              "dtype: float64"
            ]
          },
          "metadata": {},
          "execution_count": 16
        }
      ],
      "source": [
        "# Imputing with mode\n",
        "df['numberofstories'] = df['numberofstories'].fillna(\n",
        "    df.numberofstories.mode()[0]\n",
        ")\n",
        "nulls(df)"
      ]
    },
    {
      "cell_type": "code",
      "execution_count": 17,
      "metadata": {
        "colab": {
          "base_uri": "https://localhost:8080/"
        },
        "id": "vNqAONdvPk5Q",
        "outputId": "10811757-8733-429d-a5c9-29ef2a6bbdfc"
      },
      "outputs": [
        {
          "output_type": "execute_result",
          "data": {
            "text/plain": [
              "1.0     25598\n",
              "13.0     1798\n",
              "5.0       207\n",
              "11.0       63\n",
              "9.0         1\n",
              "3.0         1\n",
              "Name: airconditioningtypeid, dtype: int64"
            ]
          },
          "metadata": {},
          "execution_count": 17
        }
      ],
      "source": [
        "# Exploring airconditioningtypeid\n",
        "df.airconditioningtypeid.value_counts()"
      ]
    },
    {
      "cell_type": "code",
      "execution_count": 18,
      "metadata": {
        "colab": {
          "base_uri": "https://localhost:8080/"
        },
        "id": "u9BHP7smPk5Q",
        "outputId": "e2b12c3f-da1b-472c-9201-419abe4d05c5"
      },
      "outputs": [
        {
          "output_type": "execute_result",
          "data": {
            "text/plain": [
              "garagecarcnt             66.48\n",
              "garagetotalsqft          66.48\n",
              "regionidneighborhood     59.19\n",
              "heatingorsystemtypeid    37.20\n",
              "buildingqualitytypeid    35.85\n",
              "propertyzoningdesc       35.18\n",
              "unitcnt                  35.13\n",
              "lotsizesquarefeet        10.95\n",
              "finishedsquarefeet12      4.08\n",
              "dtype: float64"
            ]
          },
          "metadata": {},
          "execution_count": 18
        }
      ],
      "source": [
        "# Impute with mode\n",
        "df['airconditioningtypeid'] = df['airconditioningtypeid'].fillna(\n",
        "    df.airconditioningtypeid.mode()[0]\n",
        ")\n",
        "nulls(df)"
      ]
    },
    {
      "cell_type": "code",
      "execution_count": 19,
      "metadata": {
        "colab": {
          "base_uri": "https://localhost:8080/"
        },
        "id": "76_aoA_8Pk5R",
        "outputId": "8bfe2984-3691-4d52-e422-0b6b8b3d5621"
      },
      "outputs": [
        {
          "output_type": "execute_result",
          "data": {
            "text/plain": [
              "2.0     21510\n",
              "1.0      6571\n",
              "3.0       648\n",
              "4.0       254\n",
              "0.0        92\n",
              "5.0        53\n",
              "6.0        14\n",
              "7.0        11\n",
              "8.0         7\n",
              "9.0         5\n",
              "11.0        2\n",
              "10.0        2\n",
              "24.0        1\n",
              "13.0        1\n",
              "14.0        1\n",
              "Name: garagecarcnt, dtype: int64"
            ]
          },
          "metadata": {},
          "execution_count": 19
        }
      ],
      "source": [
        "df.garagecarcnt.value_counts()"
      ]
    },
    {
      "cell_type": "code",
      "execution_count": 20,
      "metadata": {
        "colab": {
          "base_uri": "https://localhost:8080/"
        },
        "id": "7cZHYuNePk5S",
        "outputId": "a9b87559-c5e8-4729-89f7-ded51b93f37d"
      },
      "outputs": [
        {
          "output_type": "execute_result",
          "data": {
            "text/plain": [
              "garagetotalsqft          66.48\n",
              "regionidneighborhood     59.19\n",
              "heatingorsystemtypeid    37.20\n",
              "buildingqualitytypeid    35.85\n",
              "propertyzoningdesc       35.18\n",
              "unitcnt                  35.13\n",
              "lotsizesquarefeet        10.95\n",
              "finishedsquarefeet12      4.08\n",
              "dtype: float64"
            ]
          },
          "metadata": {},
          "execution_count": 20
        }
      ],
      "source": [
        "# Impute with mode\n",
        "df['garagecarcnt'] = df['garagecarcnt'].fillna(\n",
        "    df.garagecarcnt.mode()[0]\n",
        ")\n",
        "nulls(df)"
      ]
    },
    {
      "cell_type": "code",
      "execution_count": 21,
      "metadata": {
        "colab": {
          "base_uri": "https://localhost:8080/"
        },
        "id": "oWuGszYOPk5S",
        "outputId": "07ade5ff-7f52-4302-a703-6cee0ed0c189"
      },
      "outputs": [
        {
          "output_type": "execute_result",
          "data": {
            "text/plain": [
              "count    29172.000000\n",
              "mean       347.290283\n",
              "std        266.117279\n",
              "min          0.000000\n",
              "25%          0.000000\n",
              "50%        434.000000\n",
              "75%        484.000000\n",
              "max       7339.000000\n",
              "Name: garagetotalsqft, dtype: float64"
            ]
          },
          "metadata": {},
          "execution_count": 21
        }
      ],
      "source": [
        "df.garagetotalsqft.describe()"
      ]
    },
    {
      "cell_type": "code",
      "execution_count": 22,
      "metadata": {
        "colab": {
          "base_uri": "https://localhost:8080/"
        },
        "id": "-iVjbFQePk5T",
        "outputId": "4daeaf22-c0b9-4e0c-c9bb-233c5608bdff"
      },
      "outputs": [
        {
          "output_type": "execute_result",
          "data": {
            "text/plain": [
              "[2.0,\n",
              " 1.0,\n",
              " 3.0,\n",
              " 4.0,\n",
              " 0.0,\n",
              " 5.0,\n",
              " 6.0,\n",
              " 7.0,\n",
              " 8.0,\n",
              " 9.0,\n",
              " 11.0,\n",
              " 10.0,\n",
              " 24.0,\n",
              " 13.0,\n",
              " 14.0]"
            ]
          },
          "metadata": {},
          "execution_count": 22
        }
      ],
      "source": [
        "garage_counts = list(df.garagecarcnt.value_counts().index)\n",
        "garage_counts"
      ]
    },
    {
      "cell_type": "markdown",
      "metadata": {
        "id": "85I3r26aPk5T"
      },
      "source": [
        "Finding the mean area of garage for each kind of garage"
      ]
    },
    {
      "cell_type": "code",
      "execution_count": 23,
      "metadata": {
        "colab": {
          "base_uri": "https://localhost:8080/"
        },
        "id": "NUVR7n0qPk5U",
        "outputId": "9121c4f6-9e2f-451e-c867-ddf72d29196c"
      },
      "outputs": [
        {
          "output_type": "execute_result",
          "data": {
            "text/plain": [
              "{0.0: 1.3695652484893799,\n",
              " 1.0: 124.26860809326172,\n",
              " 2.0: 390.60693359375,\n",
              " 3.0: 759.504638671875,\n",
              " 4.0: 976.720458984375,\n",
              " 5.0: 1303.4150390625,\n",
              " 6.0: 1632.357177734375,\n",
              " 7.0: 1982.3636474609375,\n",
              " 8.0: 2313.0,\n",
              " 9.0: 2738.0,\n",
              " 10.0: 3077.0,\n",
              " 11.0: 3355.0,\n",
              " 13.0: 4048.0,\n",
              " 14.0: 4384.0,\n",
              " 24.0: 7339.0}"
            ]
          },
          "metadata": {},
          "execution_count": 23
        }
      ],
      "source": [
        "mean_garage_areas = { count : df[df.garagecarcnt == count]\n",
        "                                ['garagetotalsqft'].mean()\n",
        "                                for count in garage_counts}\n",
        "mean_garage_areas"
      ]
    },
    {
      "cell_type": "markdown",
      "metadata": {
        "id": "VGxQZ7-OPk5U"
      },
      "source": [
        "Imputing null values for garagetotalsqft using mean of area of each kind of garage"
      ]
    },
    {
      "cell_type": "code",
      "execution_count": 24,
      "metadata": {
        "colab": {
          "base_uri": "https://localhost:8080/"
        },
        "id": "o0k5dXRYPk5U",
        "outputId": "20677c2c-f671-49ca-e647-d5a55cc8d489"
      },
      "outputs": [
        {
          "output_type": "execute_result",
          "data": {
            "text/plain": [
              "regionidneighborhood     59.19\n",
              "heatingorsystemtypeid    37.20\n",
              "buildingqualitytypeid    35.85\n",
              "propertyzoningdesc       35.18\n",
              "unitcnt                  35.13\n",
              "lotsizesquarefeet        10.95\n",
              "finishedsquarefeet12      4.08\n",
              "dtype: float64"
            ]
          },
          "metadata": {},
          "execution_count": 24
        }
      ],
      "source": [
        "df.loc[df.garagetotalsqft.isna(), 'garagetotalsqft'] = \\\n",
        "    df[df.garagetotalsqft.isna()].garagecarcnt.apply(\n",
        "        lambda x : mean_garage_areas[x]\n",
        "    )\n",
        "nulls(df)"
      ]
    },
    {
      "cell_type": "markdown",
      "metadata": {
        "id": "w1PgUcICPk5V"
      },
      "source": [
        "Exploring regionidneighborhood"
      ]
    },
    {
      "cell_type": "code",
      "execution_count": 25,
      "metadata": {
        "colab": {
          "base_uri": "https://localhost:8080/"
        },
        "id": "m4Uktg0PPk5V",
        "outputId": "8c085860-0539-44c6-c132-c7f71b9961b7"
      },
      "outputs": [
        {
          "output_type": "execute_result",
          "data": {
            "text/plain": [
              "118208.0    766\n",
              "48570.0     752\n",
              "27080.0     748\n",
              "37739.0     696\n",
              "48200.0     652\n",
              "           ... \n",
              "761098.0      1\n",
              "764136.0      1\n",
              "763791.0      1\n",
              "762949.0      1\n",
              "762937.0      1\n",
              "Name: regionidneighborhood, Length: 491, dtype: int64"
            ]
          },
          "metadata": {},
          "execution_count": 25
        }
      ],
      "source": [
        "df.regionidneighborhood.value_counts()"
      ]
    },
    {
      "cell_type": "code",
      "execution_count": 26,
      "metadata": {
        "colab": {
          "base_uri": "https://localhost:8080/"
        },
        "id": "dK5uIYdJPk5W",
        "outputId": "0fffe994-2450-4862-891f-b47c5f289614"
      },
      "outputs": [
        {
          "output_type": "execute_result",
          "data": {
            "text/plain": [
              "heatingorsystemtypeid    37.20\n",
              "buildingqualitytypeid    35.85\n",
              "propertyzoningdesc       35.18\n",
              "unitcnt                  35.13\n",
              "lotsizesquarefeet        10.95\n",
              "finishedsquarefeet12      4.08\n",
              "dtype: float64"
            ]
          },
          "metadata": {},
          "execution_count": 26
        }
      ],
      "source": [
        "# Imputing regionID with mode\n",
        "df.regionidneighborhood.fillna(\n",
        "    df.regionidneighborhood.value_counts().index[0],\n",
        "    inplace = True\n",
        ")\n",
        "nulls(df)"
      ]
    },
    {
      "cell_type": "markdown",
      "metadata": {
        "id": "W57-gVCMPk5X"
      },
      "source": [
        "Exploring heatingorsystemtypeid    "
      ]
    },
    {
      "cell_type": "code",
      "execution_count": 27,
      "metadata": {
        "colab": {
          "base_uri": "https://localhost:8080/"
        },
        "id": "sHf94KusPk5Y",
        "outputId": "d0162779-95e5-4997-c36f-4ab624c15155"
      },
      "outputs": [
        {
          "output_type": "execute_result",
          "data": {
            "text/plain": [
              "2.0     37137\n",
              "7.0     15313\n",
              "24.0     1065\n",
              "6.0       957\n",
              "13.0       75\n",
              "20.0       58\n",
              "18.0       25\n",
              "1.0        13\n",
              "14.0        2\n",
              "10.0        2\n",
              "11.0        1\n",
              "12.0        1\n",
              "Name: heatingorsystemtypeid, dtype: int64"
            ]
          },
          "metadata": {},
          "execution_count": 27
        }
      ],
      "source": [
        "df.heatingorsystemtypeid.value_counts()"
      ]
    },
    {
      "cell_type": "code",
      "execution_count": 28,
      "metadata": {
        "colab": {
          "base_uri": "https://localhost:8080/"
        },
        "id": "IahDa9AjPk5Y",
        "outputId": "6a9927a2-2d49-4c31-b275-5ed46be07c16"
      },
      "outputs": [
        {
          "output_type": "execute_result",
          "data": {
            "text/plain": [
              "buildingqualitytypeid    35.85\n",
              "propertyzoningdesc       35.18\n",
              "unitcnt                  35.13\n",
              "lotsizesquarefeet        10.95\n",
              "finishedsquarefeet12      4.08\n",
              "dtype: float64"
            ]
          },
          "metadata": {},
          "execution_count": 28
        }
      ],
      "source": [
        "# Imputing with mode\n",
        "df.heatingorsystemtypeid.fillna(\n",
        "    df.heatingorsystemtypeid.value_counts().index[0],\n",
        "    inplace = True\n",
        ")\n",
        "nulls(df)"
      ]
    },
    {
      "cell_type": "markdown",
      "metadata": {
        "id": "5aPOAnmGPk5Z"
      },
      "source": [
        "Exploring buildingqualitytypeid    "
      ]
    },
    {
      "cell_type": "code",
      "execution_count": 29,
      "metadata": {
        "colab": {
          "base_uri": "https://localhost:8080/"
        },
        "id": "Si-zG7jrPk5Z",
        "outputId": "270b5d45-7ac8-46b9-eacb-f066ca15c75c"
      },
      "outputs": [
        {
          "output_type": "execute_result",
          "data": {
            "text/plain": [
              "7.0     28885\n",
              "4.0     22908\n",
              "1.0      2513\n",
              "10.0     1397\n",
              "12.0      116\n",
              "8.0         4\n",
              "6.0         1\n",
              "11.0        1\n",
              "Name: buildingqualitytypeid, dtype: int64"
            ]
          },
          "metadata": {},
          "execution_count": 29
        }
      ],
      "source": [
        "df.buildingqualitytypeid.value_counts()"
      ]
    },
    {
      "cell_type": "markdown",
      "metadata": {
        "id": "YMbIINTnPk5a"
      },
      "source": [
        "Checking if buildingqualitytypeid is MCAR"
      ]
    },
    {
      "cell_type": "code",
      "execution_count": 30,
      "metadata": {
        "colab": {
          "base_uri": "https://localhost:8080/"
        },
        "id": "gCQLVh48Pk5a",
        "outputId": "ad99f673-0dd4-4331-ef66-68bb9a93d85a"
      },
      "outputs": [
        {
          "output_type": "stream",
          "name": "stdout",
          "text": [
            "KS Statistic: 0.028, P-Value: 0.000\n"
          ]
        }
      ],
      "source": [
        "get_kss(\n",
        "    df.loc[df.buildingqualitytypeid.notna(),:],\n",
        "    df\n",
        ")"
      ]
    },
    {
      "cell_type": "markdown",
      "metadata": {
        "id": "P-ofYqJoPk5a"
      },
      "source": [
        "The p-value is very low, so it is not MCAR."
      ]
    },
    {
      "cell_type": "markdown",
      "metadata": {
        "id": "FfcolaZSPk5b"
      },
      "source": [
        "Examining propertyzoningdesc"
      ]
    },
    {
      "cell_type": "code",
      "execution_count": 31,
      "metadata": {
        "colab": {
          "base_uri": "https://localhost:8080/"
        },
        "id": "wt1--17wPk5b",
        "outputId": "650eb4da-aaf1-4253-845f-e47b123998e6"
      },
      "outputs": [
        {
          "output_type": "execute_result",
          "data": {
            "text/plain": [
              "count     56408\n",
              "unique     1944\n",
              "top        LAR1\n",
              "freq       7632\n",
              "Name: propertyzoningdesc, dtype: object"
            ]
          },
          "metadata": {},
          "execution_count": 31
        }
      ],
      "source": [
        "df.propertyzoningdesc.describe()"
      ]
    },
    {
      "cell_type": "markdown",
      "metadata": {
        "id": "upzpaRnLPk5c"
      },
      "source": [
        "This column may not be of much value, and some of it would be covered by propertylandusetypeid\n",
        "\n",
        "Hence, dropping it."
      ]
    },
    {
      "cell_type": "code",
      "execution_count": 32,
      "metadata": {
        "colab": {
          "base_uri": "https://localhost:8080/"
        },
        "id": "HvVMUupcPk5c",
        "outputId": "525096b0-88b9-4c10-b0b8-f71fa6c1b7b6"
      },
      "outputs": [
        {
          "output_type": "execute_result",
          "data": {
            "text/plain": [
              "buildingqualitytypeid    35.85\n",
              "unitcnt                  35.13\n",
              "lotsizesquarefeet        10.95\n",
              "finishedsquarefeet12      4.08\n",
              "dtype: float64"
            ]
          },
          "metadata": {},
          "execution_count": 32
        }
      ],
      "source": [
        "df.drop('propertyzoningdesc', axis = 1, inplace = True)\n",
        "nulls(df)"
      ]
    },
    {
      "cell_type": "markdown",
      "metadata": {
        "id": "tG3ZVDr3Pk5d"
      },
      "source": [
        "Exploring unitcnt"
      ]
    },
    {
      "cell_type": "code",
      "execution_count": 33,
      "metadata": {
        "colab": {
          "base_uri": "https://localhost:8080/"
        },
        "id": "_Ud1qomfPk5d",
        "outputId": "d34f3275-b8ad-45bc-ded5-65d8ca16d45b"
      },
      "outputs": [
        {
          "output_type": "execute_result",
          "data": {
            "text/plain": [
              "1.0      53052\n",
              "2.0       2115\n",
              "4.0        725\n",
              "3.0        559\n",
              "6.0          1\n",
              "143.0        1\n",
              "11.0         1\n",
              "5.0          1\n",
              "70.0         1\n",
              "Name: unitcnt, dtype: int64"
            ]
          },
          "metadata": {},
          "execution_count": 33
        }
      ],
      "source": [
        "df.unitcnt.value_counts()"
      ]
    },
    {
      "cell_type": "code",
      "execution_count": 34,
      "metadata": {
        "colab": {
          "base_uri": "https://localhost:8080/"
        },
        "id": "gogbdfJ7Pk5d",
        "outputId": "cc1c5201-6895-4e95-b8af-04622281ad7e"
      },
      "outputs": [
        {
          "output_type": "execute_result",
          "data": {
            "text/plain": [
              "buildingqualitytypeid    35.85\n",
              "lotsizesquarefeet        10.95\n",
              "finishedsquarefeet12      4.08\n",
              "dtype: float64"
            ]
          },
          "metadata": {},
          "execution_count": 34
        }
      ],
      "source": [
        "# Imputing mode\n",
        "df.unitcnt.fillna(\n",
        "    df.unitcnt.value_counts().index[0],\n",
        "    inplace = True\n",
        ")\n",
        "nulls(df)"
      ]
    },
    {
      "cell_type": "code",
      "execution_count": 35,
      "metadata": {
        "colab": {
          "base_uri": "https://localhost:8080/"
        },
        "id": "RZOIEChfPk5e",
        "outputId": "ff436ec7-ea87-4de9-87a5-52bd9cf2d7b5"
      },
      "outputs": [
        {
          "output_type": "stream",
          "name": "stdout",
          "text": [
            "KS Statistic: 0.007, P-Value: 0.050\n"
          ]
        }
      ],
      "source": [
        "get_kss(\n",
        "    df.loc[df.lotsizesquarefeet.notna(),:],\n",
        "    df\n",
        ")"
      ]
    },
    {
      "cell_type": "markdown",
      "metadata": {
        "id": "-lQxJ6mZPk5e"
      },
      "source": [
        "The p-value is at borderline 0.05, let's go ahead with dropping these rows. "
      ]
    },
    {
      "cell_type": "code",
      "execution_count": 36,
      "metadata": {
        "colab": {
          "base_uri": "https://localhost:8080/"
        },
        "id": "-cCztHzvPk5f",
        "outputId": "0ba2a6be-ea10-41b0-e6fd-62ae3f0ee7c5"
      },
      "outputs": [
        {
          "output_type": "execute_result",
          "data": {
            "text/plain": [
              "buildingqualitytypeid    29.56\n",
              "finishedsquarefeet12      4.55\n",
              "dtype: float64"
            ]
          },
          "metadata": {},
          "execution_count": 36
        }
      ],
      "source": [
        "df = df.loc[df.lotsizesquarefeet.notna(),:]\n",
        "nulls(df)"
      ]
    },
    {
      "cell_type": "markdown",
      "metadata": {
        "id": "I8-R4F0XPk5f"
      },
      "source": [
        "We will employ KNN Imputer to fill in the remaining missing values."
      ]
    },
    {
      "cell_type": "markdown",
      "metadata": {
        "id": "L7A3YeJzPk5g"
      },
      "source": [
        "First, we scale the features"
      ]
    },
    {
      "cell_type": "code",
      "execution_count": 37,
      "metadata": {
        "id": "PdztgzevPk5g"
      },
      "outputs": [],
      "source": [
        "df_scaled = df.copy()\n",
        "for column in list(df_scaled.columns):\n",
        "    if not is_numeric_dtype(df_scaled[column]):\n",
        "        df_scaled.drop(column, axis = 1, inplace = True)"
      ]
    },
    {
      "cell_type": "code",
      "execution_count": 38,
      "metadata": {
        "colab": {
          "base_uri": "https://localhost:8080/",
          "height": 270
        },
        "id": "qq0Dl2w4Pk5h",
        "outputId": "d698a7c6-8e3f-4849-aa0f-92cf20dcc94b"
      },
      "outputs": [
        {
          "output_type": "execute_result",
          "data": {
            "text/html": [
              "\n",
              "  <div id=\"df-8887880d-d4d4-4a4a-9ffc-6919caf150ee\">\n",
              "    <div class=\"colab-df-container\">\n",
              "      <div>\n",
              "<style scoped>\n",
              "    .dataframe tbody tr th:only-of-type {\n",
              "        vertical-align: middle;\n",
              "    }\n",
              "\n",
              "    .dataframe tbody tr th {\n",
              "        vertical-align: top;\n",
              "    }\n",
              "\n",
              "    .dataframe thead th {\n",
              "        text-align: right;\n",
              "    }\n",
              "</style>\n",
              "<table border=\"1\" class=\"dataframe\">\n",
              "  <thead>\n",
              "    <tr style=\"text-align: right;\">\n",
              "      <th></th>\n",
              "      <th>parcelid</th>\n",
              "      <th>logerror</th>\n",
              "      <th>airconditioningtypeid</th>\n",
              "      <th>bathroomcnt</th>\n",
              "      <th>bedroomcnt</th>\n",
              "      <th>buildingqualitytypeid</th>\n",
              "      <th>calculatedbathnbr</th>\n",
              "      <th>calculatedfinishedsquarefeet</th>\n",
              "      <th>finishedsquarefeet12</th>\n",
              "      <th>fips</th>\n",
              "      <th>fullbathcnt</th>\n",
              "      <th>garagecarcnt</th>\n",
              "      <th>garagetotalsqft</th>\n",
              "      <th>heatingorsystemtypeid</th>\n",
              "      <th>latitude</th>\n",
              "      <th>longitude</th>\n",
              "      <th>lotsizesquarefeet</th>\n",
              "      <th>propertylandusetypeid</th>\n",
              "      <th>rawcensustractandblock</th>\n",
              "      <th>regionidcity</th>\n",
              "      <th>regionidcounty</th>\n",
              "      <th>regionidneighborhood</th>\n",
              "      <th>regionidzip</th>\n",
              "      <th>roomcnt</th>\n",
              "      <th>unitcnt</th>\n",
              "      <th>yearbuilt</th>\n",
              "      <th>numberofstories</th>\n",
              "      <th>structuretaxvaluedollarcnt</th>\n",
              "      <th>taxvaluedollarcnt</th>\n",
              "      <th>assessmentyear</th>\n",
              "      <th>landtaxvaluedollarcnt</th>\n",
              "      <th>taxamount</th>\n",
              "      <th>censustractandblock</th>\n",
              "    </tr>\n",
              "  </thead>\n",
              "  <tbody>\n",
              "    <tr>\n",
              "      <th>0</th>\n",
              "      <td>0.002002</td>\n",
              "      <td>0.495890</td>\n",
              "      <td>0.0</td>\n",
              "      <td>0.052632</td>\n",
              "      <td>0.1875</td>\n",
              "      <td>0.272727</td>\n",
              "      <td>0.052632</td>\n",
              "      <td>0.073970</td>\n",
              "      <td>0.084054</td>\n",
              "      <td>0.000000</td>\n",
              "      <td>0.052632</td>\n",
              "      <td>0.083333</td>\n",
              "      <td>0.053223</td>\n",
              "      <td>0.043478</td>\n",
              "      <td>0.637698</td>\n",
              "      <td>0.511251</td>\n",
              "      <td>0.001056</td>\n",
              "      <td>0.942623</td>\n",
              "      <td>0.000076</td>\n",
              "      <td>0.022785</td>\n",
              "      <td>1.0</td>\n",
              "      <td>0.032837</td>\n",
              "      <td>0.001278</td>\n",
              "      <td>0.000000</td>\n",
              "      <td>0.0</td>\n",
              "      <td>0.569231</td>\n",
              "      <td>0.000000</td>\n",
              "      <td>0.012330</td>\n",
              "      <td>0.012705</td>\n",
              "      <td>0.0</td>\n",
              "      <td>0.009675</td>\n",
              "      <td>0.020774</td>\n",
              "      <td>0.000074</td>\n",
              "    </tr>\n",
              "    <tr>\n",
              "      <th>1</th>\n",
              "      <td>0.009106</td>\n",
              "      <td>0.492507</td>\n",
              "      <td>0.0</td>\n",
              "      <td>0.105263</td>\n",
              "      <td>0.1250</td>\n",
              "      <td>0.272727</td>\n",
              "      <td>0.105263</td>\n",
              "      <td>0.097410</td>\n",
              "      <td>0.110689</td>\n",
              "      <td>0.000000</td>\n",
              "      <td>0.105263</td>\n",
              "      <td>0.083333</td>\n",
              "      <td>0.053223</td>\n",
              "      <td>0.043478</td>\n",
              "      <td>0.539723</td>\n",
              "      <td>0.678326</td>\n",
              "      <td>0.001615</td>\n",
              "      <td>0.942623</td>\n",
              "      <td>0.004909</td>\n",
              "      <td>0.110740</td>\n",
              "      <td>1.0</td>\n",
              "      <td>0.354535</td>\n",
              "      <td>0.001024</td>\n",
              "      <td>0.000000</td>\n",
              "      <td>0.0</td>\n",
              "      <td>0.423077</td>\n",
              "      <td>0.000000</td>\n",
              "      <td>0.006222</td>\n",
              "      <td>0.004044</td>\n",
              "      <td>0.0</td>\n",
              "      <td>0.002349</td>\n",
              "      <td>0.035526</td>\n",
              "      <td>0.004903</td>\n",
              "    </tr>\n",
              "    <tr>\n",
              "      <th>2</th>\n",
              "      <td>0.012688</td>\n",
              "      <td>0.495269</td>\n",
              "      <td>0.0</td>\n",
              "      <td>0.052632</td>\n",
              "      <td>0.1250</td>\n",
              "      <td>0.272727</td>\n",
              "      <td>0.052632</td>\n",
              "      <td>0.036809</td>\n",
              "      <td>0.041827</td>\n",
              "      <td>0.000000</td>\n",
              "      <td>0.052632</td>\n",
              "      <td>0.083333</td>\n",
              "      <td>0.053223</td>\n",
              "      <td>0.043478</td>\n",
              "      <td>0.282048</td>\n",
              "      <td>0.606931</td>\n",
              "      <td>0.010141</td>\n",
              "      <td>0.963115</td>\n",
              "      <td>0.002641</td>\n",
              "      <td>0.022785</td>\n",
              "      <td>1.0</td>\n",
              "      <td>0.062529</td>\n",
              "      <td>0.000790</td>\n",
              "      <td>0.000000</td>\n",
              "      <td>0.0</td>\n",
              "      <td>0.784615</td>\n",
              "      <td>0.000000</td>\n",
              "      <td>0.017231</td>\n",
              "      <td>0.008549</td>\n",
              "      <td>0.0</td>\n",
              "      <td>0.002979</td>\n",
              "      <td>0.009319</td>\n",
              "      <td>0.002639</td>\n",
              "    </tr>\n",
              "    <tr>\n",
              "      <th>3</th>\n",
              "      <td>0.024439</td>\n",
              "      <td>0.492400</td>\n",
              "      <td>0.0</td>\n",
              "      <td>0.078947</td>\n",
              "      <td>0.2500</td>\n",
              "      <td>NaN</td>\n",
              "      <td>0.078947</td>\n",
              "      <td>0.100312</td>\n",
              "      <td>0.113987</td>\n",
              "      <td>0.297297</td>\n",
              "      <td>0.052632</td>\n",
              "      <td>0.083333</td>\n",
              "      <td>0.081482</td>\n",
              "      <td>0.043478</td>\n",
              "      <td>0.099104</td>\n",
              "      <td>0.931359</td>\n",
              "      <td>0.000837</td>\n",
              "      <td>0.942623</td>\n",
              "      <td>0.296872</td>\n",
              "      <td>0.036114</td>\n",
              "      <td>0.0</td>\n",
              "      <td>0.146928</td>\n",
              "      <td>0.003224</td>\n",
              "      <td>0.444444</td>\n",
              "      <td>0.0</td>\n",
              "      <td>0.738462</td>\n",
              "      <td>0.333333</td>\n",
              "      <td>0.017036</td>\n",
              "      <td>0.015386</td>\n",
              "      <td>0.0</td>\n",
              "      <td>0.010800</td>\n",
              "      <td>0.016900</td>\n",
              "      <td>0.296873</td>\n",
              "    </tr>\n",
              "    <tr>\n",
              "      <th>4</th>\n",
              "      <td>0.005242</td>\n",
              "      <td>0.463980</td>\n",
              "      <td>0.0</td>\n",
              "      <td>0.157895</td>\n",
              "      <td>0.2500</td>\n",
              "      <td>0.000000</td>\n",
              "      <td>0.157895</td>\n",
              "      <td>0.134790</td>\n",
              "      <td>0.153166</td>\n",
              "      <td>0.000000</td>\n",
              "      <td>0.157895</td>\n",
              "      <td>0.083333</td>\n",
              "      <td>0.053223</td>\n",
              "      <td>0.043478</td>\n",
              "      <td>0.359442</td>\n",
              "      <td>0.556959</td>\n",
              "      <td>0.000365</td>\n",
              "      <td>0.942623</td>\n",
              "      <td>0.007036</td>\n",
              "      <td>0.066709</td>\n",
              "      <td>1.0</td>\n",
              "      <td>0.146928</td>\n",
              "      <td>0.000418</td>\n",
              "      <td>0.000000</td>\n",
              "      <td>0.0</td>\n",
              "      <td>0.746154</td>\n",
              "      <td>0.000000</td>\n",
              "      <td>0.088515</td>\n",
              "      <td>0.087961</td>\n",
              "      <td>0.0</td>\n",
              "      <td>0.063957</td>\n",
              "      <td>0.084121</td>\n",
              "      <td>0.007031</td>\n",
              "    </tr>\n",
              "  </tbody>\n",
              "</table>\n",
              "</div>\n",
              "      <button class=\"colab-df-convert\" onclick=\"convertToInteractive('df-8887880d-d4d4-4a4a-9ffc-6919caf150ee')\"\n",
              "              title=\"Convert this dataframe to an interactive table.\"\n",
              "              style=\"display:none;\">\n",
              "        \n",
              "  <svg xmlns=\"http://www.w3.org/2000/svg\" height=\"24px\"viewBox=\"0 0 24 24\"\n",
              "       width=\"24px\">\n",
              "    <path d=\"M0 0h24v24H0V0z\" fill=\"none\"/>\n",
              "    <path d=\"M18.56 5.44l.94 2.06.94-2.06 2.06-.94-2.06-.94-.94-2.06-.94 2.06-2.06.94zm-11 1L8.5 8.5l.94-2.06 2.06-.94-2.06-.94L8.5 2.5l-.94 2.06-2.06.94zm10 10l.94 2.06.94-2.06 2.06-.94-2.06-.94-.94-2.06-.94 2.06-2.06.94z\"/><path d=\"M17.41 7.96l-1.37-1.37c-.4-.4-.92-.59-1.43-.59-.52 0-1.04.2-1.43.59L10.3 9.45l-7.72 7.72c-.78.78-.78 2.05 0 2.83L4 21.41c.39.39.9.59 1.41.59.51 0 1.02-.2 1.41-.59l7.78-7.78 2.81-2.81c.8-.78.8-2.07 0-2.86zM5.41 20L4 18.59l7.72-7.72 1.47 1.35L5.41 20z\"/>\n",
              "  </svg>\n",
              "      </button>\n",
              "      \n",
              "  <style>\n",
              "    .colab-df-container {\n",
              "      display:flex;\n",
              "      flex-wrap:wrap;\n",
              "      gap: 12px;\n",
              "    }\n",
              "\n",
              "    .colab-df-convert {\n",
              "      background-color: #E8F0FE;\n",
              "      border: none;\n",
              "      border-radius: 50%;\n",
              "      cursor: pointer;\n",
              "      display: none;\n",
              "      fill: #1967D2;\n",
              "      height: 32px;\n",
              "      padding: 0 0 0 0;\n",
              "      width: 32px;\n",
              "    }\n",
              "\n",
              "    .colab-df-convert:hover {\n",
              "      background-color: #E2EBFA;\n",
              "      box-shadow: 0px 1px 2px rgba(60, 64, 67, 0.3), 0px 1px 3px 1px rgba(60, 64, 67, 0.15);\n",
              "      fill: #174EA6;\n",
              "    }\n",
              "\n",
              "    [theme=dark] .colab-df-convert {\n",
              "      background-color: #3B4455;\n",
              "      fill: #D2E3FC;\n",
              "    }\n",
              "\n",
              "    [theme=dark] .colab-df-convert:hover {\n",
              "      background-color: #434B5C;\n",
              "      box-shadow: 0px 1px 3px 1px rgba(0, 0, 0, 0.15);\n",
              "      filter: drop-shadow(0px 1px 2px rgba(0, 0, 0, 0.3));\n",
              "      fill: #FFFFFF;\n",
              "    }\n",
              "  </style>\n",
              "\n",
              "      <script>\n",
              "        const buttonEl =\n",
              "          document.querySelector('#df-8887880d-d4d4-4a4a-9ffc-6919caf150ee button.colab-df-convert');\n",
              "        buttonEl.style.display =\n",
              "          google.colab.kernel.accessAllowed ? 'block' : 'none';\n",
              "\n",
              "        async function convertToInteractive(key) {\n",
              "          const element = document.querySelector('#df-8887880d-d4d4-4a4a-9ffc-6919caf150ee');\n",
              "          const dataTable =\n",
              "            await google.colab.kernel.invokeFunction('convertToInteractive',\n",
              "                                                     [key], {});\n",
              "          if (!dataTable) return;\n",
              "\n",
              "          const docLinkHtml = 'Like what you see? Visit the ' +\n",
              "            '<a target=\"_blank\" href=https://colab.research.google.com/notebooks/data_table.ipynb>data table notebook</a>'\n",
              "            + ' to learn more about interactive tables.';\n",
              "          element.innerHTML = '';\n",
              "          dataTable['output_type'] = 'display_data';\n",
              "          await google.colab.output.renderOutput(dataTable, element);\n",
              "          const docLink = document.createElement('div');\n",
              "          docLink.innerHTML = docLinkHtml;\n",
              "          element.appendChild(docLink);\n",
              "        }\n",
              "      </script>\n",
              "    </div>\n",
              "  </div>\n",
              "  "
            ],
            "text/plain": [
              "   parcelid  logerror  ...  taxamount  censustractandblock\n",
              "0  0.002002  0.495890  ...   0.020774             0.000074\n",
              "1  0.009106  0.492507  ...   0.035526             0.004903\n",
              "2  0.012688  0.495269  ...   0.009319             0.002639\n",
              "3  0.024439  0.492400  ...   0.016900             0.296873\n",
              "4  0.005242  0.463980  ...   0.084121             0.007031\n",
              "\n",
              "[5 rows x 33 columns]"
            ]
          },
          "metadata": {},
          "execution_count": 38
        }
      ],
      "source": [
        "from sklearn.preprocessing import MinMaxScaler\n",
        "scaler = MinMaxScaler()\n",
        "# df_scaled = scaler.fit_transform(df_scaled)\n",
        "df_scaled = pd.DataFrame(\n",
        "    scaler.fit_transform(df_scaled), \n",
        "    columns = df_scaled.columns\n",
        ")\n",
        "df_scaled.head()"
      ]
    },
    {
      "cell_type": "markdown",
      "metadata": {
        "id": "QW2F4fU3Pk5h"
      },
      "source": [
        "Running KNN Imputer"
      ]
    },
    {
      "cell_type": "code",
      "execution_count": 39,
      "metadata": {
        "colab": {
          "base_uri": "https://localhost:8080/"
        },
        "id": "4pgzhcikPk5i",
        "outputId": "ee900db4-b152-47e6-b9c3-f57eaa2fb9a5"
      },
      "outputs": [
        {
          "output_type": "execute_result",
          "data": {
            "text/plain": [
              "buildingqualitytypeid    29.56\n",
              "finishedsquarefeet12      4.55\n",
              "dtype: float64"
            ]
          },
          "metadata": {},
          "execution_count": 39
        }
      ],
      "source": [
        "nulls(df_scaled)"
      ]
    },
    {
      "cell_type": "markdown",
      "metadata": {
        "id": "BYGjC1mqPk5i"
      },
      "source": [
        "The scaler will exclude non numeric columns. These will be added back again"
      ]
    },
    {
      "cell_type": "code",
      "execution_count": 40,
      "metadata": {
        "colab": {
          "base_uri": "https://localhost:8080/"
        },
        "id": "tBoJXICiPk5i",
        "outputId": "55791f96-09a0-4cf2-e06a-1dae7e2f7e05"
      },
      "outputs": [
        {
          "output_type": "execute_result",
          "data": {
            "text/plain": [
              "['transactiondate', 'propertycountylandusecode']"
            ]
          },
          "metadata": {},
          "execution_count": 40
        }
      ],
      "source": [
        "excluded = [i for i in df.columns if i not in df_scaled.columns]\n",
        "excluded"
      ]
    },
    {
      "cell_type": "code",
      "execution_count": 41,
      "metadata": {
        "colab": {
          "base_uri": "https://localhost:8080/",
          "height": 423
        },
        "id": "u2h6l75BPk5j",
        "outputId": "306aa5fc-5625-4cff-8ed0-6983a1d8dca2"
      },
      "outputs": [
        {
          "output_type": "execute_result",
          "data": {
            "text/html": [
              "\n",
              "  <div id=\"df-19961ab7-b21a-4c06-813a-fa1add198670\">\n",
              "    <div class=\"colab-df-container\">\n",
              "      <div>\n",
              "<style scoped>\n",
              "    .dataframe tbody tr th:only-of-type {\n",
              "        vertical-align: middle;\n",
              "    }\n",
              "\n",
              "    .dataframe tbody tr th {\n",
              "        vertical-align: top;\n",
              "    }\n",
              "\n",
              "    .dataframe thead th {\n",
              "        text-align: right;\n",
              "    }\n",
              "</style>\n",
              "<table border=\"1\" class=\"dataframe\">\n",
              "  <thead>\n",
              "    <tr style=\"text-align: right;\">\n",
              "      <th></th>\n",
              "      <th>transactiondate</th>\n",
              "      <th>propertycountylandusecode</th>\n",
              "    </tr>\n",
              "  </thead>\n",
              "  <tbody>\n",
              "    <tr>\n",
              "      <th>0</th>\n",
              "      <td>2016-01-01</td>\n",
              "      <td>0100</td>\n",
              "    </tr>\n",
              "    <tr>\n",
              "      <th>1</th>\n",
              "      <td>2016-01-01</td>\n",
              "      <td>0100</td>\n",
              "    </tr>\n",
              "    <tr>\n",
              "      <th>2</th>\n",
              "      <td>2016-01-02</td>\n",
              "      <td>010C</td>\n",
              "    </tr>\n",
              "    <tr>\n",
              "      <th>3</th>\n",
              "      <td>2016-01-02</td>\n",
              "      <td>122</td>\n",
              "    </tr>\n",
              "    <tr>\n",
              "      <th>4</th>\n",
              "      <td>2016-01-02</td>\n",
              "      <td>0100</td>\n",
              "    </tr>\n",
              "    <tr>\n",
              "      <th>...</th>\n",
              "      <td>...</td>\n",
              "      <td>...</td>\n",
              "    </tr>\n",
              "    <tr>\n",
              "      <th>77491</th>\n",
              "      <td>2016-12-30</td>\n",
              "      <td>0100</td>\n",
              "    </tr>\n",
              "    <tr>\n",
              "      <th>77492</th>\n",
              "      <td>2016-12-30</td>\n",
              "      <td>010C</td>\n",
              "    </tr>\n",
              "    <tr>\n",
              "      <th>77493</th>\n",
              "      <td>2016-12-30</td>\n",
              "      <td>0100</td>\n",
              "    </tr>\n",
              "    <tr>\n",
              "      <th>77494</th>\n",
              "      <td>2016-12-30</td>\n",
              "      <td>0200</td>\n",
              "    </tr>\n",
              "    <tr>\n",
              "      <th>77495</th>\n",
              "      <td>2016-12-30</td>\n",
              "      <td>010C</td>\n",
              "    </tr>\n",
              "  </tbody>\n",
              "</table>\n",
              "<p>77496 rows × 2 columns</p>\n",
              "</div>\n",
              "      <button class=\"colab-df-convert\" onclick=\"convertToInteractive('df-19961ab7-b21a-4c06-813a-fa1add198670')\"\n",
              "              title=\"Convert this dataframe to an interactive table.\"\n",
              "              style=\"display:none;\">\n",
              "        \n",
              "  <svg xmlns=\"http://www.w3.org/2000/svg\" height=\"24px\"viewBox=\"0 0 24 24\"\n",
              "       width=\"24px\">\n",
              "    <path d=\"M0 0h24v24H0V0z\" fill=\"none\"/>\n",
              "    <path d=\"M18.56 5.44l.94 2.06.94-2.06 2.06-.94-2.06-.94-.94-2.06-.94 2.06-2.06.94zm-11 1L8.5 8.5l.94-2.06 2.06-.94-2.06-.94L8.5 2.5l-.94 2.06-2.06.94zm10 10l.94 2.06.94-2.06 2.06-.94-2.06-.94-.94-2.06-.94 2.06-2.06.94z\"/><path d=\"M17.41 7.96l-1.37-1.37c-.4-.4-.92-.59-1.43-.59-.52 0-1.04.2-1.43.59L10.3 9.45l-7.72 7.72c-.78.78-.78 2.05 0 2.83L4 21.41c.39.39.9.59 1.41.59.51 0 1.02-.2 1.41-.59l7.78-7.78 2.81-2.81c.8-.78.8-2.07 0-2.86zM5.41 20L4 18.59l7.72-7.72 1.47 1.35L5.41 20z\"/>\n",
              "  </svg>\n",
              "      </button>\n",
              "      \n",
              "  <style>\n",
              "    .colab-df-container {\n",
              "      display:flex;\n",
              "      flex-wrap:wrap;\n",
              "      gap: 12px;\n",
              "    }\n",
              "\n",
              "    .colab-df-convert {\n",
              "      background-color: #E8F0FE;\n",
              "      border: none;\n",
              "      border-radius: 50%;\n",
              "      cursor: pointer;\n",
              "      display: none;\n",
              "      fill: #1967D2;\n",
              "      height: 32px;\n",
              "      padding: 0 0 0 0;\n",
              "      width: 32px;\n",
              "    }\n",
              "\n",
              "    .colab-df-convert:hover {\n",
              "      background-color: #E2EBFA;\n",
              "      box-shadow: 0px 1px 2px rgba(60, 64, 67, 0.3), 0px 1px 3px 1px rgba(60, 64, 67, 0.15);\n",
              "      fill: #174EA6;\n",
              "    }\n",
              "\n",
              "    [theme=dark] .colab-df-convert {\n",
              "      background-color: #3B4455;\n",
              "      fill: #D2E3FC;\n",
              "    }\n",
              "\n",
              "    [theme=dark] .colab-df-convert:hover {\n",
              "      background-color: #434B5C;\n",
              "      box-shadow: 0px 1px 3px 1px rgba(0, 0, 0, 0.15);\n",
              "      filter: drop-shadow(0px 1px 2px rgba(0, 0, 0, 0.3));\n",
              "      fill: #FFFFFF;\n",
              "    }\n",
              "  </style>\n",
              "\n",
              "      <script>\n",
              "        const buttonEl =\n",
              "          document.querySelector('#df-19961ab7-b21a-4c06-813a-fa1add198670 button.colab-df-convert');\n",
              "        buttonEl.style.display =\n",
              "          google.colab.kernel.accessAllowed ? 'block' : 'none';\n",
              "\n",
              "        async function convertToInteractive(key) {\n",
              "          const element = document.querySelector('#df-19961ab7-b21a-4c06-813a-fa1add198670');\n",
              "          const dataTable =\n",
              "            await google.colab.kernel.invokeFunction('convertToInteractive',\n",
              "                                                     [key], {});\n",
              "          if (!dataTable) return;\n",
              "\n",
              "          const docLinkHtml = 'Like what you see? Visit the ' +\n",
              "            '<a target=\"_blank\" href=https://colab.research.google.com/notebooks/data_table.ipynb>data table notebook</a>'\n",
              "            + ' to learn more about interactive tables.';\n",
              "          element.innerHTML = '';\n",
              "          dataTable['output_type'] = 'display_data';\n",
              "          await google.colab.output.renderOutput(dataTable, element);\n",
              "          const docLink = document.createElement('div');\n",
              "          docLink.innerHTML = docLinkHtml;\n",
              "          element.appendChild(docLink);\n",
              "        }\n",
              "      </script>\n",
              "    </div>\n",
              "  </div>\n",
              "  "
            ],
            "text/plain": [
              "      transactiondate propertycountylandusecode\n",
              "0          2016-01-01                      0100\n",
              "1          2016-01-01                      0100\n",
              "2          2016-01-02                      010C\n",
              "3          2016-01-02                       122\n",
              "4          2016-01-02                      0100\n",
              "...               ...                       ...\n",
              "77491      2016-12-30                      0100\n",
              "77492      2016-12-30                      010C\n",
              "77493      2016-12-30                      0100\n",
              "77494      2016-12-30                      0200\n",
              "77495      2016-12-30                      010C\n",
              "\n",
              "[77496 rows x 2 columns]"
            ]
          },
          "metadata": {},
          "execution_count": 41
        }
      ],
      "source": [
        "df_excluded = df[excluded].reset_index(drop=True)\n",
        "df_excluded"
      ]
    },
    {
      "cell_type": "code",
      "execution_count": 42,
      "metadata": {
        "colab": {
          "base_uri": "https://localhost:8080/"
        },
        "id": "5oOamRrYPk5j",
        "outputId": "d446547d-6b3f-436a-f430-5eed6bd04a1a"
      },
      "outputs": [
        {
          "output_type": "execute_result",
          "data": {
            "text/plain": [
              "Series([], dtype: float64)"
            ]
          },
          "metadata": {},
          "execution_count": 42
        }
      ],
      "source": [
        "from sklearn.impute import KNNImputer\n",
        "imputer = KNNImputer(n_neighbors=5)\n",
        "df_scaled = pd.DataFrame(\n",
        "    imputer.fit_transform(df_scaled),\n",
        "    columns = df_scaled.columns\n",
        ")\n",
        "nulls(df_scaled)"
      ]
    },
    {
      "cell_type": "markdown",
      "metadata": {
        "id": "DIhUjQDdPk5k"
      },
      "source": [
        "Running an inverse transform on the scaled dataset to get back the original dataset."
      ]
    },
    {
      "cell_type": "code",
      "execution_count": 43,
      "metadata": {
        "id": "mMnc7koYPk5k"
      },
      "outputs": [],
      "source": [
        "df_imputed = pd.DataFrame(\n",
        "    scaler.inverse_transform(df_scaled),\n",
        "    columns = df_scaled.columns\n",
        ")"
      ]
    },
    {
      "cell_type": "code",
      "execution_count": 44,
      "metadata": {
        "id": "h8L33SbBPk5k"
      },
      "outputs": [],
      "source": [
        "# Need to reset index so the indices in the scaled df align with the original\n",
        "df.reset_index(inplace=True, drop=True)"
      ]
    },
    {
      "cell_type": "code",
      "execution_count": 45,
      "metadata": {
        "id": "SJSgWkMPPk5k"
      },
      "outputs": [],
      "source": [
        "df.loc[:, 'buildingqualitytypeid'] = df_imputed.loc[:, 'buildingqualitytypeid']\n",
        "df.loc[:, 'finishedsquarefeet12'] = df_imputed.loc[:, 'finishedsquarefeet12']"
      ]
    },
    {
      "cell_type": "code",
      "execution_count": 46,
      "metadata": {
        "colab": {
          "base_uri": "https://localhost:8080/",
          "height": 487
        },
        "id": "SP0uYo8CPk5l",
        "outputId": "6870db9c-c918-4141-e8a9-c004281f6669"
      },
      "outputs": [
        {
          "output_type": "execute_result",
          "data": {
            "text/html": [
              "\n",
              "  <div id=\"df-89326c86-ad00-466b-b6cf-5cdc1d66611b\">\n",
              "    <div class=\"colab-df-container\">\n",
              "      <div>\n",
              "<style scoped>\n",
              "    .dataframe tbody tr th:only-of-type {\n",
              "        vertical-align: middle;\n",
              "    }\n",
              "\n",
              "    .dataframe tbody tr th {\n",
              "        vertical-align: top;\n",
              "    }\n",
              "\n",
              "    .dataframe thead th {\n",
              "        text-align: right;\n",
              "    }\n",
              "</style>\n",
              "<table border=\"1\" class=\"dataframe\">\n",
              "  <thead>\n",
              "    <tr style=\"text-align: right;\">\n",
              "      <th></th>\n",
              "      <th>parcelid</th>\n",
              "      <th>logerror</th>\n",
              "      <th>transactiondate</th>\n",
              "      <th>airconditioningtypeid</th>\n",
              "      <th>bathroomcnt</th>\n",
              "      <th>bedroomcnt</th>\n",
              "      <th>buildingqualitytypeid</th>\n",
              "      <th>calculatedbathnbr</th>\n",
              "      <th>calculatedfinishedsquarefeet</th>\n",
              "      <th>finishedsquarefeet12</th>\n",
              "      <th>fips</th>\n",
              "      <th>fullbathcnt</th>\n",
              "      <th>garagecarcnt</th>\n",
              "      <th>garagetotalsqft</th>\n",
              "      <th>heatingorsystemtypeid</th>\n",
              "      <th>latitude</th>\n",
              "      <th>longitude</th>\n",
              "      <th>lotsizesquarefeet</th>\n",
              "      <th>propertycountylandusecode</th>\n",
              "      <th>propertylandusetypeid</th>\n",
              "      <th>rawcensustractandblock</th>\n",
              "      <th>regionidcity</th>\n",
              "      <th>regionidcounty</th>\n",
              "      <th>regionidneighborhood</th>\n",
              "      <th>regionidzip</th>\n",
              "      <th>roomcnt</th>\n",
              "      <th>unitcnt</th>\n",
              "      <th>yearbuilt</th>\n",
              "      <th>numberofstories</th>\n",
              "      <th>structuretaxvaluedollarcnt</th>\n",
              "      <th>taxvaluedollarcnt</th>\n",
              "      <th>assessmentyear</th>\n",
              "      <th>landtaxvaluedollarcnt</th>\n",
              "      <th>taxamount</th>\n",
              "      <th>censustractandblock</th>\n",
              "    </tr>\n",
              "  </thead>\n",
              "  <tbody>\n",
              "    <tr>\n",
              "      <th>0</th>\n",
              "      <td>11016594</td>\n",
              "      <td>0.0276</td>\n",
              "      <td>2016-01-01</td>\n",
              "      <td>1.0</td>\n",
              "      <td>2.0</td>\n",
              "      <td>3.0</td>\n",
              "      <td>4.0</td>\n",
              "      <td>2.0</td>\n",
              "      <td>1684.0</td>\n",
              "      <td>1684.0</td>\n",
              "      <td>6037.0</td>\n",
              "      <td>2.0</td>\n",
              "      <td>2.0</td>\n",
              "      <td>390.606934</td>\n",
              "      <td>2.0</td>\n",
              "      <td>34280992.0</td>\n",
              "      <td>-118488536.0</td>\n",
              "      <td>7528.0</td>\n",
              "      <td>0100</td>\n",
              "      <td>261.0</td>\n",
              "      <td>60371068.0</td>\n",
              "      <td>12447.0</td>\n",
              "      <td>3101.0</td>\n",
              "      <td>31817.0</td>\n",
              "      <td>96370.0</td>\n",
              "      <td>0.0</td>\n",
              "      <td>1.0</td>\n",
              "      <td>1959.0</td>\n",
              "      <td>1.0</td>\n",
              "      <td>122754.0</td>\n",
              "      <td>360170.0</td>\n",
              "      <td>2015.0</td>\n",
              "      <td>237416.0</td>\n",
              "      <td>6735.879883</td>\n",
              "      <td>6.037107e+13</td>\n",
              "    </tr>\n",
              "    <tr>\n",
              "      <th>1</th>\n",
              "      <td>12098116</td>\n",
              "      <td>-0.0040</td>\n",
              "      <td>2016-01-01</td>\n",
              "      <td>1.0</td>\n",
              "      <td>3.0</td>\n",
              "      <td>2.0</td>\n",
              "      <td>4.0</td>\n",
              "      <td>3.0</td>\n",
              "      <td>2217.0</td>\n",
              "      <td>2217.0</td>\n",
              "      <td>6037.0</td>\n",
              "      <td>3.0</td>\n",
              "      <td>2.0</td>\n",
              "      <td>390.606934</td>\n",
              "      <td>2.0</td>\n",
              "      <td>34136312.0</td>\n",
              "      <td>-118175032.0</td>\n",
              "      <td>11423.0</td>\n",
              "      <td>0100</td>\n",
              "      <td>261.0</td>\n",
              "      <td>60374640.0</td>\n",
              "      <td>47019.0</td>\n",
              "      <td>3101.0</td>\n",
              "      <td>275411.0</td>\n",
              "      <td>96293.0</td>\n",
              "      <td>0.0</td>\n",
              "      <td>1.0</td>\n",
              "      <td>1940.0</td>\n",
              "      <td>1.0</td>\n",
              "      <td>61994.0</td>\n",
              "      <td>119906.0</td>\n",
              "      <td>2015.0</td>\n",
              "      <td>57912.0</td>\n",
              "      <td>11484.480469</td>\n",
              "      <td>6.037464e+13</td>\n",
              "    </tr>\n",
              "    <tr>\n",
              "      <th>2</th>\n",
              "      <td>12643413</td>\n",
              "      <td>0.0218</td>\n",
              "      <td>2016-01-02</td>\n",
              "      <td>1.0</td>\n",
              "      <td>2.0</td>\n",
              "      <td>2.0</td>\n",
              "      <td>4.0</td>\n",
              "      <td>2.0</td>\n",
              "      <td>839.0</td>\n",
              "      <td>839.0</td>\n",
              "      <td>6037.0</td>\n",
              "      <td>2.0</td>\n",
              "      <td>2.0</td>\n",
              "      <td>390.606934</td>\n",
              "      <td>2.0</td>\n",
              "      <td>33755800.0</td>\n",
              "      <td>-118309000.0</td>\n",
              "      <td>70859.0</td>\n",
              "      <td>010C</td>\n",
              "      <td>266.0</td>\n",
              "      <td>60372964.0</td>\n",
              "      <td>12447.0</td>\n",
              "      <td>3101.0</td>\n",
              "      <td>54300.0</td>\n",
              "      <td>96222.0</td>\n",
              "      <td>0.0</td>\n",
              "      <td>1.0</td>\n",
              "      <td>1987.0</td>\n",
              "      <td>1.0</td>\n",
              "      <td>171518.0</td>\n",
              "      <td>244880.0</td>\n",
              "      <td>2015.0</td>\n",
              "      <td>73362.0</td>\n",
              "      <td>3048.739990</td>\n",
              "      <td>6.037296e+13</td>\n",
              "    </tr>\n",
              "    <tr>\n",
              "      <th>3</th>\n",
              "      <td>14432541</td>\n",
              "      <td>-0.0050</td>\n",
              "      <td>2016-01-02</td>\n",
              "      <td>1.0</td>\n",
              "      <td>2.5</td>\n",
              "      <td>4.0</td>\n",
              "      <td>5.2</td>\n",
              "      <td>2.5</td>\n",
              "      <td>2283.0</td>\n",
              "      <td>2283.0</td>\n",
              "      <td>6059.0</td>\n",
              "      <td>2.0</td>\n",
              "      <td>2.0</td>\n",
              "      <td>598.000000</td>\n",
              "      <td>2.0</td>\n",
              "      <td>33485644.0</td>\n",
              "      <td>-117700232.0</td>\n",
              "      <td>6000.0</td>\n",
              "      <td>122</td>\n",
              "      <td>261.0</td>\n",
              "      <td>60590424.0</td>\n",
              "      <td>17686.0</td>\n",
              "      <td>1286.0</td>\n",
              "      <td>118208.0</td>\n",
              "      <td>96961.0</td>\n",
              "      <td>8.0</td>\n",
              "      <td>1.0</td>\n",
              "      <td>1981.0</td>\n",
              "      <td>2.0</td>\n",
              "      <td>169574.0</td>\n",
              "      <td>434551.0</td>\n",
              "      <td>2015.0</td>\n",
              "      <td>264977.0</td>\n",
              "      <td>5488.959961</td>\n",
              "      <td>6.059042e+13</td>\n",
              "    </tr>\n",
              "    <tr>\n",
              "      <th>4</th>\n",
              "      <td>11509835</td>\n",
              "      <td>-0.2705</td>\n",
              "      <td>2016-01-02</td>\n",
              "      <td>1.0</td>\n",
              "      <td>4.0</td>\n",
              "      <td>4.0</td>\n",
              "      <td>1.0</td>\n",
              "      <td>4.0</td>\n",
              "      <td>3067.0</td>\n",
              "      <td>3067.0</td>\n",
              "      <td>6037.0</td>\n",
              "      <td>4.0</td>\n",
              "      <td>2.0</td>\n",
              "      <td>390.606934</td>\n",
              "      <td>2.0</td>\n",
              "      <td>33870088.0</td>\n",
              "      <td>-118402768.0</td>\n",
              "      <td>2708.0</td>\n",
              "      <td>0100</td>\n",
              "      <td>261.0</td>\n",
              "      <td>60376212.0</td>\n",
              "      <td>29712.0</td>\n",
              "      <td>3101.0</td>\n",
              "      <td>118208.0</td>\n",
              "      <td>96109.0</td>\n",
              "      <td>0.0</td>\n",
              "      <td>1.0</td>\n",
              "      <td>1982.0</td>\n",
              "      <td>1.0</td>\n",
              "      <td>880650.0</td>\n",
              "      <td>2447951.0</td>\n",
              "      <td>2015.0</td>\n",
              "      <td>1567301.0</td>\n",
              "      <td>27126.570312</td>\n",
              "      <td>6.037621e+13</td>\n",
              "    </tr>\n",
              "    <tr>\n",
              "      <th>...</th>\n",
              "      <td>...</td>\n",
              "      <td>...</td>\n",
              "      <td>...</td>\n",
              "      <td>...</td>\n",
              "      <td>...</td>\n",
              "      <td>...</td>\n",
              "      <td>...</td>\n",
              "      <td>...</td>\n",
              "      <td>...</td>\n",
              "      <td>...</td>\n",
              "      <td>...</td>\n",
              "      <td>...</td>\n",
              "      <td>...</td>\n",
              "      <td>...</td>\n",
              "      <td>...</td>\n",
              "      <td>...</td>\n",
              "      <td>...</td>\n",
              "      <td>...</td>\n",
              "      <td>...</td>\n",
              "      <td>...</td>\n",
              "      <td>...</td>\n",
              "      <td>...</td>\n",
              "      <td>...</td>\n",
              "      <td>...</td>\n",
              "      <td>...</td>\n",
              "      <td>...</td>\n",
              "      <td>...</td>\n",
              "      <td>...</td>\n",
              "      <td>...</td>\n",
              "      <td>...</td>\n",
              "      <td>...</td>\n",
              "      <td>...</td>\n",
              "      <td>...</td>\n",
              "      <td>...</td>\n",
              "      <td>...</td>\n",
              "    </tr>\n",
              "    <tr>\n",
              "      <th>77491</th>\n",
              "      <td>12920746</td>\n",
              "      <td>0.0344</td>\n",
              "      <td>2016-12-30</td>\n",
              "      <td>1.0</td>\n",
              "      <td>2.0</td>\n",
              "      <td>3.0</td>\n",
              "      <td>4.0</td>\n",
              "      <td>2.0</td>\n",
              "      <td>1448.0</td>\n",
              "      <td>1448.0</td>\n",
              "      <td>6037.0</td>\n",
              "      <td>2.0</td>\n",
              "      <td>2.0</td>\n",
              "      <td>390.606934</td>\n",
              "      <td>2.0</td>\n",
              "      <td>34098872.0</td>\n",
              "      <td>-117875152.0</td>\n",
              "      <td>7594.0</td>\n",
              "      <td>0100</td>\n",
              "      <td>261.0</td>\n",
              "      <td>60374036.0</td>\n",
              "      <td>24245.0</td>\n",
              "      <td>3101.0</td>\n",
              "      <td>118208.0</td>\n",
              "      <td>96473.0</td>\n",
              "      <td>0.0</td>\n",
              "      <td>1.0</td>\n",
              "      <td>1959.0</td>\n",
              "      <td>1.0</td>\n",
              "      <td>141700.0</td>\n",
              "      <td>405000.0</td>\n",
              "      <td>2015.0</td>\n",
              "      <td>263300.0</td>\n",
              "      <td>5311.029785</td>\n",
              "      <td>6.037404e+13</td>\n",
              "    </tr>\n",
              "    <tr>\n",
              "      <th>77492</th>\n",
              "      <td>10774160</td>\n",
              "      <td>-0.0356</td>\n",
              "      <td>2016-12-30</td>\n",
              "      <td>1.0</td>\n",
              "      <td>1.0</td>\n",
              "      <td>1.0</td>\n",
              "      <td>4.0</td>\n",
              "      <td>1.0</td>\n",
              "      <td>653.0</td>\n",
              "      <td>653.0</td>\n",
              "      <td>6037.0</td>\n",
              "      <td>1.0</td>\n",
              "      <td>2.0</td>\n",
              "      <td>390.606934</td>\n",
              "      <td>2.0</td>\n",
              "      <td>34203000.0</td>\n",
              "      <td>-118562000.0</td>\n",
              "      <td>93676.0</td>\n",
              "      <td>010C</td>\n",
              "      <td>266.0</td>\n",
              "      <td>60371316.0</td>\n",
              "      <td>12447.0</td>\n",
              "      <td>3101.0</td>\n",
              "      <td>40548.0</td>\n",
              "      <td>96364.0</td>\n",
              "      <td>0.0</td>\n",
              "      <td>1.0</td>\n",
              "      <td>1979.0</td>\n",
              "      <td>1.0</td>\n",
              "      <td>43800.0</td>\n",
              "      <td>191000.0</td>\n",
              "      <td>2015.0</td>\n",
              "      <td>147200.0</td>\n",
              "      <td>2495.239990</td>\n",
              "      <td>6.037132e+13</td>\n",
              "    </tr>\n",
              "    <tr>\n",
              "      <th>77493</th>\n",
              "      <td>12046695</td>\n",
              "      <td>0.0070</td>\n",
              "      <td>2016-12-30</td>\n",
              "      <td>1.0</td>\n",
              "      <td>3.0</td>\n",
              "      <td>3.0</td>\n",
              "      <td>4.0</td>\n",
              "      <td>3.0</td>\n",
              "      <td>2856.0</td>\n",
              "      <td>2856.0</td>\n",
              "      <td>6037.0</td>\n",
              "      <td>3.0</td>\n",
              "      <td>2.0</td>\n",
              "      <td>390.606934</td>\n",
              "      <td>2.0</td>\n",
              "      <td>34198744.0</td>\n",
              "      <td>-118224848.0</td>\n",
              "      <td>9343.0</td>\n",
              "      <td>0100</td>\n",
              "      <td>261.0</td>\n",
              "      <td>60373008.0</td>\n",
              "      <td>45457.0</td>\n",
              "      <td>3101.0</td>\n",
              "      <td>274580.0</td>\n",
              "      <td>96327.0</td>\n",
              "      <td>0.0</td>\n",
              "      <td>1.0</td>\n",
              "      <td>1965.0</td>\n",
              "      <td>1.0</td>\n",
              "      <td>117893.0</td>\n",
              "      <td>161111.0</td>\n",
              "      <td>2015.0</td>\n",
              "      <td>43218.0</td>\n",
              "      <td>1886.540039</td>\n",
              "      <td>6.037301e+13</td>\n",
              "    </tr>\n",
              "    <tr>\n",
              "      <th>77494</th>\n",
              "      <td>12995401</td>\n",
              "      <td>-0.2679</td>\n",
              "      <td>2016-12-30</td>\n",
              "      <td>1.0</td>\n",
              "      <td>2.0</td>\n",
              "      <td>4.0</td>\n",
              "      <td>7.0</td>\n",
              "      <td>2.0</td>\n",
              "      <td>2617.0</td>\n",
              "      <td>1838.0</td>\n",
              "      <td>6037.0</td>\n",
              "      <td>2.0</td>\n",
              "      <td>2.0</td>\n",
              "      <td>390.606934</td>\n",
              "      <td>2.0</td>\n",
              "      <td>34075656.0</td>\n",
              "      <td>-118025536.0</td>\n",
              "      <td>6865.0</td>\n",
              "      <td>0200</td>\n",
              "      <td>246.0</td>\n",
              "      <td>60374328.0</td>\n",
              "      <td>51861.0</td>\n",
              "      <td>3101.0</td>\n",
              "      <td>118208.0</td>\n",
              "      <td>96478.0</td>\n",
              "      <td>0.0</td>\n",
              "      <td>2.0</td>\n",
              "      <td>1924.0</td>\n",
              "      <td>1.0</td>\n",
              "      <td>22008.0</td>\n",
              "      <td>38096.0</td>\n",
              "      <td>2015.0</td>\n",
              "      <td>16088.0</td>\n",
              "      <td>1925.699951</td>\n",
              "      <td>6.037433e+13</td>\n",
              "    </tr>\n",
              "    <tr>\n",
              "      <th>77495</th>\n",
              "      <td>11402105</td>\n",
              "      <td>0.0602</td>\n",
              "      <td>2016-12-30</td>\n",
              "      <td>1.0</td>\n",
              "      <td>2.0</td>\n",
              "      <td>2.0</td>\n",
              "      <td>4.0</td>\n",
              "      <td>2.0</td>\n",
              "      <td>1034.0</td>\n",
              "      <td>1034.0</td>\n",
              "      <td>6037.0</td>\n",
              "      <td>2.0</td>\n",
              "      <td>2.0</td>\n",
              "      <td>390.606934</td>\n",
              "      <td>2.0</td>\n",
              "      <td>33963900.0</td>\n",
              "      <td>-118367000.0</td>\n",
              "      <td>20033.0</td>\n",
              "      <td>010C</td>\n",
              "      <td>266.0</td>\n",
              "      <td>60376016.0</td>\n",
              "      <td>45888.0</td>\n",
              "      <td>3101.0</td>\n",
              "      <td>118208.0</td>\n",
              "      <td>96133.0</td>\n",
              "      <td>0.0</td>\n",
              "      <td>1.0</td>\n",
              "      <td>1981.0</td>\n",
              "      <td>1.0</td>\n",
              "      <td>132991.0</td>\n",
              "      <td>165869.0</td>\n",
              "      <td>2015.0</td>\n",
              "      <td>32878.0</td>\n",
              "      <td>2285.570068</td>\n",
              "      <td>6.037601e+13</td>\n",
              "    </tr>\n",
              "  </tbody>\n",
              "</table>\n",
              "<p>77496 rows × 35 columns</p>\n",
              "</div>\n",
              "      <button class=\"colab-df-convert\" onclick=\"convertToInteractive('df-89326c86-ad00-466b-b6cf-5cdc1d66611b')\"\n",
              "              title=\"Convert this dataframe to an interactive table.\"\n",
              "              style=\"display:none;\">\n",
              "        \n",
              "  <svg xmlns=\"http://www.w3.org/2000/svg\" height=\"24px\"viewBox=\"0 0 24 24\"\n",
              "       width=\"24px\">\n",
              "    <path d=\"M0 0h24v24H0V0z\" fill=\"none\"/>\n",
              "    <path d=\"M18.56 5.44l.94 2.06.94-2.06 2.06-.94-2.06-.94-.94-2.06-.94 2.06-2.06.94zm-11 1L8.5 8.5l.94-2.06 2.06-.94-2.06-.94L8.5 2.5l-.94 2.06-2.06.94zm10 10l.94 2.06.94-2.06 2.06-.94-2.06-.94-.94-2.06-.94 2.06-2.06.94z\"/><path d=\"M17.41 7.96l-1.37-1.37c-.4-.4-.92-.59-1.43-.59-.52 0-1.04.2-1.43.59L10.3 9.45l-7.72 7.72c-.78.78-.78 2.05 0 2.83L4 21.41c.39.39.9.59 1.41.59.51 0 1.02-.2 1.41-.59l7.78-7.78 2.81-2.81c.8-.78.8-2.07 0-2.86zM5.41 20L4 18.59l7.72-7.72 1.47 1.35L5.41 20z\"/>\n",
              "  </svg>\n",
              "      </button>\n",
              "      \n",
              "  <style>\n",
              "    .colab-df-container {\n",
              "      display:flex;\n",
              "      flex-wrap:wrap;\n",
              "      gap: 12px;\n",
              "    }\n",
              "\n",
              "    .colab-df-convert {\n",
              "      background-color: #E8F0FE;\n",
              "      border: none;\n",
              "      border-radius: 50%;\n",
              "      cursor: pointer;\n",
              "      display: none;\n",
              "      fill: #1967D2;\n",
              "      height: 32px;\n",
              "      padding: 0 0 0 0;\n",
              "      width: 32px;\n",
              "    }\n",
              "\n",
              "    .colab-df-convert:hover {\n",
              "      background-color: #E2EBFA;\n",
              "      box-shadow: 0px 1px 2px rgba(60, 64, 67, 0.3), 0px 1px 3px 1px rgba(60, 64, 67, 0.15);\n",
              "      fill: #174EA6;\n",
              "    }\n",
              "\n",
              "    [theme=dark] .colab-df-convert {\n",
              "      background-color: #3B4455;\n",
              "      fill: #D2E3FC;\n",
              "    }\n",
              "\n",
              "    [theme=dark] .colab-df-convert:hover {\n",
              "      background-color: #434B5C;\n",
              "      box-shadow: 0px 1px 3px 1px rgba(0, 0, 0, 0.15);\n",
              "      filter: drop-shadow(0px 1px 2px rgba(0, 0, 0, 0.3));\n",
              "      fill: #FFFFFF;\n",
              "    }\n",
              "  </style>\n",
              "\n",
              "      <script>\n",
              "        const buttonEl =\n",
              "          document.querySelector('#df-89326c86-ad00-466b-b6cf-5cdc1d66611b button.colab-df-convert');\n",
              "        buttonEl.style.display =\n",
              "          google.colab.kernel.accessAllowed ? 'block' : 'none';\n",
              "\n",
              "        async function convertToInteractive(key) {\n",
              "          const element = document.querySelector('#df-89326c86-ad00-466b-b6cf-5cdc1d66611b');\n",
              "          const dataTable =\n",
              "            await google.colab.kernel.invokeFunction('convertToInteractive',\n",
              "                                                     [key], {});\n",
              "          if (!dataTable) return;\n",
              "\n",
              "          const docLinkHtml = 'Like what you see? Visit the ' +\n",
              "            '<a target=\"_blank\" href=https://colab.research.google.com/notebooks/data_table.ipynb>data table notebook</a>'\n",
              "            + ' to learn more about interactive tables.';\n",
              "          element.innerHTML = '';\n",
              "          dataTable['output_type'] = 'display_data';\n",
              "          await google.colab.output.renderOutput(dataTable, element);\n",
              "          const docLink = document.createElement('div');\n",
              "          docLink.innerHTML = docLinkHtml;\n",
              "          element.appendChild(docLink);\n",
              "        }\n",
              "      </script>\n",
              "    </div>\n",
              "  </div>\n",
              "  "
            ],
            "text/plain": [
              "       parcelid  logerror  ...     taxamount  censustractandblock\n",
              "0      11016594    0.0276  ...   6735.879883         6.037107e+13\n",
              "1      12098116   -0.0040  ...  11484.480469         6.037464e+13\n",
              "2      12643413    0.0218  ...   3048.739990         6.037296e+13\n",
              "3      14432541   -0.0050  ...   5488.959961         6.059042e+13\n",
              "4      11509835   -0.2705  ...  27126.570312         6.037621e+13\n",
              "...         ...       ...  ...           ...                  ...\n",
              "77491  12920746    0.0344  ...   5311.029785         6.037404e+13\n",
              "77492  10774160   -0.0356  ...   2495.239990         6.037132e+13\n",
              "77493  12046695    0.0070  ...   1886.540039         6.037301e+13\n",
              "77494  12995401   -0.2679  ...   1925.699951         6.037433e+13\n",
              "77495  11402105    0.0602  ...   2285.570068         6.037601e+13\n",
              "\n",
              "[77496 rows x 35 columns]"
            ]
          },
          "metadata": {},
          "execution_count": 46
        }
      ],
      "source": [
        "df"
      ]
    },
    {
      "cell_type": "code",
      "execution_count": 47,
      "metadata": {
        "colab": {
          "base_uri": "https://localhost:8080/"
        },
        "id": "OmiKf-boPk5l",
        "outputId": "cb059e84-959b-411b-97b4-9b2034db0654"
      },
      "outputs": [
        {
          "output_type": "execute_result",
          "data": {
            "text/plain": [
              "(77496, 35)"
            ]
          },
          "metadata": {},
          "execution_count": 47
        }
      ],
      "source": [
        "df.shape"
      ]
    },
    {
      "cell_type": "code",
      "execution_count": 48,
      "metadata": {
        "colab": {
          "base_uri": "https://localhost:8080/"
        },
        "id": "4OSqWcyyPk5l",
        "outputId": "c49c11a3-0618-4b1f-caaf-d8cf3e45d58f"
      },
      "outputs": [
        {
          "output_type": "execute_result",
          "data": {
            "text/plain": [
              "Series([], dtype: float64)"
            ]
          },
          "metadata": {},
          "execution_count": 48
        }
      ],
      "source": [
        "nulls(df)"
      ]
    },
    {
      "cell_type": "markdown",
      "metadata": {
        "id": "ZZyHEHLdPk5l"
      },
      "source": [
        "We have now gotten rid of all the nulls in the dataset. Now, since the KNN imputer has returned non integer values for some of the rows, we have to round them off back to ints."
      ]
    },
    {
      "cell_type": "code",
      "execution_count": 49,
      "metadata": {
        "colab": {
          "base_uri": "https://localhost:8080/"
        },
        "id": "kdo2dH20Pk5m",
        "outputId": "96d25b1c-1033-432b-fc3f-f7ff921e7ff2"
      },
      "outputs": [
        {
          "output_type": "execute_result",
          "data": {
            "text/plain": [
              "7.0     31846\n",
              "4.0     27212\n",
              "5.2      3492\n",
              "5.8      2684\n",
              "4.6      2440\n",
              "6.4      2359\n",
              "1.0      2346\n",
              "10.0     1318\n",
              "5.2      1017\n",
              "3.4       922\n",
              "7.6       469\n",
              "2.8       393\n",
              "1.6       266\n",
              "2.2       257\n",
              "12.0      114\n",
              "7.0       109\n",
              "5.8        49\n",
              "7.6        47\n",
              "8.2        29\n",
              "8.8        18\n",
              "10.4       14\n",
              "9.0        10\n",
              "11.2       10\n",
              "8.6         9\n",
              "8.0         6\n",
              "5.6         6\n",
              "10.8        6\n",
              "5.0         6\n",
              "7.8         5\n",
              "9.6         4\n",
              "3.8         3\n",
              "6.4         3\n",
              "4.4         3\n",
              "11.6        3\n",
              "9.4         3\n",
              "5.0         2\n",
              "7.4         2\n",
              "7.2         2\n",
              "6.2         2\n",
              "7.8         2\n",
              "6.8         1\n",
              "9.0         1\n",
              "6.6         1\n",
              "9.6         1\n",
              "6.0         1\n",
              "5.4         1\n",
              "11.0        1\n",
              "6.8         1\n",
              "Name: buildingqualitytypeid, dtype: int64"
            ]
          },
          "metadata": {},
          "execution_count": 49
        }
      ],
      "source": [
        "# We can observe decimal values here\n",
        "df.buildingqualitytypeid.value_counts()"
      ]
    },
    {
      "cell_type": "code",
      "execution_count": 50,
      "metadata": {
        "id": "0EPBrOK0Pk5m"
      },
      "outputs": [],
      "source": [
        "df['buildingqualitytypeid'] = df.buildingqualitytypeid.apply(lambda x: round(x))"
      ]
    },
    {
      "cell_type": "code",
      "execution_count": 51,
      "metadata": {
        "colab": {
          "base_uri": "https://localhost:8080/"
        },
        "id": "IxGp-PUGPk5m",
        "outputId": "4cdb7ad3-bb6c-4c80-817e-5de614bf7594"
      },
      "outputs": [
        {
          "output_type": "execute_result",
          "data": {
            "text/plain": [
              "7     31962\n",
              "4     27218\n",
              "5      6958\n",
              "6      5104\n",
              "1      2346\n",
              "10     1337\n",
              "3      1315\n",
              "8       558\n",
              "2       523\n",
              "12      117\n",
              "9        41\n",
              "11       17\n",
              "Name: buildingqualitytypeid, dtype: int64"
            ]
          },
          "metadata": {},
          "execution_count": 51
        }
      ],
      "source": [
        "df.buildingqualitytypeid.value_counts()"
      ]
    },
    {
      "cell_type": "code",
      "execution_count": 52,
      "metadata": {
        "colab": {
          "base_uri": "https://localhost:8080/",
          "height": 691
        },
        "id": "799Z0YcmPk5m",
        "outputId": "d05098dc-7ddf-48ee-a2b9-80636fadc56d"
      },
      "outputs": [
        {
          "output_type": "execute_result",
          "data": {
            "text/plain": [
              "<matplotlib.axes._subplots.AxesSubplot at 0x7f88c33c3cd0>"
            ]
          },
          "metadata": {},
          "execution_count": 52
        },
        {
          "output_type": "display_data",
          "data": {
            "image/png": "[encoded data removed]",
            "text/plain": [
              "<Figure size 792x648 with 2 Axes>"
            ]
          },
          "metadata": {
            "needs_background": "light"
          }
        }
      ],
      "source": [
        "# Correlation matrix visual \n",
        "# Ref https://seaborn.pydata.org/examples/many_pairwise_correlations.html\n",
        "\n",
        "corr = df.corr()\n",
        "# Generate a mask for the upper triangle\n",
        "mask = np.triu(np.ones_like(corr, dtype=bool))\n",
        "\n",
        "# Set up the matplotlib figure\n",
        "f, ax = plt.subplots(figsize=(11, 9))\n",
        "\n",
        "# Generate a custom diverging colormap\n",
        "cmap = sns.diverging_palette(230, 20, as_cmap=True)\n",
        "\n",
        "# Draw the heatmap with the mask and correct aspect ratio\n",
        "sns.heatmap(corr,  cmap=cmap, vmax=.3, center=0,\n",
        "            square=True, linewidths=.5, cbar_kws={\"shrink\": .5})"
      ]
    },
    {
      "cell_type": "markdown",
      "metadata": {
        "id": "_K_NQanHPk5n"
      },
      "source": [
        "## 3. EDA and Cleaning"
      ]
    },
    {
      "cell_type": "markdown",
      "metadata": {
        "id": "CIELh4g4Pk5n"
      },
      "source": [
        "Let's look at what features we have now"
      ]
    },
    {
      "cell_type": "code",
      "execution_count": 53,
      "metadata": {
        "colab": {
          "base_uri": "https://localhost:8080/"
        },
        "id": "Ck75KoXlPk5n",
        "outputId": "0b3291a1-b9ff-497f-cf89-d71e75c4f0c9"
      },
      "outputs": [
        {
          "output_type": "execute_result",
          "data": {
            "text/plain": [
              "Index(['parcelid', 'logerror', 'transactiondate', 'airconditioningtypeid',\n",
              "       'bathroomcnt', 'bedroomcnt', 'buildingqualitytypeid',\n",
              "       'calculatedbathnbr', 'calculatedfinishedsquarefeet',\n",
              "       'finishedsquarefeet12', 'fips', 'fullbathcnt', 'garagecarcnt',\n",
              "       'garagetotalsqft', 'heatingorsystemtypeid', 'latitude', 'longitude',\n",
              "       'lotsizesquarefeet', 'propertycountylandusecode',\n",
              "       'propertylandusetypeid', 'rawcensustractandblock', 'regionidcity',\n",
              "       'regionidcounty', 'regionidneighborhood', 'regionidzip', 'roomcnt',\n",
              "       'unitcnt', 'yearbuilt', 'numberofstories', 'structuretaxvaluedollarcnt',\n",
              "       'taxvaluedollarcnt', 'assessmentyear', 'landtaxvaluedollarcnt',\n",
              "       'taxamount', 'censustractandblock'],\n",
              "      dtype='object')"
            ]
          },
          "metadata": {},
          "execution_count": 53
        }
      ],
      "source": [
        "df.columns"
      ]
    },
    {
      "cell_type": "markdown",
      "metadata": {
        "id": "8mQ-7Fe9Pk5n"
      },
      "source": [
        "Let's look at what our categorical features are spread out like. These are nominal categorical features"
      ]
    },
    {
      "cell_type": "code",
      "execution_count": 54,
      "metadata": {
        "id": "QBDCosSRPk5o"
      },
      "outputs": [],
      "source": [
        "cat_vars = [\n",
        "    'airconditioningtypeid',\n",
        "    'buildingqualitytypeid',\n",
        "    'fips',\n",
        "    'heatingorsystemtypeid',\n",
        "    'propertylandusetypeid',\n",
        "    'rawcensustractandblock',\n",
        "    'regionidcity',\n",
        "    'regionidcounty',\n",
        "    'regionidcounty',\n",
        "    'regionidzip',\n",
        "    'censustractandblock',\n",
        "    'propertycountylandusecode'\n",
        "]"
      ]
    },
    {
      "cell_type": "code",
      "execution_count": 55,
      "metadata": {
        "colab": {
          "base_uri": "https://localhost:8080/"
        },
        "id": "BdXIluI3Pk5o",
        "outputId": "1de28eb9-30b9-4d8c-a152-64db59e2e38e"
      },
      "outputs": [
        {
          "output_type": "execute_result",
          "data": {
            "text/plain": [
              "97319.0    890\n",
              "97329.0    729\n",
              "97318.0    712\n",
              "97328.0    690\n",
              "96193.0    590\n",
              "          ... \n",
              "96973.0      2\n",
              "96467.0      1\n",
              "96034.0      1\n",
              "97111.0      1\n",
              "96226.0      1\n",
              "Name: regionidzip, Length: 385, dtype: int64"
            ]
          },
          "metadata": {},
          "execution_count": 55
        }
      ],
      "source": [
        "df.regionidzip.value_counts()"
      ]
    },
    {
      "cell_type": "code",
      "execution_count": 56,
      "metadata": {
        "colab": {
          "base_uri": "https://localhost:8080/",
          "height": 1000
        },
        "id": "ea3xg7f1Pk5o",
        "outputId": "2cfe0b08-d79c-426f-c551-e59476fd9e77"
      },
      "outputs": [
        {
          "output_type": "display_data",
          "data": {
            "image/png": "[encoded data removed]",
            "text/plain": [
              "<Figure size 1440x14976 with 12 Axes>"
            ]
          },
          "metadata": {
            "needs_background": "light"
          }
        }
      ],
      "source": [
        "plt.figure(figsize=(20,8*26))\n",
        "for i,each in enumerate(cat_vars):\n",
        "    plt.subplot(26,2,i+1)\n",
        "    sns.countplot(y=df[each])"
      ]
    },
    {
      "cell_type": "markdown",
      "metadata": {
        "id": "PVXVUTAAPk5p"
      },
      "source": [
        "Some features have a large skew. Let's do a mathematical analysis to figure out if any features are more than 90% skewed towards one value"
      ]
    },
    {
      "cell_type": "code",
      "execution_count": 57,
      "metadata": {
        "colab": {
          "base_uri": "https://localhost:8080/"
        },
        "id": "X3Ymit-cPk5p",
        "outputId": "86a65a13-247b-4d50-96aa-40ad5ba142a0"
      },
      "outputs": [
        {
          "output_type": "stream",
          "name": "stdout",
          "text": [
            "1.0     97.402447\n",
            "13.0     2.320120\n",
            "5.0      0.249045\n",
            "11.0     0.027098\n",
            "9.0      0.001290\n",
            "Name: airconditioningtypeid, dtype: float64\n",
            "\n",
            "\n"
          ]
        }
      ],
      "source": [
        "#from the above plots, we can spot some features with a consider amount of skewing in the data.\n",
        "#We will analyze how much skewed the data exactly is, and then take action based on that.\n",
        "#As a benchmark, features with more than 90% of data belonging to one category can be set as skewed\n",
        "#We will find which of our categorical columns can be cateogirzed as skewed\n",
        "skewed_cols = []\n",
        "for each in cat_vars:\n",
        "    if max(df[each].value_counts(normalize=True)*100) > 90:\n",
        "        print(df[each].value_counts(normalize=True)*100)\n",
        "        print('\\n')\n",
        "        skewed_cols.append(each)        "
      ]
    },
    {
      "cell_type": "markdown",
      "metadata": {
        "id": "06jas4V9Pk5q"
      },
      "source": [
        "airconditioningtypeid is heavily skewed. We can drop this feature."
      ]
    },
    {
      "cell_type": "code",
      "execution_count": 58,
      "metadata": {
        "id": "w1cFrxZTPk5q"
      },
      "outputs": [],
      "source": [
        "df.drop('airconditioningtypeid', axis = 1, inplace = True)\n",
        "cat_vars.remove('airconditioningtypeid')"
      ]
    },
    {
      "cell_type": "markdown",
      "metadata": {
        "id": "O1Jl6NzmPk5q"
      },
      "source": [
        "Zipcodes can be more helpful if we bin them using the first three digits. "
      ]
    },
    {
      "cell_type": "code",
      "execution_count": 59,
      "metadata": {
        "colab": {
          "base_uri": "https://localhost:8080/"
        },
        "id": "x2ooNONVPk5r",
        "outputId": "228bdb41-3975-478c-dc95-cc16ffef3de8"
      },
      "outputs": [
        {
          "output_type": "execute_result",
          "data": {
            "text/plain": [
              "963    0.141078\n",
              "961    0.137646\n",
              "962    0.126058\n",
              "960    0.117542\n",
              "969    0.110922\n",
              "970    0.110651\n",
              "964    0.103709\n",
              "973    0.052325\n",
              "965    0.044944\n",
              "971    0.028169\n",
              "959    0.025666\n",
              "972    0.001123\n",
              "399    0.000168\n",
              "Name: regionidzip, dtype: float64"
            ]
          },
          "metadata": {},
          "execution_count": 59
        }
      ],
      "source": [
        "df.regionidzip.apply(lambda x : str(x)[:3]).value_counts()/len(df)"
      ]
    },
    {
      "cell_type": "code",
      "execution_count": 60,
      "metadata": {
        "id": "p6PB6NfpPk5r"
      },
      "outputs": [],
      "source": [
        "df['regionidzip'] = df.regionidzip.apply(lambda x : str(x)[:3])"
      ]
    },
    {
      "cell_type": "code",
      "execution_count": 61,
      "metadata": {
        "id": "YXtnNxgKPk5r"
      },
      "outputs": [],
      "source": [
        "# We don't need multiple geographic indicators\n",
        "df.drop('regionidcity', axis = 1, inplace = True)\n",
        "cat_vars.remove('regionidcity')\n",
        "# Also dropping these admin columns \n",
        "df.drop(\n",
        "    ['rawcensustractandblock', 'censustractandblock'],\n",
        "    axis = 1,\n",
        "    inplace = True\n",
        ")\n",
        "cat_vars.remove('rawcensustractandblock')\n",
        "cat_vars.remove('censustractandblock')\n"
      ]
    },
    {
      "cell_type": "code",
      "execution_count": 62,
      "metadata": {
        "colab": {
          "base_uri": "https://localhost:8080/"
        },
        "id": "2UoJeyxlPk5s",
        "outputId": "29fbe5f9-95ff-4ad2-952f-a7c4fbb4ff96"
      },
      "outputs": [
        {
          "output_type": "execute_result",
          "data": {
            "text/plain": [
              "Index(['parcelid', 'logerror', 'transactiondate', 'bathroomcnt', 'bedroomcnt',\n",
              "       'buildingqualitytypeid', 'calculatedbathnbr',\n",
              "       'calculatedfinishedsquarefeet', 'finishedsquarefeet12', 'fips',\n",
              "       'fullbathcnt', 'garagecarcnt', 'garagetotalsqft',\n",
              "       'heatingorsystemtypeid', 'latitude', 'longitude', 'lotsizesquarefeet',\n",
              "       'propertycountylandusecode', 'propertylandusetypeid', 'regionidcounty',\n",
              "       'regionidneighborhood', 'regionidzip', 'roomcnt', 'unitcnt',\n",
              "       'yearbuilt', 'numberofstories', 'structuretaxvaluedollarcnt',\n",
              "       'taxvaluedollarcnt', 'assessmentyear', 'landtaxvaluedollarcnt',\n",
              "       'taxamount'],\n",
              "      dtype='object')"
            ]
          },
          "metadata": {},
          "execution_count": 62
        }
      ],
      "source": [
        "df.columns"
      ]
    },
    {
      "cell_type": "code",
      "execution_count": 63,
      "metadata": {
        "colab": {
          "base_uri": "https://localhost:8080/",
          "height": 1000
        },
        "id": "ET4qi9oePk5s",
        "outputId": "c7a615cf-36c3-4b33-d528-f9d63d9c8163"
      },
      "outputs": [
        {
          "output_type": "display_data",
          "data": {
            "image/png": "[encoded data removed]",
            "text/plain": [
              "<Figure size 1440x14976 with 8 Axes>"
            ]
          },
          "metadata": {
            "needs_background": "light"
          }
        }
      ],
      "source": [
        "plt.figure(figsize=(20,8*26))\n",
        "for i,each in enumerate(cat_vars):\n",
        "    plt.subplot(26,2,i+1)\n",
        "    sns.countplot(y=df[each])"
      ]
    },
    {
      "cell_type": "markdown",
      "metadata": {
        "id": "5XEX-KD6Pk5t"
      },
      "source": [
        "Creating dummies for categorical nominal variables"
      ]
    },
    {
      "cell_type": "code",
      "execution_count": 64,
      "metadata": {
        "colab": {
          "base_uri": "https://localhost:8080/",
          "height": 487
        },
        "id": "b2NLJZ9hPk5t",
        "outputId": "8ff94e04-e163-4398-ebd4-560712f388ac"
      },
      "outputs": [
        {
          "output_type": "execute_result",
          "data": {
            "text/html": [
              "\n",
              "  <div id=\"df-34aa664d-165b-49df-ac53-561d1e1b8c28\">\n",
              "    <div class=\"colab-df-container\">\n",
              "      <div>\n",
              "<style scoped>\n",
              "    .dataframe tbody tr th:only-of-type {\n",
              "        vertical-align: middle;\n",
              "    }\n",
              "\n",
              "    .dataframe tbody tr th {\n",
              "        vertical-align: top;\n",
              "    }\n",
              "\n",
              "    .dataframe thead th {\n",
              "        text-align: right;\n",
              "    }\n",
              "</style>\n",
              "<table border=\"1\" class=\"dataframe\">\n",
              "  <thead>\n",
              "    <tr style=\"text-align: right;\">\n",
              "      <th></th>\n",
              "      <th>buildingqualitytypeid_2</th>\n",
              "      <th>buildingqualitytypeid_3</th>\n",
              "      <th>buildingqualitytypeid_4</th>\n",
              "      <th>buildingqualitytypeid_5</th>\n",
              "      <th>buildingqualitytypeid_6</th>\n",
              "      <th>buildingqualitytypeid_7</th>\n",
              "      <th>buildingqualitytypeid_8</th>\n",
              "      <th>buildingqualitytypeid_9</th>\n",
              "      <th>buildingqualitytypeid_10</th>\n",
              "      <th>buildingqualitytypeid_11</th>\n",
              "      <th>buildingqualitytypeid_12</th>\n",
              "      <th>fips_6059.0</th>\n",
              "      <th>fips_6111.0</th>\n",
              "      <th>heatingorsystemtypeid_2.0</th>\n",
              "      <th>heatingorsystemtypeid_6.0</th>\n",
              "      <th>heatingorsystemtypeid_7.0</th>\n",
              "      <th>heatingorsystemtypeid_10.0</th>\n",
              "      <th>heatingorsystemtypeid_11.0</th>\n",
              "      <th>heatingorsystemtypeid_13.0</th>\n",
              "      <th>heatingorsystemtypeid_14.0</th>\n",
              "      <th>heatingorsystemtypeid_18.0</th>\n",
              "      <th>heatingorsystemtypeid_20.0</th>\n",
              "      <th>heatingorsystemtypeid_24.0</th>\n",
              "      <th>propertylandusetypeid_246.0</th>\n",
              "      <th>propertylandusetypeid_247.0</th>\n",
              "      <th>propertylandusetypeid_248.0</th>\n",
              "      <th>propertylandusetypeid_260.0</th>\n",
              "      <th>propertylandusetypeid_261.0</th>\n",
              "      <th>propertylandusetypeid_263.0</th>\n",
              "      <th>propertylandusetypeid_264.0</th>\n",
              "      <th>propertylandusetypeid_265.0</th>\n",
              "      <th>propertylandusetypeid_266.0</th>\n",
              "      <th>propertylandusetypeid_267.0</th>\n",
              "      <th>propertylandusetypeid_269.0</th>\n",
              "      <th>propertylandusetypeid_275.0</th>\n",
              "      <th>regionidcounty_2061.0</th>\n",
              "      <th>regionidcounty_3101.0</th>\n",
              "      <th>regionidcounty_2061.0</th>\n",
              "      <th>regionidcounty_3101.0</th>\n",
              "      <th>regionidzip_959</th>\n",
              "      <th>...</th>\n",
              "      <th>propertycountylandusecode_010V</th>\n",
              "      <th>propertycountylandusecode_0110</th>\n",
              "      <th>propertycountylandusecode_0111</th>\n",
              "      <th>propertycountylandusecode_0114</th>\n",
              "      <th>propertycountylandusecode_012C</th>\n",
              "      <th>propertycountylandusecode_012E</th>\n",
              "      <th>propertycountylandusecode_0130</th>\n",
              "      <th>propertycountylandusecode_0131</th>\n",
              "      <th>propertycountylandusecode_01DC</th>\n",
              "      <th>propertycountylandusecode_01HC</th>\n",
              "      <th>propertycountylandusecode_0200</th>\n",
              "      <th>propertycountylandusecode_0201</th>\n",
              "      <th>propertycountylandusecode_020G</th>\n",
              "      <th>propertycountylandusecode_020M</th>\n",
              "      <th>propertycountylandusecode_0210</th>\n",
              "      <th>propertycountylandusecode_0300</th>\n",
              "      <th>propertycountylandusecode_0301</th>\n",
              "      <th>propertycountylandusecode_0303</th>\n",
              "      <th>propertycountylandusecode_030G</th>\n",
              "      <th>propertycountylandusecode_0400</th>\n",
              "      <th>propertycountylandusecode_0401</th>\n",
              "      <th>propertycountylandusecode_040A</th>\n",
              "      <th>propertycountylandusecode_0700</th>\n",
              "      <th>propertycountylandusecode_070D</th>\n",
              "      <th>propertycountylandusecode_1</th>\n",
              "      <th>propertycountylandusecode_105</th>\n",
              "      <th>propertycountylandusecode_1110</th>\n",
              "      <th>propertycountylandusecode_1111</th>\n",
              "      <th>propertycountylandusecode_1116</th>\n",
              "      <th>propertycountylandusecode_1117</th>\n",
              "      <th>propertycountylandusecode_1128</th>\n",
              "      <th>propertycountylandusecode_1129</th>\n",
              "      <th>propertycountylandusecode_1210</th>\n",
              "      <th>propertycountylandusecode_122</th>\n",
              "      <th>propertycountylandusecode_1222</th>\n",
              "      <th>propertycountylandusecode_135</th>\n",
              "      <th>propertycountylandusecode_200</th>\n",
              "      <th>propertycountylandusecode_34</th>\n",
              "      <th>propertycountylandusecode_38</th>\n",
              "      <th>propertycountylandusecode_96</th>\n",
              "    </tr>\n",
              "  </thead>\n",
              "  <tbody>\n",
              "    <tr>\n",
              "      <th>0</th>\n",
              "      <td>0</td>\n",
              "      <td>0</td>\n",
              "      <td>1</td>\n",
              "      <td>0</td>\n",
              "      <td>0</td>\n",
              "      <td>0</td>\n",
              "      <td>0</td>\n",
              "      <td>0</td>\n",
              "      <td>0</td>\n",
              "      <td>0</td>\n",
              "      <td>0</td>\n",
              "      <td>0</td>\n",
              "      <td>0</td>\n",
              "      <td>1</td>\n",
              "      <td>0</td>\n",
              "      <td>0</td>\n",
              "      <td>0</td>\n",
              "      <td>0</td>\n",
              "      <td>0</td>\n",
              "      <td>0</td>\n",
              "      <td>0</td>\n",
              "      <td>0</td>\n",
              "      <td>0</td>\n",
              "      <td>0</td>\n",
              "      <td>0</td>\n",
              "      <td>0</td>\n",
              "      <td>0</td>\n",
              "      <td>1</td>\n",
              "      <td>0</td>\n",
              "      <td>0</td>\n",
              "      <td>0</td>\n",
              "      <td>0</td>\n",
              "      <td>0</td>\n",
              "      <td>0</td>\n",
              "      <td>0</td>\n",
              "      <td>0</td>\n",
              "      <td>1</td>\n",
              "      <td>0</td>\n",
              "      <td>1</td>\n",
              "      <td>0</td>\n",
              "      <td>...</td>\n",
              "      <td>0</td>\n",
              "      <td>0</td>\n",
              "      <td>0</td>\n",
              "      <td>0</td>\n",
              "      <td>0</td>\n",
              "      <td>0</td>\n",
              "      <td>0</td>\n",
              "      <td>0</td>\n",
              "      <td>0</td>\n",
              "      <td>0</td>\n",
              "      <td>0</td>\n",
              "      <td>0</td>\n",
              "      <td>0</td>\n",
              "      <td>0</td>\n",
              "      <td>0</td>\n",
              "      <td>0</td>\n",
              "      <td>0</td>\n",
              "      <td>0</td>\n",
              "      <td>0</td>\n",
              "      <td>0</td>\n",
              "      <td>0</td>\n",
              "      <td>0</td>\n",
              "      <td>0</td>\n",
              "      <td>0</td>\n",
              "      <td>0</td>\n",
              "      <td>0</td>\n",
              "      <td>0</td>\n",
              "      <td>0</td>\n",
              "      <td>0</td>\n",
              "      <td>0</td>\n",
              "      <td>0</td>\n",
              "      <td>0</td>\n",
              "      <td>0</td>\n",
              "      <td>0</td>\n",
              "      <td>0</td>\n",
              "      <td>0</td>\n",
              "      <td>0</td>\n",
              "      <td>0</td>\n",
              "      <td>0</td>\n",
              "      <td>0</td>\n",
              "    </tr>\n",
              "    <tr>\n",
              "      <th>1</th>\n",
              "      <td>0</td>\n",
              "      <td>0</td>\n",
              "      <td>1</td>\n",
              "      <td>0</td>\n",
              "      <td>0</td>\n",
              "      <td>0</td>\n",
              "      <td>0</td>\n",
              "      <td>0</td>\n",
              "      <td>0</td>\n",
              "      <td>0</td>\n",
              "      <td>0</td>\n",
              "      <td>0</td>\n",
              "      <td>0</td>\n",
              "      <td>1</td>\n",
              "      <td>0</td>\n",
              "      <td>0</td>\n",
              "      <td>0</td>\n",
              "      <td>0</td>\n",
              "      <td>0</td>\n",
              "      <td>0</td>\n",
              "      <td>0</td>\n",
              "      <td>0</td>\n",
              "      <td>0</td>\n",
              "      <td>0</td>\n",
              "      <td>0</td>\n",
              "      <td>0</td>\n",
              "      <td>0</td>\n",
              "      <td>1</td>\n",
              "      <td>0</td>\n",
              "      <td>0</td>\n",
              "      <td>0</td>\n",
              "      <td>0</td>\n",
              "      <td>0</td>\n",
              "      <td>0</td>\n",
              "      <td>0</td>\n",
              "      <td>0</td>\n",
              "      <td>1</td>\n",
              "      <td>0</td>\n",
              "      <td>1</td>\n",
              "      <td>0</td>\n",
              "      <td>...</td>\n",
              "      <td>0</td>\n",
              "      <td>0</td>\n",
              "      <td>0</td>\n",
              "      <td>0</td>\n",
              "      <td>0</td>\n",
              "      <td>0</td>\n",
              "      <td>0</td>\n",
              "      <td>0</td>\n",
              "      <td>0</td>\n",
              "      <td>0</td>\n",
              "      <td>0</td>\n",
              "      <td>0</td>\n",
              "      <td>0</td>\n",
              "      <td>0</td>\n",
              "      <td>0</td>\n",
              "      <td>0</td>\n",
              "      <td>0</td>\n",
              "      <td>0</td>\n",
              "      <td>0</td>\n",
              "      <td>0</td>\n",
              "      <td>0</td>\n",
              "      <td>0</td>\n",
              "      <td>0</td>\n",
              "      <td>0</td>\n",
              "      <td>0</td>\n",
              "      <td>0</td>\n",
              "      <td>0</td>\n",
              "      <td>0</td>\n",
              "      <td>0</td>\n",
              "      <td>0</td>\n",
              "      <td>0</td>\n",
              "      <td>0</td>\n",
              "      <td>0</td>\n",
              "      <td>0</td>\n",
              "      <td>0</td>\n",
              "      <td>0</td>\n",
              "      <td>0</td>\n",
              "      <td>0</td>\n",
              "      <td>0</td>\n",
              "      <td>0</td>\n",
              "    </tr>\n",
              "    <tr>\n",
              "      <th>2</th>\n",
              "      <td>0</td>\n",
              "      <td>0</td>\n",
              "      <td>1</td>\n",
              "      <td>0</td>\n",
              "      <td>0</td>\n",
              "      <td>0</td>\n",
              "      <td>0</td>\n",
              "      <td>0</td>\n",
              "      <td>0</td>\n",
              "      <td>0</td>\n",
              "      <td>0</td>\n",
              "      <td>0</td>\n",
              "      <td>0</td>\n",
              "      <td>1</td>\n",
              "      <td>0</td>\n",
              "      <td>0</td>\n",
              "      <td>0</td>\n",
              "      <td>0</td>\n",
              "      <td>0</td>\n",
              "      <td>0</td>\n",
              "      <td>0</td>\n",
              "      <td>0</td>\n",
              "      <td>0</td>\n",
              "      <td>0</td>\n",
              "      <td>0</td>\n",
              "      <td>0</td>\n",
              "      <td>0</td>\n",
              "      <td>0</td>\n",
              "      <td>0</td>\n",
              "      <td>0</td>\n",
              "      <td>0</td>\n",
              "      <td>1</td>\n",
              "      <td>0</td>\n",
              "      <td>0</td>\n",
              "      <td>0</td>\n",
              "      <td>0</td>\n",
              "      <td>1</td>\n",
              "      <td>0</td>\n",
              "      <td>1</td>\n",
              "      <td>0</td>\n",
              "      <td>...</td>\n",
              "      <td>0</td>\n",
              "      <td>0</td>\n",
              "      <td>0</td>\n",
              "      <td>0</td>\n",
              "      <td>0</td>\n",
              "      <td>0</td>\n",
              "      <td>0</td>\n",
              "      <td>0</td>\n",
              "      <td>0</td>\n",
              "      <td>0</td>\n",
              "      <td>0</td>\n",
              "      <td>0</td>\n",
              "      <td>0</td>\n",
              "      <td>0</td>\n",
              "      <td>0</td>\n",
              "      <td>0</td>\n",
              "      <td>0</td>\n",
              "      <td>0</td>\n",
              "      <td>0</td>\n",
              "      <td>0</td>\n",
              "      <td>0</td>\n",
              "      <td>0</td>\n",
              "      <td>0</td>\n",
              "      <td>0</td>\n",
              "      <td>0</td>\n",
              "      <td>0</td>\n",
              "      <td>0</td>\n",
              "      <td>0</td>\n",
              "      <td>0</td>\n",
              "      <td>0</td>\n",
              "      <td>0</td>\n",
              "      <td>0</td>\n",
              "      <td>0</td>\n",
              "      <td>0</td>\n",
              "      <td>0</td>\n",
              "      <td>0</td>\n",
              "      <td>0</td>\n",
              "      <td>0</td>\n",
              "      <td>0</td>\n",
              "      <td>0</td>\n",
              "    </tr>\n",
              "    <tr>\n",
              "      <th>3</th>\n",
              "      <td>0</td>\n",
              "      <td>0</td>\n",
              "      <td>0</td>\n",
              "      <td>1</td>\n",
              "      <td>0</td>\n",
              "      <td>0</td>\n",
              "      <td>0</td>\n",
              "      <td>0</td>\n",
              "      <td>0</td>\n",
              "      <td>0</td>\n",
              "      <td>0</td>\n",
              "      <td>1</td>\n",
              "      <td>0</td>\n",
              "      <td>1</td>\n",
              "      <td>0</td>\n",
              "      <td>0</td>\n",
              "      <td>0</td>\n",
              "      <td>0</td>\n",
              "      <td>0</td>\n",
              "      <td>0</td>\n",
              "      <td>0</td>\n",
              "      <td>0</td>\n",
              "      <td>0</td>\n",
              "      <td>0</td>\n",
              "      <td>0</td>\n",
              "      <td>0</td>\n",
              "      <td>0</td>\n",
              "      <td>1</td>\n",
              "      <td>0</td>\n",
              "      <td>0</td>\n",
              "      <td>0</td>\n",
              "      <td>0</td>\n",
              "      <td>0</td>\n",
              "      <td>0</td>\n",
              "      <td>0</td>\n",
              "      <td>0</td>\n",
              "      <td>0</td>\n",
              "      <td>0</td>\n",
              "      <td>0</td>\n",
              "      <td>0</td>\n",
              "      <td>...</td>\n",
              "      <td>0</td>\n",
              "      <td>0</td>\n",
              "      <td>0</td>\n",
              "      <td>0</td>\n",
              "      <td>0</td>\n",
              "      <td>0</td>\n",
              "      <td>0</td>\n",
              "      <td>0</td>\n",
              "      <td>0</td>\n",
              "      <td>0</td>\n",
              "      <td>0</td>\n",
              "      <td>0</td>\n",
              "      <td>0</td>\n",
              "      <td>0</td>\n",
              "      <td>0</td>\n",
              "      <td>0</td>\n",
              "      <td>0</td>\n",
              "      <td>0</td>\n",
              "      <td>0</td>\n",
              "      <td>0</td>\n",
              "      <td>0</td>\n",
              "      <td>0</td>\n",
              "      <td>0</td>\n",
              "      <td>0</td>\n",
              "      <td>0</td>\n",
              "      <td>0</td>\n",
              "      <td>0</td>\n",
              "      <td>0</td>\n",
              "      <td>0</td>\n",
              "      <td>0</td>\n",
              "      <td>0</td>\n",
              "      <td>0</td>\n",
              "      <td>0</td>\n",
              "      <td>1</td>\n",
              "      <td>0</td>\n",
              "      <td>0</td>\n",
              "      <td>0</td>\n",
              "      <td>0</td>\n",
              "      <td>0</td>\n",
              "      <td>0</td>\n",
              "    </tr>\n",
              "    <tr>\n",
              "      <th>4</th>\n",
              "      <td>0</td>\n",
              "      <td>0</td>\n",
              "      <td>0</td>\n",
              "      <td>0</td>\n",
              "      <td>0</td>\n",
              "      <td>0</td>\n",
              "      <td>0</td>\n",
              "      <td>0</td>\n",
              "      <td>0</td>\n",
              "      <td>0</td>\n",
              "      <td>0</td>\n",
              "      <td>0</td>\n",
              "      <td>0</td>\n",
              "      <td>1</td>\n",
              "      <td>0</td>\n",
              "      <td>0</td>\n",
              "      <td>0</td>\n",
              "      <td>0</td>\n",
              "      <td>0</td>\n",
              "      <td>0</td>\n",
              "      <td>0</td>\n",
              "      <td>0</td>\n",
              "      <td>0</td>\n",
              "      <td>0</td>\n",
              "      <td>0</td>\n",
              "      <td>0</td>\n",
              "      <td>0</td>\n",
              "      <td>1</td>\n",
              "      <td>0</td>\n",
              "      <td>0</td>\n",
              "      <td>0</td>\n",
              "      <td>0</td>\n",
              "      <td>0</td>\n",
              "      <td>0</td>\n",
              "      <td>0</td>\n",
              "      <td>0</td>\n",
              "      <td>1</td>\n",
              "      <td>0</td>\n",
              "      <td>1</td>\n",
              "      <td>0</td>\n",
              "      <td>...</td>\n",
              "      <td>0</td>\n",
              "      <td>0</td>\n",
              "      <td>0</td>\n",
              "      <td>0</td>\n",
              "      <td>0</td>\n",
              "      <td>0</td>\n",
              "      <td>0</td>\n",
              "      <td>0</td>\n",
              "      <td>0</td>\n",
              "      <td>0</td>\n",
              "      <td>0</td>\n",
              "      <td>0</td>\n",
              "      <td>0</td>\n",
              "      <td>0</td>\n",
              "      <td>0</td>\n",
              "      <td>0</td>\n",
              "      <td>0</td>\n",
              "      <td>0</td>\n",
              "      <td>0</td>\n",
              "      <td>0</td>\n",
              "      <td>0</td>\n",
              "      <td>0</td>\n",
              "      <td>0</td>\n",
              "      <td>0</td>\n",
              "      <td>0</td>\n",
              "      <td>0</td>\n",
              "      <td>0</td>\n",
              "      <td>0</td>\n",
              "      <td>0</td>\n",
              "      <td>0</td>\n",
              "      <td>0</td>\n",
              "      <td>0</td>\n",
              "      <td>0</td>\n",
              "      <td>0</td>\n",
              "      <td>0</td>\n",
              "      <td>0</td>\n",
              "      <td>0</td>\n",
              "      <td>0</td>\n",
              "      <td>0</td>\n",
              "      <td>0</td>\n",
              "    </tr>\n",
              "    <tr>\n",
              "      <th>...</th>\n",
              "      <td>...</td>\n",
              "      <td>...</td>\n",
              "      <td>...</td>\n",
              "      <td>...</td>\n",
              "      <td>...</td>\n",
              "      <td>...</td>\n",
              "      <td>...</td>\n",
              "      <td>...</td>\n",
              "      <td>...</td>\n",
              "      <td>...</td>\n",
              "      <td>...</td>\n",
              "      <td>...</td>\n",
              "      <td>...</td>\n",
              "      <td>...</td>\n",
              "      <td>...</td>\n",
              "      <td>...</td>\n",
              "      <td>...</td>\n",
              "      <td>...</td>\n",
              "      <td>...</td>\n",
              "      <td>...</td>\n",
              "      <td>...</td>\n",
              "      <td>...</td>\n",
              "      <td>...</td>\n",
              "      <td>...</td>\n",
              "      <td>...</td>\n",
              "      <td>...</td>\n",
              "      <td>...</td>\n",
              "      <td>...</td>\n",
              "      <td>...</td>\n",
              "      <td>...</td>\n",
              "      <td>...</td>\n",
              "      <td>...</td>\n",
              "      <td>...</td>\n",
              "      <td>...</td>\n",
              "      <td>...</td>\n",
              "      <td>...</td>\n",
              "      <td>...</td>\n",
              "      <td>...</td>\n",
              "      <td>...</td>\n",
              "      <td>...</td>\n",
              "      <td>...</td>\n",
              "      <td>...</td>\n",
              "      <td>...</td>\n",
              "      <td>...</td>\n",
              "      <td>...</td>\n",
              "      <td>...</td>\n",
              "      <td>...</td>\n",
              "      <td>...</td>\n",
              "      <td>...</td>\n",
              "      <td>...</td>\n",
              "      <td>...</td>\n",
              "      <td>...</td>\n",
              "      <td>...</td>\n",
              "      <td>...</td>\n",
              "      <td>...</td>\n",
              "      <td>...</td>\n",
              "      <td>...</td>\n",
              "      <td>...</td>\n",
              "      <td>...</td>\n",
              "      <td>...</td>\n",
              "      <td>...</td>\n",
              "      <td>...</td>\n",
              "      <td>...</td>\n",
              "      <td>...</td>\n",
              "      <td>...</td>\n",
              "      <td>...</td>\n",
              "      <td>...</td>\n",
              "      <td>...</td>\n",
              "      <td>...</td>\n",
              "      <td>...</td>\n",
              "      <td>...</td>\n",
              "      <td>...</td>\n",
              "      <td>...</td>\n",
              "      <td>...</td>\n",
              "      <td>...</td>\n",
              "      <td>...</td>\n",
              "      <td>...</td>\n",
              "      <td>...</td>\n",
              "      <td>...</td>\n",
              "      <td>...</td>\n",
              "      <td>...</td>\n",
              "    </tr>\n",
              "    <tr>\n",
              "      <th>77491</th>\n",
              "      <td>0</td>\n",
              "      <td>0</td>\n",
              "      <td>1</td>\n",
              "      <td>0</td>\n",
              "      <td>0</td>\n",
              "      <td>0</td>\n",
              "      <td>0</td>\n",
              "      <td>0</td>\n",
              "      <td>0</td>\n",
              "      <td>0</td>\n",
              "      <td>0</td>\n",
              "      <td>0</td>\n",
              "      <td>0</td>\n",
              "      <td>1</td>\n",
              "      <td>0</td>\n",
              "      <td>0</td>\n",
              "      <td>0</td>\n",
              "      <td>0</td>\n",
              "      <td>0</td>\n",
              "      <td>0</td>\n",
              "      <td>0</td>\n",
              "      <td>0</td>\n",
              "      <td>0</td>\n",
              "      <td>0</td>\n",
              "      <td>0</td>\n",
              "      <td>0</td>\n",
              "      <td>0</td>\n",
              "      <td>1</td>\n",
              "      <td>0</td>\n",
              "      <td>0</td>\n",
              "      <td>0</td>\n",
              "      <td>0</td>\n",
              "      <td>0</td>\n",
              "      <td>0</td>\n",
              "      <td>0</td>\n",
              "      <td>0</td>\n",
              "      <td>1</td>\n",
              "      <td>0</td>\n",
              "      <td>1</td>\n",
              "      <td>0</td>\n",
              "      <td>...</td>\n",
              "      <td>0</td>\n",
              "      <td>0</td>\n",
              "      <td>0</td>\n",
              "      <td>0</td>\n",
              "      <td>0</td>\n",
              "      <td>0</td>\n",
              "      <td>0</td>\n",
              "      <td>0</td>\n",
              "      <td>0</td>\n",
              "      <td>0</td>\n",
              "      <td>0</td>\n",
              "      <td>0</td>\n",
              "      <td>0</td>\n",
              "      <td>0</td>\n",
              "      <td>0</td>\n",
              "      <td>0</td>\n",
              "      <td>0</td>\n",
              "      <td>0</td>\n",
              "      <td>0</td>\n",
              "      <td>0</td>\n",
              "      <td>0</td>\n",
              "      <td>0</td>\n",
              "      <td>0</td>\n",
              "      <td>0</td>\n",
              "      <td>0</td>\n",
              "      <td>0</td>\n",
              "      <td>0</td>\n",
              "      <td>0</td>\n",
              "      <td>0</td>\n",
              "      <td>0</td>\n",
              "      <td>0</td>\n",
              "      <td>0</td>\n",
              "      <td>0</td>\n",
              "      <td>0</td>\n",
              "      <td>0</td>\n",
              "      <td>0</td>\n",
              "      <td>0</td>\n",
              "      <td>0</td>\n",
              "      <td>0</td>\n",
              "      <td>0</td>\n",
              "    </tr>\n",
              "    <tr>\n",
              "      <th>77492</th>\n",
              "      <td>0</td>\n",
              "      <td>0</td>\n",
              "      <td>1</td>\n",
              "      <td>0</td>\n",
              "      <td>0</td>\n",
              "      <td>0</td>\n",
              "      <td>0</td>\n",
              "      <td>0</td>\n",
              "      <td>0</td>\n",
              "      <td>0</td>\n",
              "      <td>0</td>\n",
              "      <td>0</td>\n",
              "      <td>0</td>\n",
              "      <td>1</td>\n",
              "      <td>0</td>\n",
              "      <td>0</td>\n",
              "      <td>0</td>\n",
              "      <td>0</td>\n",
              "      <td>0</td>\n",
              "      <td>0</td>\n",
              "      <td>0</td>\n",
              "      <td>0</td>\n",
              "      <td>0</td>\n",
              "      <td>0</td>\n",
              "      <td>0</td>\n",
              "      <td>0</td>\n",
              "      <td>0</td>\n",
              "      <td>0</td>\n",
              "      <td>0</td>\n",
              "      <td>0</td>\n",
              "      <td>0</td>\n",
              "      <td>1</td>\n",
              "      <td>0</td>\n",
              "      <td>0</td>\n",
              "      <td>0</td>\n",
              "      <td>0</td>\n",
              "      <td>1</td>\n",
              "      <td>0</td>\n",
              "      <td>1</td>\n",
              "      <td>0</td>\n",
              "      <td>...</td>\n",
              "      <td>0</td>\n",
              "      <td>0</td>\n",
              "      <td>0</td>\n",
              "      <td>0</td>\n",
              "      <td>0</td>\n",
              "      <td>0</td>\n",
              "      <td>0</td>\n",
              "      <td>0</td>\n",
              "      <td>0</td>\n",
              "      <td>0</td>\n",
              "      <td>0</td>\n",
              "      <td>0</td>\n",
              "      <td>0</td>\n",
              "      <td>0</td>\n",
              "      <td>0</td>\n",
              "      <td>0</td>\n",
              "      <td>0</td>\n",
              "      <td>0</td>\n",
              "      <td>0</td>\n",
              "      <td>0</td>\n",
              "      <td>0</td>\n",
              "      <td>0</td>\n",
              "      <td>0</td>\n",
              "      <td>0</td>\n",
              "      <td>0</td>\n",
              "      <td>0</td>\n",
              "      <td>0</td>\n",
              "      <td>0</td>\n",
              "      <td>0</td>\n",
              "      <td>0</td>\n",
              "      <td>0</td>\n",
              "      <td>0</td>\n",
              "      <td>0</td>\n",
              "      <td>0</td>\n",
              "      <td>0</td>\n",
              "      <td>0</td>\n",
              "      <td>0</td>\n",
              "      <td>0</td>\n",
              "      <td>0</td>\n",
              "      <td>0</td>\n",
              "    </tr>\n",
              "    <tr>\n",
              "      <th>77493</th>\n",
              "      <td>0</td>\n",
              "      <td>0</td>\n",
              "      <td>1</td>\n",
              "      <td>0</td>\n",
              "      <td>0</td>\n",
              "      <td>0</td>\n",
              "      <td>0</td>\n",
              "      <td>0</td>\n",
              "      <td>0</td>\n",
              "      <td>0</td>\n",
              "      <td>0</td>\n",
              "      <td>0</td>\n",
              "      <td>0</td>\n",
              "      <td>1</td>\n",
              "      <td>0</td>\n",
              "      <td>0</td>\n",
              "      <td>0</td>\n",
              "      <td>0</td>\n",
              "      <td>0</td>\n",
              "      <td>0</td>\n",
              "      <td>0</td>\n",
              "      <td>0</td>\n",
              "      <td>0</td>\n",
              "      <td>0</td>\n",
              "      <td>0</td>\n",
              "      <td>0</td>\n",
              "      <td>0</td>\n",
              "      <td>1</td>\n",
              "      <td>0</td>\n",
              "      <td>0</td>\n",
              "      <td>0</td>\n",
              "      <td>0</td>\n",
              "      <td>0</td>\n",
              "      <td>0</td>\n",
              "      <td>0</td>\n",
              "      <td>0</td>\n",
              "      <td>1</td>\n",
              "      <td>0</td>\n",
              "      <td>1</td>\n",
              "      <td>0</td>\n",
              "      <td>...</td>\n",
              "      <td>0</td>\n",
              "      <td>0</td>\n",
              "      <td>0</td>\n",
              "      <td>0</td>\n",
              "      <td>0</td>\n",
              "      <td>0</td>\n",
              "      <td>0</td>\n",
              "      <td>0</td>\n",
              "      <td>0</td>\n",
              "      <td>0</td>\n",
              "      <td>0</td>\n",
              "      <td>0</td>\n",
              "      <td>0</td>\n",
              "      <td>0</td>\n",
              "      <td>0</td>\n",
              "      <td>0</td>\n",
              "      <td>0</td>\n",
              "      <td>0</td>\n",
              "      <td>0</td>\n",
              "      <td>0</td>\n",
              "      <td>0</td>\n",
              "      <td>0</td>\n",
              "      <td>0</td>\n",
              "      <td>0</td>\n",
              "      <td>0</td>\n",
              "      <td>0</td>\n",
              "      <td>0</td>\n",
              "      <td>0</td>\n",
              "      <td>0</td>\n",
              "      <td>0</td>\n",
              "      <td>0</td>\n",
              "      <td>0</td>\n",
              "      <td>0</td>\n",
              "      <td>0</td>\n",
              "      <td>0</td>\n",
              "      <td>0</td>\n",
              "      <td>0</td>\n",
              "      <td>0</td>\n",
              "      <td>0</td>\n",
              "      <td>0</td>\n",
              "    </tr>\n",
              "    <tr>\n",
              "      <th>77494</th>\n",
              "      <td>0</td>\n",
              "      <td>0</td>\n",
              "      <td>0</td>\n",
              "      <td>0</td>\n",
              "      <td>0</td>\n",
              "      <td>1</td>\n",
              "      <td>0</td>\n",
              "      <td>0</td>\n",
              "      <td>0</td>\n",
              "      <td>0</td>\n",
              "      <td>0</td>\n",
              "      <td>0</td>\n",
              "      <td>0</td>\n",
              "      <td>1</td>\n",
              "      <td>0</td>\n",
              "      <td>0</td>\n",
              "      <td>0</td>\n",
              "      <td>0</td>\n",
              "      <td>0</td>\n",
              "      <td>0</td>\n",
              "      <td>0</td>\n",
              "      <td>0</td>\n",
              "      <td>0</td>\n",
              "      <td>1</td>\n",
              "      <td>0</td>\n",
              "      <td>0</td>\n",
              "      <td>0</td>\n",
              "      <td>0</td>\n",
              "      <td>0</td>\n",
              "      <td>0</td>\n",
              "      <td>0</td>\n",
              "      <td>0</td>\n",
              "      <td>0</td>\n",
              "      <td>0</td>\n",
              "      <td>0</td>\n",
              "      <td>0</td>\n",
              "      <td>1</td>\n",
              "      <td>0</td>\n",
              "      <td>1</td>\n",
              "      <td>0</td>\n",
              "      <td>...</td>\n",
              "      <td>0</td>\n",
              "      <td>0</td>\n",
              "      <td>0</td>\n",
              "      <td>0</td>\n",
              "      <td>0</td>\n",
              "      <td>0</td>\n",
              "      <td>0</td>\n",
              "      <td>0</td>\n",
              "      <td>0</td>\n",
              "      <td>0</td>\n",
              "      <td>1</td>\n",
              "      <td>0</td>\n",
              "      <td>0</td>\n",
              "      <td>0</td>\n",
              "      <td>0</td>\n",
              "      <td>0</td>\n",
              "      <td>0</td>\n",
              "      <td>0</td>\n",
              "      <td>0</td>\n",
              "      <td>0</td>\n",
              "      <td>0</td>\n",
              "      <td>0</td>\n",
              "      <td>0</td>\n",
              "      <td>0</td>\n",
              "      <td>0</td>\n",
              "      <td>0</td>\n",
              "      <td>0</td>\n",
              "      <td>0</td>\n",
              "      <td>0</td>\n",
              "      <td>0</td>\n",
              "      <td>0</td>\n",
              "      <td>0</td>\n",
              "      <td>0</td>\n",
              "      <td>0</td>\n",
              "      <td>0</td>\n",
              "      <td>0</td>\n",
              "      <td>0</td>\n",
              "      <td>0</td>\n",
              "      <td>0</td>\n",
              "      <td>0</td>\n",
              "    </tr>\n",
              "    <tr>\n",
              "      <th>77495</th>\n",
              "      <td>0</td>\n",
              "      <td>0</td>\n",
              "      <td>1</td>\n",
              "      <td>0</td>\n",
              "      <td>0</td>\n",
              "      <td>0</td>\n",
              "      <td>0</td>\n",
              "      <td>0</td>\n",
              "      <td>0</td>\n",
              "      <td>0</td>\n",
              "      <td>0</td>\n",
              "      <td>0</td>\n",
              "      <td>0</td>\n",
              "      <td>1</td>\n",
              "      <td>0</td>\n",
              "      <td>0</td>\n",
              "      <td>0</td>\n",
              "      <td>0</td>\n",
              "      <td>0</td>\n",
              "      <td>0</td>\n",
              "      <td>0</td>\n",
              "      <td>0</td>\n",
              "      <td>0</td>\n",
              "      <td>0</td>\n",
              "      <td>0</td>\n",
              "      <td>0</td>\n",
              "      <td>0</td>\n",
              "      <td>0</td>\n",
              "      <td>0</td>\n",
              "      <td>0</td>\n",
              "      <td>0</td>\n",
              "      <td>1</td>\n",
              "      <td>0</td>\n",
              "      <td>0</td>\n",
              "      <td>0</td>\n",
              "      <td>0</td>\n",
              "      <td>1</td>\n",
              "      <td>0</td>\n",
              "      <td>1</td>\n",
              "      <td>0</td>\n",
              "      <td>...</td>\n",
              "      <td>0</td>\n",
              "      <td>0</td>\n",
              "      <td>0</td>\n",
              "      <td>0</td>\n",
              "      <td>0</td>\n",
              "      <td>0</td>\n",
              "      <td>0</td>\n",
              "      <td>0</td>\n",
              "      <td>0</td>\n",
              "      <td>0</td>\n",
              "      <td>0</td>\n",
              "      <td>0</td>\n",
              "      <td>0</td>\n",
              "      <td>0</td>\n",
              "      <td>0</td>\n",
              "      <td>0</td>\n",
              "      <td>0</td>\n",
              "      <td>0</td>\n",
              "      <td>0</td>\n",
              "      <td>0</td>\n",
              "      <td>0</td>\n",
              "      <td>0</td>\n",
              "      <td>0</td>\n",
              "      <td>0</td>\n",
              "      <td>0</td>\n",
              "      <td>0</td>\n",
              "      <td>0</td>\n",
              "      <td>0</td>\n",
              "      <td>0</td>\n",
              "      <td>0</td>\n",
              "      <td>0</td>\n",
              "      <td>0</td>\n",
              "      <td>0</td>\n",
              "      <td>0</td>\n",
              "      <td>0</td>\n",
              "      <td>0</td>\n",
              "      <td>0</td>\n",
              "      <td>0</td>\n",
              "      <td>0</td>\n",
              "      <td>0</td>\n",
              "    </tr>\n",
              "  </tbody>\n",
              "</table>\n",
              "<p>77496 rows × 105 columns</p>\n",
              "</div>\n",
              "      <button class=\"colab-df-convert\" onclick=\"convertToInteractive('df-34aa664d-165b-49df-ac53-561d1e1b8c28')\"\n",
              "              title=\"Convert this dataframe to an interactive table.\"\n",
              "              style=\"display:none;\">\n",
              "        \n",
              "  <svg xmlns=\"http://www.w3.org/2000/svg\" height=\"24px\"viewBox=\"0 0 24 24\"\n",
              "       width=\"24px\">\n",
              "    <path d=\"M0 0h24v24H0V0z\" fill=\"none\"/>\n",
              "    <path d=\"M18.56 5.44l.94 2.06.94-2.06 2.06-.94-2.06-.94-.94-2.06-.94 2.06-2.06.94zm-11 1L8.5 8.5l.94-2.06 2.06-.94-2.06-.94L8.5 2.5l-.94 2.06-2.06.94zm10 10l.94 2.06.94-2.06 2.06-.94-2.06-.94-.94-2.06-.94 2.06-2.06.94z\"/><path d=\"M17.41 7.96l-1.37-1.37c-.4-.4-.92-.59-1.43-.59-.52 0-1.04.2-1.43.59L10.3 9.45l-7.72 7.72c-.78.78-.78 2.05 0 2.83L4 21.41c.39.39.9.59 1.41.59.51 0 1.02-.2 1.41-.59l7.78-7.78 2.81-2.81c.8-.78.8-2.07 0-2.86zM5.41 20L4 18.59l7.72-7.72 1.47 1.35L5.41 20z\"/>\n",
              "  </svg>\n",
              "      </button>\n",
              "      \n",
              "  <style>\n",
              "    .colab-df-container {\n",
              "      display:flex;\n",
              "      flex-wrap:wrap;\n",
              "      gap: 12px;\n",
              "    }\n",
              "\n",
              "    .colab-df-convert {\n",
              "      background-color: #E8F0FE;\n",
              "      border: none;\n",
              "      border-radius: 50%;\n",
              "      cursor: pointer;\n",
              "      display: none;\n",
              "      fill: #1967D2;\n",
              "      height: 32px;\n",
              "      padding: 0 0 0 0;\n",
              "      width: 32px;\n",
              "    }\n",
              "\n",
              "    .colab-df-convert:hover {\n",
              "      background-color: #E2EBFA;\n",
              "      box-shadow: 0px 1px 2px rgba(60, 64, 67, 0.3), 0px 1px 3px 1px rgba(60, 64, 67, 0.15);\n",
              "      fill: #174EA6;\n",
              "    }\n",
              "\n",
              "    [theme=dark] .colab-df-convert {\n",
              "      background-color: #3B4455;\n",
              "      fill: #D2E3FC;\n",
              "    }\n",
              "\n",
              "    [theme=dark] .colab-df-convert:hover {\n",
              "      background-color: #434B5C;\n",
              "      box-shadow: 0px 1px 3px 1px rgba(0, 0, 0, 0.15);\n",
              "      filter: drop-shadow(0px 1px 2px rgba(0, 0, 0, 0.3));\n",
              "      fill: #FFFFFF;\n",
              "    }\n",
              "  </style>\n",
              "\n",
              "      <script>\n",
              "        const buttonEl =\n",
              "          document.querySelector('#df-34aa664d-165b-49df-ac53-561d1e1b8c28 button.colab-df-convert');\n",
              "        buttonEl.style.display =\n",
              "          google.colab.kernel.accessAllowed ? 'block' : 'none';\n",
              "\n",
              "        async function convertToInteractive(key) {\n",
              "          const element = document.querySelector('#df-34aa664d-165b-49df-ac53-561d1e1b8c28');\n",
              "          const dataTable =\n",
              "            await google.colab.kernel.invokeFunction('convertToInteractive',\n",
              "                                                     [key], {});\n",
              "          if (!dataTable) return;\n",
              "\n",
              "          const docLinkHtml = 'Like what you see? Visit the ' +\n",
              "            '<a target=\"_blank\" href=https://colab.research.google.com/notebooks/data_table.ipynb>data table notebook</a>'\n",
              "            + ' to learn more about interactive tables.';\n",
              "          element.innerHTML = '';\n",
              "          dataTable['output_type'] = 'display_data';\n",
              "          await google.colab.output.renderOutput(dataTable, element);\n",
              "          const docLink = document.createElement('div');\n",
              "          docLink.innerHTML = docLinkHtml;\n",
              "          element.appendChild(docLink);\n",
              "        }\n",
              "      </script>\n",
              "    </div>\n",
              "  </div>\n",
              "  "
            ],
            "text/plain": [
              "       buildingqualitytypeid_2  ...  propertycountylandusecode_96\n",
              "0                            0  ...                             0\n",
              "1                            0  ...                             0\n",
              "2                            0  ...                             0\n",
              "3                            0  ...                             0\n",
              "4                            0  ...                             0\n",
              "...                        ...  ...                           ...\n",
              "77491                        0  ...                             0\n",
              "77492                        0  ...                             0\n",
              "77493                        0  ...                             0\n",
              "77494                        0  ...                             0\n",
              "77495                        0  ...                             0\n",
              "\n",
              "[77496 rows x 105 columns]"
            ]
          },
          "metadata": {},
          "execution_count": 64
        }
      ],
      "source": [
        "df_dummies = pd.get_dummies(\n",
        "    df.loc[:,cat_vars].apply(lambda x : x.astype('category')), \n",
        "    drop_first=True\n",
        ")\n",
        "df_dummies"
      ]
    },
    {
      "cell_type": "code",
      "execution_count": 65,
      "metadata": {
        "id": "_HT2Sw7WPk5u"
      },
      "outputs": [],
      "source": [
        "# Merging dummy varaibles into original data frame\n",
        "df = pd.concat([df,df_dummies],axis = 1)\n",
        "# Dropping original variables\n",
        "df.drop(cat_vars,axis=1,inplace=True)"
      ]
    },
    {
      "cell_type": "code",
      "execution_count": 66,
      "metadata": {
        "colab": {
          "base_uri": "https://localhost:8080/"
        },
        "id": "Kv3DB2vuPk5u",
        "outputId": "8336faaf-05e3-46b4-ee53-ddd09537f35f"
      },
      "outputs": [
        {
          "output_type": "execute_result",
          "data": {
            "text/plain": [
              "(77496, 129)"
            ]
          },
          "metadata": {},
          "execution_count": 66
        }
      ],
      "source": [
        "df.shape"
      ]
    },
    {
      "cell_type": "markdown",
      "source": [
        "Let us visualize some numerical variables"
      ],
      "metadata": {
        "id": "UHrP_o8BLyWR"
      }
    },
    {
      "cell_type": "code",
      "source": [
        "sns.boxplot(df.taxamount)"
      ],
      "metadata": {
        "colab": {
          "base_uri": "https://localhost:8080/",
          "height": 354
        },
        "id": "d4X8of_3L1AI",
        "outputId": "18927902-6911-471c-d33e-5516aabef0be"
      },
      "execution_count": 67,
      "outputs": [
        {
          "output_type": "stream",
          "name": "stderr",
          "text": [
            "/usr/local/lib/python3.7/dist-packages/seaborn/_decorators.py:43: FutureWarning: Pass the following variable as a keyword arg: x. From version 0.12, the only valid positional argument will be `data`, and passing other arguments without an explicit keyword will result in an error or misinterpretation.\n",
            "  FutureWarning\n"
          ]
        },
        {
          "output_type": "execute_result",
          "data": {
            "text/plain": [
              "<matplotlib.axes._subplots.AxesSubplot at 0x7f88c12fcd90>"
            ]
          },
          "metadata": {},
          "execution_count": 67
        },
        {
          "output_type": "display_data",
          "data": {
            "image/png": "[encoded data removed]",
            "text/plain": [
              "<Figure size 432x288 with 1 Axes>"
            ]
          },
          "metadata": {
            "needs_background": "light"
          }
        }
      ]
    },
    {
      "cell_type": "code",
      "source": [
        "df.taxamount.describe(\n",
        "    percentiles = [.25, .5, .75, .8, .9, .95, .98, .99, .999]\n",
        ")"
      ],
      "metadata": {
        "colab": {
          "base_uri": "https://localhost:8080/"
        },
        "id": "aTj-gNQ5NZj9",
        "outputId": "0077a5ba-f6de-4bb3-9e47-59daa0e458ed"
      },
      "execution_count": 68,
      "outputs": [
        {
          "output_type": "execute_result",
          "data": {
            "text/plain": [
              "count     77496.000000\n",
              "mean       6049.916992\n",
              "std        7092.662598\n",
              "min          49.080002\n",
              "25%        2861.619934\n",
              "50%        4559.489990\n",
              "75%        6920.227417\n",
              "80%        7789.779785\n",
              "90%       10938.509766\n",
              "95%       15476.060303\n",
              "98%       23575.699219\n",
              "99%       31953.695410\n",
              "99.9%     80997.916914\n",
              "max      321936.093750\n",
              "Name: taxamount, dtype: float64"
            ]
          },
          "metadata": {},
          "execution_count": 68
        }
      ]
    },
    {
      "cell_type": "code",
      "source": [
        "sns.boxplot(df.calculatedfinishedsquarefeet)"
      ],
      "metadata": {
        "colab": {
          "base_uri": "https://localhost:8080/",
          "height": 354
        },
        "id": "T4-eINV2MOYY",
        "outputId": "0b4ab76f-7982-4481-d469-00e3588784d0"
      },
      "execution_count": 69,
      "outputs": [
        {
          "output_type": "stream",
          "name": "stderr",
          "text": [
            "/usr/local/lib/python3.7/dist-packages/seaborn/_decorators.py:43: FutureWarning: Pass the following variable as a keyword arg: x. From version 0.12, the only valid positional argument will be `data`, and passing other arguments without an explicit keyword will result in an error or misinterpretation.\n",
            "  FutureWarning\n"
          ]
        },
        {
          "output_type": "execute_result",
          "data": {
            "text/plain": [
              "<matplotlib.axes._subplots.AxesSubplot at 0x7f88bf1ad8d0>"
            ]
          },
          "metadata": {},
          "execution_count": 69
        },
        {
          "output_type": "display_data",
          "data": {
            "image/png": "[encoded data removed]",
            "text/plain": [
              "<Figure size 432x288 with 1 Axes>"
            ]
          },
          "metadata": {
            "needs_background": "light"
          }
        }
      ]
    },
    {
      "cell_type": "code",
      "source": [
        "df.calculatedfinishedsquarefeet.describe(\n",
        "    percentiles = [.25, .5, .75, .8, .9, .95, .98, .99, .999]\n",
        ")"
      ],
      "metadata": {
        "colab": {
          "base_uri": "https://localhost:8080/"
        },
        "id": "L73Ck0kUN6DT",
        "outputId": "e60a232c-ef94-4a6e-b94e-e9969055432b"
      },
      "execution_count": 70,
      "outputs": [
        {
          "output_type": "execute_result",
          "data": {
            "text/plain": [
              "count    77496.000000\n",
              "mean      1808.460571\n",
              "std        940.590942\n",
              "min          2.000000\n",
              "25%       1209.000000\n",
              "50%       1571.000000\n",
              "75%       2150.000000\n",
              "80%       2337.000000\n",
              "90%       2924.000000\n",
              "95%       3543.000000\n",
              "98%       4379.000000\n",
              "99%       5173.100000\n",
              "99.9%     8366.020000\n",
              "max      22741.000000\n",
              "Name: calculatedfinishedsquarefeet, dtype: float64"
            ]
          },
          "metadata": {},
          "execution_count": 70
        }
      ]
    },
    {
      "cell_type": "code",
      "source": [
        "sns.boxplot(df.lotsizesquarefeet)"
      ],
      "metadata": {
        "colab": {
          "base_uri": "https://localhost:8080/",
          "height": 354
        },
        "id": "PPGt-yGEMelZ",
        "outputId": "6a661101-77bf-458c-dee9-1aedd1857c67"
      },
      "execution_count": 71,
      "outputs": [
        {
          "output_type": "stream",
          "name": "stderr",
          "text": [
            "/usr/local/lib/python3.7/dist-packages/seaborn/_decorators.py:43: FutureWarning: Pass the following variable as a keyword arg: x. From version 0.12, the only valid positional argument will be `data`, and passing other arguments without an explicit keyword will result in an error or misinterpretation.\n",
            "  FutureWarning\n"
          ]
        },
        {
          "output_type": "execute_result",
          "data": {
            "text/plain": [
              "<matplotlib.axes._subplots.AxesSubplot at 0x7f88bf6c8050>"
            ]
          },
          "metadata": {},
          "execution_count": 71
        },
        {
          "output_type": "display_data",
          "data": {
            "image/png": "[encoded data removed]",
            "text/plain": [
              "<Figure size 432x288 with 1 Axes>"
            ]
          },
          "metadata": {
            "needs_background": "light"
          }
        }
      ]
    },
    {
      "cell_type": "code",
      "source": [
        "df.lotsizesquarefeet.apply(lambda x: x/100000).describe(\n",
        "    percentiles = [.25, .5, .75, .8, .9, .95, .98, .99, .999]\n",
        ")"
      ],
      "metadata": {
        "colab": {
          "base_uri": "https://localhost:8080/"
        },
        "id": "wrFDfAX6q8ts",
        "outputId": "ebb82a46-dc65-4a33-cc14-61aeeedc44d2"
      },
      "execution_count": 72,
      "outputs": [
        {
          "output_type": "execute_result",
          "data": {
            "text/plain": [
              "count    77496.000000\n",
              "mean         0.282315\n",
              "std          1.172900\n",
              "min          0.001670\n",
              "25%          0.057020\n",
              "50%          0.072000\n",
              "75%          0.116000\n",
              "80%          0.153720\n",
              "90%          0.444310\n",
              "95%          1.213020\n",
              "98%          2.596401\n",
              "99%          4.365882\n",
              "99.9%        9.860800\n",
              "max         69.710100\n",
              "Name: lotsizesquarefeet, dtype: float64"
            ]
          },
          "metadata": {},
          "execution_count": 72
        }
      ]
    },
    {
      "cell_type": "markdown",
      "metadata": {
        "id": "wIjH9aJFPk5v"
      },
      "source": [
        "## 4. Train-Test Split"
      ]
    },
    {
      "cell_type": "code",
      "execution_count": 73,
      "metadata": {
        "id": "EOE7fK-GPk5v"
      },
      "outputs": [],
      "source": [
        "from sklearn.model_selection import train_test_split\n",
        "x_train, x_test, y_train, y_test = train_test_split(\n",
        "    df.drop('logerror', axis = 1),\n",
        "    df['logerror'],\n",
        "    test_size=.51\n",
        ")"
      ]
    },
    {
      "cell_type": "code",
      "execution_count": 74,
      "metadata": {
        "colab": {
          "base_uri": "https://localhost:8080/"
        },
        "id": "WsLnsbo1Pk5w",
        "outputId": "7a141e4e-0b69-4bed-bb45-af7d55b54ced"
      },
      "outputs": [
        {
          "output_type": "execute_result",
          "data": {
            "text/plain": [
              "(37973, 128)"
            ]
          },
          "metadata": {},
          "execution_count": 74
        }
      ],
      "source": [
        "x_train.shape"
      ]
    },
    {
      "cell_type": "code",
      "execution_count": 75,
      "metadata": {
        "colab": {
          "base_uri": "https://localhost:8080/"
        },
        "id": "FNAfTE25Pk5w",
        "outputId": "a5bcb0c2-fa80-4637-a9e3-9017bd87f6ae"
      },
      "outputs": [
        {
          "output_type": "execute_result",
          "data": {
            "text/plain": [
              "(37973,)"
            ]
          },
          "metadata": {},
          "execution_count": 75
        }
      ],
      "source": [
        "y_train.shape"
      ]
    },
    {
      "cell_type": "code",
      "execution_count": 76,
      "metadata": {
        "colab": {
          "base_uri": "https://localhost:8080/"
        },
        "id": "lPpMrdK9Pk5w",
        "outputId": "a8ae1eb8-5a82-4303-8b8a-035ad4a5c0ca"
      },
      "outputs": [
        {
          "output_type": "execute_result",
          "data": {
            "text/plain": [
              "(39523, 128)"
            ]
          },
          "metadata": {},
          "execution_count": 76
        }
      ],
      "source": [
        "x_test.shape"
      ]
    },
    {
      "cell_type": "code",
      "execution_count": 77,
      "metadata": {
        "colab": {
          "base_uri": "https://localhost:8080/"
        },
        "id": "GvVNvIyyPk5x",
        "outputId": "32055923-454e-4c47-a619-cc437ec7b3ad"
      },
      "outputs": [
        {
          "output_type": "execute_result",
          "data": {
            "text/plain": [
              "(39523,)"
            ]
          },
          "metadata": {},
          "execution_count": 77
        }
      ],
      "source": [
        "y_test.shape"
      ]
    },
    {
      "cell_type": "markdown",
      "metadata": {
        "id": "9lGM2vCMPk5x"
      },
      "source": [
        "## 5. Building the Model"
      ]
    },
    {
      "cell_type": "markdown",
      "metadata": {
        "id": "0yN0VGJbPk5x"
      },
      "source": [
        "Scaling features"
      ]
    },
    {
      "cell_type": "code",
      "execution_count": 78,
      "metadata": {
        "id": "L_OhNrOFPk5y"
      },
      "outputs": [],
      "source": [
        "from sklearn.preprocessing import StandardScaler\n",
        "scaler = StandardScaler()\n",
        "x_train_scaled = scaler.fit_transform(\n",
        "    x_train.drop(['transactiondate'], axis = 1)\n",
        ")"
      ]
    },
    {
      "cell_type": "code",
      "execution_count": 79,
      "metadata": {
        "id": "3ADs-bM2Pk5y"
      },
      "outputs": [],
      "source": [
        "x_test_scaled = scaler.transform(\n",
        "    x_test.drop(['transactiondate'], axis = 1)\n",
        ")"
      ]
    },
    {
      "cell_type": "markdown",
      "source": [
        "We need to change the date column to ordinal so that it can be processed by regressors"
      ],
      "metadata": {
        "id": "RlZUaYWy8q36"
      }
    },
    {
      "cell_type": "code",
      "source": [
        "x_train_2 = x_train.copy()\n",
        "x_train_2['transactiondate'] = x_train_2['transactiondate'].apply(lambda x: x.toordinal())\n",
        "x_test_2 = x_test.copy()\n",
        "x_test_2['transactiondate'] = x_test_2['transactiondate'].apply(lambda x: x.toordinal())"
      ],
      "metadata": {
        "id": "52w82e4v8qEC"
      },
      "execution_count": 80,
      "outputs": []
    },
    {
      "cell_type": "markdown",
      "source": [
        "# Ridge Regression using KFold + GridSearchCV"
      ],
      "metadata": {
        "id": "kp2y8XoK80QL"
      }
    },
    {
      "cell_type": "code",
      "source": [
        "import warnings\n",
        "warnings.filterwarnings(\"ignore\", message=\"Ill-conditioned matrix\")\n",
        "#List of parameters (alpha values) to tune\n",
        "params = {'alpha': [0.0001, 0.001, 0.01, 0.05, 0.1, \n",
        " 0.2, 0.3, 0.4, 0.5, 0.6, 0.7, 0.8, 0.9, 1.0, 2.0, 3.0, \n",
        " 4.0, 5.0, 6.0, 7.0, 8.0, 9.0, 10.0, 20, 50, 100, 500, 1000 ]}\n",
        "\n",
        "from sklearn.linear_model import Ridge\n",
        "from sklearn.model_selection import KFold, GridSearchCV\n",
        "ridge = Ridge()\n",
        "%time\n",
        "# cross validation\n",
        "folds = KFold(n_splits = 5, shuffle = True, random_state = 1)\n",
        "model_cv = GridSearchCV(estimator = ridge, \n",
        "                        param_grid = params, \n",
        "                        scoring= 'neg_mean_absolute_error', \n",
        "                        cv = folds, \n",
        "                        return_train_score=True,\n",
        "                        verbose=1)            \n",
        "model_cv.fit(x_train_2, y_train) "
      ],
      "metadata": {
        "id": "8NrWfs1zPk50",
        "colab": {
          "base_uri": "https://localhost:8080/"
        },
        "outputId": "d9af48c7-1307-4b28-c5fb-a65a736d0f8c"
      },
      "execution_count": 81,
      "outputs": [
        {
          "output_type": "stream",
          "name": "stdout",
          "text": [
            "CPU times: user 4 µs, sys: 0 ns, total: 4 µs\n",
            "Wall time: 8.82 µs\n",
            "Fitting 5 folds for each of 28 candidates, totalling 140 fits\n"
          ]
        },
        {
          "output_type": "execute_result",
          "data": {
            "text/plain": [
              "GridSearchCV(cv=KFold(n_splits=5, random_state=1, shuffle=True),\n",
              "             estimator=Ridge(),\n",
              "             param_grid={'alpha': [0.0001, 0.001, 0.01, 0.05, 0.1, 0.2, 0.3,\n",
              "                                   0.4, 0.5, 0.6, 0.7, 0.8, 0.9, 1.0, 2.0, 3.0,\n",
              "                                   4.0, 5.0, 6.0, 7.0, 8.0, 9.0, 10.0, 20, 50,\n",
              "                                   100, 500, 1000]},\n",
              "             return_train_score=True, scoring='neg_mean_absolute_error',\n",
              "             verbose=1)"
            ]
          },
          "metadata": {},
          "execution_count": 81
        }
      ]
    },
    {
      "cell_type": "code",
      "source": [
        "model_cv.best_params_"
      ],
      "metadata": {
        "id": "q2QhbsfIPk50",
        "colab": {
          "base_uri": "https://localhost:8080/"
        },
        "outputId": "c8bfd61e-2a84-41c0-aa0b-2226852a5f98"
      },
      "execution_count": 82,
      "outputs": [
        {
          "output_type": "execute_result",
          "data": {
            "text/plain": [
              "{'alpha': 1000}"
            ]
          },
          "metadata": {},
          "execution_count": 82
        }
      ]
    },
    {
      "cell_type": "code",
      "source": [
        "abs(model_cv.best_score_)"
      ],
      "metadata": {
        "id": "H8msKRwoPk50",
        "colab": {
          "base_uri": "https://localhost:8080/"
        },
        "outputId": "a9ae44f5-e769-4666-eddf-03b3bc8d668a"
      },
      "execution_count": 83,
      "outputs": [
        {
          "output_type": "execute_result",
          "data": {
            "text/plain": [
              "0.06993709245226856"
            ]
          },
          "metadata": {},
          "execution_count": 83
        }
      ]
    },
    {
      "cell_type": "markdown",
      "source": [
        "Since the best param found by GridSearch was the highest one, let us retry with a higher range (10^3 to 10^10)"
      ],
      "metadata": {
        "id": "YaJHrSevJ0hb"
      }
    },
    {
      "cell_type": "code",
      "source": [
        "import warnings\n",
        "warnings.filterwarnings(\"ignore\", message=\"Ill-conditioned matrix\")\n",
        "#List of parameters (alpha values) to tune\n",
        "params = {'alpha': [10**i for i in range(3,10)]}\n",
        "\n",
        "from sklearn.linear_model import Ridge\n",
        "from sklearn.model_selection import KFold, GridSearchCV\n",
        "ridge = Ridge()\n",
        "%time\n",
        "# cross validation\n",
        "folds = KFold(n_splits = 5, shuffle = True, random_state = 1)\n",
        "model_cv2 = GridSearchCV(estimator = ridge, \n",
        "                        param_grid = params, \n",
        "                        scoring= 'neg_mean_absolute_error', \n",
        "                        cv = folds, \n",
        "                        return_train_score=True,\n",
        "                        verbose=1)            \n",
        "model_cv2.fit(x_train_2, y_train) \n",
        "abs(model_cv2.best_score_)"
      ],
      "metadata": {
        "colab": {
          "base_uri": "https://localhost:8080/"
        },
        "id": "Rr55RP6jJWUt",
        "outputId": "52d94eb0-c916-4c6f-fe7b-56789428b6b1"
      },
      "execution_count": 84,
      "outputs": [
        {
          "output_type": "stream",
          "name": "stdout",
          "text": [
            "CPU times: user 7 µs, sys: 0 ns, total: 7 µs\n",
            "Wall time: 7.63 µs\n",
            "Fitting 5 folds for each of 7 candidates, totalling 35 fits\n"
          ]
        },
        {
          "output_type": "execute_result",
          "data": {
            "text/plain": [
              "0.06990869054007437"
            ]
          },
          "metadata": {},
          "execution_count": 84
        }
      ]
    },
    {
      "cell_type": "code",
      "source": [
        "model_cv2.best_params_"
      ],
      "metadata": {
        "colab": {
          "base_uri": "https://localhost:8080/"
        },
        "id": "NX7mPnR4KG5b",
        "outputId": "e9989c69-b22c-4bcc-eaaa-606a6d059169"
      },
      "execution_count": 85,
      "outputs": [
        {
          "output_type": "execute_result",
          "data": {
            "text/plain": [
              "{'alpha': 10000}"
            ]
          },
          "metadata": {},
          "execution_count": 85
        }
      ]
    },
    {
      "cell_type": "code",
      "source": [
        "# Using the best parameter found by grid search\n",
        "from sklearn.metrics import mean_absolute_error as mae\n",
        "ridge2 = Ridge(alpha = 10000)\n",
        "ridge2.fit(x_train_2, y_train)\n",
        "mae(\n",
        "    y_test,\n",
        "    ridge2.predict(x_test_2)\n",
        ")"
      ],
      "metadata": {
        "colab": {
          "base_uri": "https://localhost:8080/"
        },
        "id": "qGEhQIwfJlnU",
        "outputId": "6c849dce-34e9-4741-bc8e-6043a4a88f10"
      },
      "execution_count": 86,
      "outputs": [
        {
          "output_type": "execute_result",
          "data": {
            "text/plain": [
              "0.06886721416093601"
            ]
          },
          "metadata": {},
          "execution_count": 86
        }
      ]
    },
    {
      "cell_type": "markdown",
      "source": [
        "We have obtained an MAE of 0.0688 using Ridge regression on the test set"
      ],
      "metadata": {
        "id": "bB6sZM-J--Vq"
      }
    },
    {
      "cell_type": "markdown",
      "source": [
        "# Random Forest Regressor"
      ],
      "metadata": {
        "id": "bG_o9Dy4_HF7"
      }
    },
    {
      "cell_type": "code",
      "execution_count": 87,
      "metadata": {
        "colab": {
          "base_uri": "https://localhost:8080/"
        },
        "id": "UU0pPjQ3Pk51",
        "outputId": "9d1970c7-d30c-43e9-ddca-814c5e1e968e"
      },
      "outputs": [
        {
          "output_type": "execute_result",
          "data": {
            "text/plain": [
              "RandomForestRegressor(max_depth=10, min_samples_leaf=2, n_estimators=150,\n",
              "                      random_state=42)"
            ]
          },
          "metadata": {},
          "execution_count": 87
        }
      ],
      "source": [
        "from sklearn.ensemble import RandomForestRegressor\n",
        "rf = RandomForestRegressor(\n",
        "    n_estimators = 150, random_state = 42,\n",
        "    max_depth=10,\n",
        "    min_samples_leaf=2\n",
        ")\n",
        "rf.fit(x_train_2, y_train)"
      ]
    },
    {
      "cell_type": "markdown",
      "source": [
        "MAE"
      ],
      "metadata": {
        "id": "b2WN1UIK8R_z"
      }
    },
    {
      "cell_type": "code",
      "source": [
        "print('Train MAE: ', end = '')\n",
        "print(mae(y_train, rf.predict(x_train_2)))\n",
        "print('Test MAE: ', end = '')\n",
        "print(mae(y_test, rf.predict(x_test_2)))"
      ],
      "metadata": {
        "colab": {
          "base_uri": "https://localhost:8080/"
        },
        "id": "4vh0Ef7PKU2x",
        "outputId": "172e1d17-7179-404a-e94c-6a8c9901cfa9"
      },
      "execution_count": 88,
      "outputs": [
        {
          "output_type": "stream",
          "name": "stdout",
          "text": [
            "Train MAE: 0.06826542702740168\n",
            "Test MAE: 0.06971459867553527\n"
          ]
        }
      ]
    },
    {
      "cell_type": "markdown",
      "source": [
        "We might be able to improve the model performance on test data by making sure it is not overfitting. We can do so by further bumping up the number of estimators and the minimum samples per leaf."
      ],
      "metadata": {
        "id": "_ZoYphAQHY9V"
      }
    },
    {
      "cell_type": "code",
      "source": [
        "rf2 = RandomForestRegressor(\n",
        "    n_estimators = 300, random_state = 42,\n",
        "    max_depth=10,\n",
        "    min_samples_leaf=3,\n",
        ")\n",
        "rf2.fit(x_train_2, y_train)\n",
        "print('Train MAE: ', end = '')\n",
        "print(mae(y_train, rf2.predict(x_train_2)))\n",
        "print('Test MAE: ', end = '')\n",
        "print(mae(y_test, rf2.predict(x_test_2)))"
      ],
      "metadata": {
        "colab": {
          "base_uri": "https://localhost:8080/"
        },
        "id": "A-l3M-GnDhWz",
        "outputId": "5d829439-6223-400c-f268-35495286125a"
      },
      "execution_count": 89,
      "outputs": [
        {
          "output_type": "stream",
          "name": "stdout",
          "text": [
            "Train MAE: 0.0683701658268071\n",
            "Test MAE: 0.06958823451043156\n"
          ]
        }
      ]
    },
    {
      "cell_type": "markdown",
      "source": [
        "A decent performance gain! We now have a test set MAE of 0.0695"
      ],
      "metadata": {
        "id": "yvAHS9zkHlf2"
      }
    },
    {
      "cell_type": "markdown",
      "source": [
        "Let us take a look at the feature importance for the Ridge regressor we previously built"
      ],
      "metadata": {
        "id": "-lYzbH2eO-I8"
      }
    },
    {
      "cell_type": "code",
      "source": [
        "coef_df = pd.DataFrame(\n",
        "    {\n",
        "     'feature':list(x_train_2.columns),\n",
        "     'coef':list(ridge2.coef_)\n",
        "    }\n",
        ")\n",
        "coef_df['mod_coef'] = coef_df.coef.apply(lambda x: abs(x))\n",
        "coef_df.sort_values(by = 'mod_coef', ascending = False).head(20)"
      ],
      "metadata": {
        "colab": {
          "base_uri": "https://localhost:8080/",
          "height": 676
        },
        "id": "B3TaZwp0OMSJ",
        "outputId": "58cd3df2-4cdc-4062-c1b8-f8494e8f4cb1"
      },
      "execution_count": 102,
      "outputs": [
        {
          "output_type": "execute_result",
          "data": {
            "text/html": [
              "\n",
              "  <div id=\"df-a7cbdb89-0e09-46e4-9a3d-689fa79729bb\">\n",
              "    <div class=\"colab-df-container\">\n",
              "      <div>\n",
              "<style scoped>\n",
              "    .dataframe tbody tr th:only-of-type {\n",
              "        vertical-align: middle;\n",
              "    }\n",
              "\n",
              "    .dataframe tbody tr th {\n",
              "        vertical-align: top;\n",
              "    }\n",
              "\n",
              "    .dataframe thead th {\n",
              "        text-align: right;\n",
              "    }\n",
              "</style>\n",
              "<table border=\"1\" class=\"dataframe\">\n",
              "  <thead>\n",
              "    <tr style=\"text-align: right;\">\n",
              "      <th></th>\n",
              "      <th>feature</th>\n",
              "      <th>coef</th>\n",
              "      <th>mod_coef</th>\n",
              "    </tr>\n",
              "  </thead>\n",
              "  <tbody>\n",
              "    <tr>\n",
              "      <th>75</th>\n",
              "      <td>propertycountylandusecode_0101</td>\n",
              "      <td>-0.002459</td>\n",
              "      <td>0.002459</td>\n",
              "    </tr>\n",
              "    <tr>\n",
              "      <th>74</th>\n",
              "      <td>propertycountylandusecode_0100</td>\n",
              "      <td>0.002400</td>\n",
              "      <td>0.002400</td>\n",
              "    </tr>\n",
              "    <tr>\n",
              "      <th>67</th>\n",
              "      <td>regionidzip_964</td>\n",
              "      <td>0.001624</td>\n",
              "      <td>0.001624</td>\n",
              "    </tr>\n",
              "    <tr>\n",
              "      <th>3</th>\n",
              "      <td>bedroomcnt</td>\n",
              "      <td>-0.001332</td>\n",
              "      <td>0.001332</td>\n",
              "    </tr>\n",
              "    <tr>\n",
              "      <th>62</th>\n",
              "      <td>regionidzip_959</td>\n",
              "      <td>-0.001317</td>\n",
              "      <td>0.001317</td>\n",
              "    </tr>\n",
              "    <tr>\n",
              "      <th>54</th>\n",
              "      <td>propertylandusetypeid_266.0</td>\n",
              "      <td>0.001251</td>\n",
              "      <td>0.001251</td>\n",
              "    </tr>\n",
              "    <tr>\n",
              "      <th>26</th>\n",
              "      <td>buildingqualitytypeid_5</td>\n",
              "      <td>0.001170</td>\n",
              "      <td>0.001170</td>\n",
              "    </tr>\n",
              "    <tr>\n",
              "      <th>73</th>\n",
              "      <td>regionidzip_973</td>\n",
              "      <td>-0.001152</td>\n",
              "      <td>0.001152</td>\n",
              "    </tr>\n",
              "    <tr>\n",
              "      <th>8</th>\n",
              "      <td>garagecarcnt</td>\n",
              "      <td>0.001077</td>\n",
              "      <td>0.001077</td>\n",
              "    </tr>\n",
              "    <tr>\n",
              "      <th>28</th>\n",
              "      <td>buildingqualitytypeid_7</td>\n",
              "      <td>0.001031</td>\n",
              "      <td>0.001031</td>\n",
              "    </tr>\n",
              "    <tr>\n",
              "      <th>15</th>\n",
              "      <td>unitcnt</td>\n",
              "      <td>-0.000973</td>\n",
              "      <td>0.000973</td>\n",
              "    </tr>\n",
              "    <tr>\n",
              "      <th>34</th>\n",
              "      <td>fips_6059.0</td>\n",
              "      <td>-0.000969</td>\n",
              "      <td>0.000969</td>\n",
              "    </tr>\n",
              "    <tr>\n",
              "      <th>59</th>\n",
              "      <td>regionidcounty_3101.0</td>\n",
              "      <td>0.000932</td>\n",
              "      <td>0.000932</td>\n",
              "    </tr>\n",
              "    <tr>\n",
              "      <th>61</th>\n",
              "      <td>regionidcounty_3101.0</td>\n",
              "      <td>0.000932</td>\n",
              "      <td>0.000932</td>\n",
              "    </tr>\n",
              "    <tr>\n",
              "      <th>25</th>\n",
              "      <td>buildingqualitytypeid_4</td>\n",
              "      <td>-0.000862</td>\n",
              "      <td>0.000862</td>\n",
              "    </tr>\n",
              "    <tr>\n",
              "      <th>83</th>\n",
              "      <td>propertycountylandusecode_010E</td>\n",
              "      <td>0.000858</td>\n",
              "      <td>0.000858</td>\n",
              "    </tr>\n",
              "    <tr>\n",
              "      <th>24</th>\n",
              "      <td>buildingqualitytypeid_3</td>\n",
              "      <td>-0.000841</td>\n",
              "      <td>0.000841</td>\n",
              "    </tr>\n",
              "    <tr>\n",
              "      <th>4</th>\n",
              "      <td>calculatedbathnbr</td>\n",
              "      <td>-0.000786</td>\n",
              "      <td>0.000786</td>\n",
              "    </tr>\n",
              "    <tr>\n",
              "      <th>2</th>\n",
              "      <td>bathroomcnt</td>\n",
              "      <td>-0.000786</td>\n",
              "      <td>0.000786</td>\n",
              "    </tr>\n",
              "    <tr>\n",
              "      <th>121</th>\n",
              "      <td>propertycountylandusecode_122</td>\n",
              "      <td>-0.000773</td>\n",
              "      <td>0.000773</td>\n",
              "    </tr>\n",
              "  </tbody>\n",
              "</table>\n",
              "</div>\n",
              "      <button class=\"colab-df-convert\" onclick=\"convertToInteractive('df-a7cbdb89-0e09-46e4-9a3d-689fa79729bb')\"\n",
              "              title=\"Convert this dataframe to an interactive table.\"\n",
              "              style=\"display:none;\">\n",
              "        \n",
              "  <svg xmlns=\"http://www.w3.org/2000/svg\" height=\"24px\"viewBox=\"0 0 24 24\"\n",
              "       width=\"24px\">\n",
              "    <path d=\"M0 0h24v24H0V0z\" fill=\"none\"/>\n",
              "    <path d=\"M18.56 5.44l.94 2.06.94-2.06 2.06-.94-2.06-.94-.94-2.06-.94 2.06-2.06.94zm-11 1L8.5 8.5l.94-2.06 2.06-.94-2.06-.94L8.5 2.5l-.94 2.06-2.06.94zm10 10l.94 2.06.94-2.06 2.06-.94-2.06-.94-.94-2.06-.94 2.06-2.06.94z\"/><path d=\"M17.41 7.96l-1.37-1.37c-.4-.4-.92-.59-1.43-.59-.52 0-1.04.2-1.43.59L10.3 9.45l-7.72 7.72c-.78.78-.78 2.05 0 2.83L4 21.41c.39.39.9.59 1.41.59.51 0 1.02-.2 1.41-.59l7.78-7.78 2.81-2.81c.8-.78.8-2.07 0-2.86zM5.41 20L4 18.59l7.72-7.72 1.47 1.35L5.41 20z\"/>\n",
              "  </svg>\n",
              "      </button>\n",
              "      \n",
              "  <style>\n",
              "    .colab-df-container {\n",
              "      display:flex;\n",
              "      flex-wrap:wrap;\n",
              "      gap: 12px;\n",
              "    }\n",
              "\n",
              "    .colab-df-convert {\n",
              "      background-color: #E8F0FE;\n",
              "      border: none;\n",
              "      border-radius: 50%;\n",
              "      cursor: pointer;\n",
              "      display: none;\n",
              "      fill: #1967D2;\n",
              "      height: 32px;\n",
              "      padding: 0 0 0 0;\n",
              "      width: 32px;\n",
              "    }\n",
              "\n",
              "    .colab-df-convert:hover {\n",
              "      background-color: #E2EBFA;\n",
              "      box-shadow: 0px 1px 2px rgba(60, 64, 67, 0.3), 0px 1px 3px 1px rgba(60, 64, 67, 0.15);\n",
              "      fill: #174EA6;\n",
              "    }\n",
              "\n",
              "    [theme=dark] .colab-df-convert {\n",
              "      background-color: #3B4455;\n",
              "      fill: #D2E3FC;\n",
              "    }\n",
              "\n",
              "    [theme=dark] .colab-df-convert:hover {\n",
              "      background-color: #434B5C;\n",
              "      box-shadow: 0px 1px 3px 1px rgba(0, 0, 0, 0.15);\n",
              "      filter: drop-shadow(0px 1px 2px rgba(0, 0, 0, 0.3));\n",
              "      fill: #FFFFFF;\n",
              "    }\n",
              "  </style>\n",
              "\n",
              "      <script>\n",
              "        const buttonEl =\n",
              "          document.querySelector('#df-a7cbdb89-0e09-46e4-9a3d-689fa79729bb button.colab-df-convert');\n",
              "        buttonEl.style.display =\n",
              "          google.colab.kernel.accessAllowed ? 'block' : 'none';\n",
              "\n",
              "        async function convertToInteractive(key) {\n",
              "          const element = document.querySelector('#df-a7cbdb89-0e09-46e4-9a3d-689fa79729bb');\n",
              "          const dataTable =\n",
              "            await google.colab.kernel.invokeFunction('convertToInteractive',\n",
              "                                                     [key], {});\n",
              "          if (!dataTable) return;\n",
              "\n",
              "          const docLinkHtml = 'Like what you see? Visit the ' +\n",
              "            '<a target=\"_blank\" href=https://colab.research.google.com/notebooks/data_table.ipynb>data table notebook</a>'\n",
              "            + ' to learn more about interactive tables.';\n",
              "          element.innerHTML = '';\n",
              "          dataTable['output_type'] = 'display_data';\n",
              "          await google.colab.output.renderOutput(dataTable, element);\n",
              "          const docLink = document.createElement('div');\n",
              "          docLink.innerHTML = docLinkHtml;\n",
              "          element.appendChild(docLink);\n",
              "        }\n",
              "      </script>\n",
              "    </div>\n",
              "  </div>\n",
              "  "
            ],
            "text/plain": [
              "                            feature      coef  mod_coef\n",
              "75   propertycountylandusecode_0101 -0.002459  0.002459\n",
              "74   propertycountylandusecode_0100  0.002400  0.002400\n",
              "67                  regionidzip_964  0.001624  0.001624\n",
              "3                        bedroomcnt -0.001332  0.001332\n",
              "62                  regionidzip_959 -0.001317  0.001317\n",
              "54      propertylandusetypeid_266.0  0.001251  0.001251\n",
              "26          buildingqualitytypeid_5  0.001170  0.001170\n",
              "73                  regionidzip_973 -0.001152  0.001152\n",
              "8                      garagecarcnt  0.001077  0.001077\n",
              "28          buildingqualitytypeid_7  0.001031  0.001031\n",
              "15                          unitcnt -0.000973  0.000973\n",
              "34                      fips_6059.0 -0.000969  0.000969\n",
              "59            regionidcounty_3101.0  0.000932  0.000932\n",
              "61            regionidcounty_3101.0  0.000932  0.000932\n",
              "25          buildingqualitytypeid_4 -0.000862  0.000862\n",
              "83   propertycountylandusecode_010E  0.000858  0.000858\n",
              "24          buildingqualitytypeid_3 -0.000841  0.000841\n",
              "4                 calculatedbathnbr -0.000786  0.000786\n",
              "2                       bathroomcnt -0.000786  0.000786\n",
              "121   propertycountylandusecode_122 -0.000773  0.000773"
            ]
          },
          "metadata": {},
          "execution_count": 102
        }
      ]
    },
    {
      "cell_type": "markdown",
      "source": [
        "We can observe the top contributing features in the output above."
      ],
      "metadata": {
        "id": "3nAYo2WXPcGS"
      }
    },
    {
      "cell_type": "markdown",
      "source": [
        "# Pickle Export"
      ],
      "metadata": {
        "id": "5-n9EtJtK8Ei"
      }
    },
    {
      "cell_type": "markdown",
      "source": [
        "The Ridge regressor seems to show the best stable performance when ran with alpha as 10000. Exporting this model"
      ],
      "metadata": {
        "id": "Hc3eudMxKkMx"
      }
    },
    {
      "cell_type": "code",
      "source": [
        "import pickle\n",
        "pickle.dump(ridge2, open('ridge.model', 'wb'))"
      ],
      "metadata": {
        "id": "aNXtFgjlJB7t"
      },
      "execution_count": 90,
      "outputs": []
    }
  ],
  "metadata": {
    "interpreter": {
      "hash": "06ad71fccb689d5dadba6024781e848a5d174c08cd392464b519921ef6e02108"
    },
    "kernelspec": {
      "display_name": "Python 3.8.12 ('base')",
      "language": "python",
      "name": "python3"
    },
    "language_info": {
      "codemirror_mode": {
        "name": "ipython",
        "version": 3
      },
      "file_extension": ".py",
      "mimetype": "text/x-python",
      "name": "python",
      "nbconvert_exporter": "python",
      "pygments_lexer": "ipython3",
      "version": "3.8.12"
    },
    "orig_nbformat": 4,
    "colab": {
      "name": "Zillow-Zestimate-Prediction.ipynb",
      "provenance": []
    }
  },
  "nbformat": 4,
  "nbformat_minor": 0
}